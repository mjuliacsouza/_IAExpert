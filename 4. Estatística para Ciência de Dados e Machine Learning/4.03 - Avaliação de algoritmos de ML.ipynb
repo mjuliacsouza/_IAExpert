{
 "cells": [
  {
   "cell_type": "markdown",
   "metadata": {},
   "source": [
    "# Avaliação de algoritmos de Machine Learning"
   ]
  },
  {
   "cell_type": "code",
   "execution_count": 1,
   "metadata": {},
   "outputs": [],
   "source": [
    "import pandas as pd\n",
    "import numpy as np"
   ]
  },
  {
   "cell_type": "code",
   "execution_count": 2,
   "metadata": {},
   "outputs": [],
   "source": [
    "from scipy.stats import stats\n",
    "import math\n",
    "import statistics"
   ]
  },
  {
   "cell_type": "code",
   "execution_count": 3,
   "metadata": {},
   "outputs": [],
   "source": [
    "from sklearn.model_selection import train_test_split, cross_val_score, KFold\n",
    "from sklearn.naive_bayes import GaussianNB\n",
    "from sklearn.linear_model import LogisticRegression\n",
    "from sklearn.ensemble import RandomForestClassifier\n",
    "from sklearn.metrics import accuracy_score, confusion_matrix\n",
    "from sklearn.feature_selection import VarianceThreshold\n",
    "from sklearn.preprocessing import MinMaxScaler"
   ]
  },
  {
   "cell_type": "code",
   "execution_count": 4,
   "metadata": {},
   "outputs": [
    {
     "name": "stdout",
     "output_type": "stream",
     "text": [
      "(2000, 5)\n"
     ]
    },
    {
     "data": {
      "text/html": [
       "<div>\n",
       "<style scoped>\n",
       "    .dataframe tbody tr th:only-of-type {\n",
       "        vertical-align: middle;\n",
       "    }\n",
       "\n",
       "    .dataframe tbody tr th {\n",
       "        vertical-align: top;\n",
       "    }\n",
       "\n",
       "    .dataframe thead th {\n",
       "        text-align: right;\n",
       "    }\n",
       "</style>\n",
       "<table border=\"1\" class=\"dataframe\">\n",
       "  <thead>\n",
       "    <tr style=\"text-align: right;\">\n",
       "      <th></th>\n",
       "      <th>i#clientid</th>\n",
       "      <th>income</th>\n",
       "      <th>age</th>\n",
       "      <th>loan</th>\n",
       "      <th>c#default</th>\n",
       "    </tr>\n",
       "  </thead>\n",
       "  <tbody>\n",
       "    <tr>\n",
       "      <th>0</th>\n",
       "      <td>1</td>\n",
       "      <td>66155.925095</td>\n",
       "      <td>59.017015</td>\n",
       "      <td>8106.532131</td>\n",
       "      <td>0</td>\n",
       "    </tr>\n",
       "    <tr>\n",
       "      <th>1</th>\n",
       "      <td>2</td>\n",
       "      <td>34415.153966</td>\n",
       "      <td>48.117153</td>\n",
       "      <td>6564.745018</td>\n",
       "      <td>0</td>\n",
       "    </tr>\n",
       "    <tr>\n",
       "      <th>2</th>\n",
       "      <td>3</td>\n",
       "      <td>57317.170063</td>\n",
       "      <td>63.108049</td>\n",
       "      <td>8020.953296</td>\n",
       "      <td>0</td>\n",
       "    </tr>\n",
       "    <tr>\n",
       "      <th>3</th>\n",
       "      <td>4</td>\n",
       "      <td>42709.534201</td>\n",
       "      <td>45.751972</td>\n",
       "      <td>6103.642260</td>\n",
       "      <td>0</td>\n",
       "    </tr>\n",
       "    <tr>\n",
       "      <th>4</th>\n",
       "      <td>5</td>\n",
       "      <td>66952.688845</td>\n",
       "      <td>18.584336</td>\n",
       "      <td>8770.099235</td>\n",
       "      <td>1</td>\n",
       "    </tr>\n",
       "  </tbody>\n",
       "</table>\n",
       "</div>"
      ],
      "text/plain": [
       "   i#clientid        income        age         loan  c#default\n",
       "0           1  66155.925095  59.017015  8106.532131          0\n",
       "1           2  34415.153966  48.117153  6564.745018          0\n",
       "2           3  57317.170063  63.108049  8020.953296          0\n",
       "3           4  42709.534201  45.751972  6103.642260          0\n",
       "4           5  66952.688845  18.584336  8770.099235          1"
      ]
     },
     "execution_count": 4,
     "metadata": {},
     "output_type": "execute_result"
    }
   ],
   "source": [
    "df_credit = pd.read_csv('Bases de dados/credit_data.csv')\n",
    "print(df_credit.shape)\n",
    "df_credit.head()"
   ]
  },
  {
   "cell_type": "code",
   "execution_count": 5,
   "metadata": {},
   "outputs": [
    {
     "data": {
      "text/plain": [
       "(1997, 5)"
      ]
     },
     "execution_count": 5,
     "metadata": {},
     "output_type": "execute_result"
    }
   ],
   "source": [
    "df_credit.dropna(inplace=True)\n",
    "df_credit.shape"
   ]
  },
  {
   "cell_type": "code",
   "execution_count": 6,
   "metadata": {},
   "outputs": [
    {
     "data": {
      "text/plain": [
       "((1997, 3), (1997,))"
      ]
     },
     "execution_count": 6,
     "metadata": {},
     "output_type": "execute_result"
    }
   ],
   "source": [
    "X = df_credit.iloc[:, 1:4].values\n",
    "y = df_credit.iloc[:, 4].values\n",
    "X.shape, y.shape"
   ]
  },
  {
   "cell_type": "code",
   "execution_count": 7,
   "metadata": {},
   "outputs": [],
   "source": [
    "resultados_naive_bayes = []\n",
    "resultados_logistic = []\n",
    "resultados_forest = []\n",
    "for i in range(30):\n",
    "    X_train, X_test, y_train, y_test = train_test_split(X, y, test_size=0.2, stratify=y, random_state=i)\n",
    "    \n",
    "    # Naive Bayes\n",
    "    naive_bayes = GaussianNB()\n",
    "    naive_bayes.fit(X_train, y_train)\n",
    "    resultados_naive_bayes.append(accuracy_score(y_test, naive_bayes.predict(X_test)))\n",
    "    \n",
    "    # Logisti Regression\n",
    "    logistic = LogisticRegression()\n",
    "    logistic.fit(X_train, y_train)\n",
    "    resultados_logistic.append(accuracy_score(y_test, logistic.predict(X_test)))\n",
    "    \n",
    "    # Random Forest\n",
    "    forest = RandomForestClassifier()\n",
    "    forest.fit(X_train, y_train)\n",
    "    resultados_forest.append(accuracy_score(y_test, forest.predict(X_test)))"
   ]
  },
  {
   "cell_type": "code",
   "execution_count": 8,
   "metadata": {},
   "outputs": [
    {
     "name": "stdout",
     "output_type": "stream",
     "text": [
      "[0.925, 0.925, 0.9325, 0.925, 0.92, 0.905, 0.9175, 0.9175, 0.9125, 0.9325, 0.9225, 0.9125, 0.935, 0.9175, 0.925, 0.9175, 0.9275, 0.92, 0.9325, 0.92, 0.93, 0.905, 0.9175, 0.9325, 0.9425, 0.9375, 0.94, 0.92, 0.935, 0.925]\n"
     ]
    }
   ],
   "source": [
    "print(resultados_naive_bayes)"
   ]
  },
  {
   "cell_type": "code",
   "execution_count": 9,
   "metadata": {},
   "outputs": [
    {
     "name": "stdout",
     "output_type": "stream",
     "text": [
      "[0.9325, 0.91, 0.9125, 0.9225, 0.9075, 0.89, 0.91, 0.9075, 0.8775, 0.915, 0.9175, 0.9, 0.925, 0.9175, 0.9025, 0.9125, 0.9525, 0.91, 0.9225, 0.9075, 0.925, 0.905, 0.9075, 0.945, 0.9225, 0.9275, 0.9225, 0.9175, 0.91, 0.9]\n"
     ]
    }
   ],
   "source": [
    "print(resultados_logistic)"
   ]
  },
  {
   "cell_type": "code",
   "execution_count": 10,
   "metadata": {},
   "outputs": [
    {
     "name": "stdout",
     "output_type": "stream",
     "text": [
      "[0.975, 0.99, 0.9825, 0.99, 0.9775, 0.98, 0.9775, 0.985, 0.9775, 0.9825, 0.9875, 0.9775, 0.975, 0.9875, 0.98, 0.975, 0.9875, 0.985, 0.99, 0.985, 0.9825, 0.9725, 0.9775, 0.985, 0.9875, 0.995, 0.9925, 0.9825, 0.99, 0.9925]\n"
     ]
    }
   ],
   "source": [
    "print(resultados_forest)"
   ]
  },
  {
   "cell_type": "markdown",
   "metadata": {},
   "source": [
    "## Média"
   ]
  },
  {
   "cell_type": "code",
   "execution_count": 11,
   "metadata": {},
   "outputs": [],
   "source": [
    "resultados_naive_bayes = np.array(resultados_naive_bayes)\n",
    "resultados_logistic = np.array(resultados_logistic)\n",
    "resultados_forest = np.array(resultados_forest)"
   ]
  },
  {
   "cell_type": "code",
   "execution_count": 12,
   "metadata": {},
   "outputs": [
    {
     "name": "stdout",
     "output_type": "stream",
     "text": [
      "Naive Bayes: 0.92425\n",
      "Logistic Regression: 0.9145\n",
      "Random Forest:0.9834999999999999\n"
     ]
    }
   ],
   "source": [
    "print(f'Naive Bayes: {resultados_naive_bayes.mean()}')\n",
    "print(f'Logistic Regression: {resultados_logistic.mean()}')\n",
    "print(f'Random Forest:{resultados_forest.mean()}')"
   ]
  },
  {
   "cell_type": "markdown",
   "metadata": {},
   "source": [
    "## Moda"
   ]
  },
  {
   "cell_type": "code",
   "execution_count": 13,
   "metadata": {},
   "outputs": [
    {
     "name": "stdout",
     "output_type": "stream",
     "text": [
      "Naive Bayes: 0.925\n",
      "Logistic Regression: 0.91\n",
      "Random Forest:0.9775\n"
     ]
    }
   ],
   "source": [
    "print(f'Naive Bayes: {statistics.mode(resultados_naive_bayes)}')\n",
    "print(f'Logistic Regression: {statistics.mode(resultados_logistic)}')\n",
    "print(f'Random Forest:{statistics.mode(resultados_forest)}')"
   ]
  },
  {
   "cell_type": "markdown",
   "metadata": {},
   "source": [
    "## Mediana"
   ]
  },
  {
   "cell_type": "code",
   "execution_count": 14,
   "metadata": {},
   "outputs": [
    {
     "name": "stdout",
     "output_type": "stream",
     "text": [
      "Naive Bayes: 0.925\n",
      "Logistic Regression: 0.9125\n",
      "Random Forest:0.98375\n"
     ]
    }
   ],
   "source": [
    "print(f'Naive Bayes: {np.median(resultados_naive_bayes)}')\n",
    "print(f'Logistic Regression: {np.median(resultados_logistic)}')\n",
    "print(f'Random Forest:{np.median(resultados_forest)}')"
   ]
  },
  {
   "cell_type": "markdown",
   "metadata": {},
   "source": [
    "## Variância"
   ]
  },
  {
   "cell_type": "code",
   "execution_count": 15,
   "metadata": {},
   "outputs": [
    {
     "name": "stdout",
     "output_type": "stream",
     "text": [
      "Naive Bayes: 9.058189655172414e-05\n",
      "Logistic Regression: 0.00021655172413793106\n",
      "Random Forest:3.732758620689658e-05\n"
     ]
    }
   ],
   "source": [
    "print(f'Naive Bayes: {statistics.variance(resultados_naive_bayes)}')\n",
    "print(f'Logistic Regression: {statistics.variance(resultados_logistic)}')\n",
    "print(f'Random Forest:{statistics.variance(resultados_forest)}')"
   ]
  },
  {
   "cell_type": "markdown",
   "metadata": {},
   "source": [
    "## Desvio Padrão"
   ]
  },
  {
   "cell_type": "code",
   "execution_count": 16,
   "metadata": {},
   "outputs": [
    {
     "name": "stdout",
     "output_type": "stream",
     "text": [
      "Naive Bayes: 0.009517452209059111\n",
      "Logistic Regression: 0.014715696522350923\n",
      "Random Forest:0.006109630611329672\n"
     ]
    }
   ],
   "source": [
    "print(f'Naive Bayes: {statistics.stdev(resultados_naive_bayes)}')\n",
    "print(f'Logistic Regression: {statistics.stdev(resultados_logistic)}')\n",
    "print(f'Random Forest:{statistics.stdev(resultados_forest)}')"
   ]
  },
  {
   "cell_type": "markdown",
   "metadata": {},
   "source": [
    "## Coeficiente de variação"
   ]
  },
  {
   "cell_type": "code",
   "execution_count": 17,
   "metadata": {},
   "outputs": [
    {
     "name": "stdout",
     "output_type": "stream",
     "text": [
      "Naive Bayes: 1.0124407504578252 %\n",
      "Logistic Regression: 1.5821056616884057 %\n",
      "Random Forest:0.6107717773577396 %\n"
     ]
    }
   ],
   "source": [
    "print(f'Naive Bayes: {stats.variation(resultados_naive_bayes)*100} %')\n",
    "print(f'Logistic Regression: {stats.variation(resultados_logistic)*100} %')\n",
    "print(f'Random Forest:{stats.variation(resultados_forest)*100} %')"
   ]
  },
  {
   "cell_type": "markdown",
   "metadata": {},
   "source": [
    "## EXERCICIO - Validação cruzada"
   ]
  },
  {
   "cell_type": "code",
   "execution_count": 18,
   "metadata": {},
   "outputs": [],
   "source": [
    "resultados_naive_bayes_cv = []\n",
    "resultados_logistic_cv = []\n",
    "resultados_forest_cv = []\n",
    "for i in range(30):\n",
    "    kfold = KFold(n_splits=10, shuffle=True, random_state=i)\n",
    "    \n",
    "    # Naive Bayes\n",
    "    naive_bayes = GaussianNB()\n",
    "    scores = cross_val_score(naive_bayes, X, y, cv=kfold)\n",
    "    resultados_naive_bayes_cv.append(scores.mean())\n",
    "    \n",
    "    # Logisti Regression\n",
    "    logistic = LogisticRegression()\n",
    "    scores = cross_val_score(logistic, X, y, cv=kfold)\n",
    "    resultados_logistic_cv.append(scores.mean())\n",
    "    \n",
    "    # Random Forest\n",
    "    forest = RandomForestClassifier()\n",
    "    scores = cross_val_score(forest, X, y, cv=kfold)\n",
    "    resultados_forest_cv.append(scores.mean())"
   ]
  },
  {
   "cell_type": "markdown",
   "metadata": {},
   "source": [
    "## Média"
   ]
  },
  {
   "cell_type": "code",
   "execution_count": 19,
   "metadata": {},
   "outputs": [],
   "source": [
    "resultados_naive_bayes_cv = np.array(resultados_naive_bayes_cv)\n",
    "resultados_logistic_cv = np.array(resultados_logistic_cv)\n",
    "resultados_forest_cv = np.array(resultados_forest_cv)"
   ]
  },
  {
   "cell_type": "code",
   "execution_count": 20,
   "metadata": {},
   "outputs": [
    {
     "name": "stdout",
     "output_type": "stream",
     "text": [
      "Naive Bayes: 0.9249359296482411\n",
      "Logistic Regression: 0.9137817420435511\n",
      "Random Forest:0.9867640703517588\n"
     ]
    }
   ],
   "source": [
    "print(f'Naive Bayes: {resultados_naive_bayes_cv.mean()}')\n",
    "print(f'Logistic Regression: {resultados_logistic_cv.mean()}')\n",
    "print(f'Random Forest:{resultados_forest_cv.mean()}')"
   ]
  },
  {
   "cell_type": "markdown",
   "metadata": {},
   "source": [
    "## Moda"
   ]
  },
  {
   "cell_type": "code",
   "execution_count": 21,
   "metadata": {},
   "outputs": [
    {
     "name": "stdout",
     "output_type": "stream",
     "text": [
      "Naive Bayes: 0.9248894472361808\n",
      "Logistic Regression: 0.9113718592964826\n",
      "Random Forest:0.9874748743718593\n"
     ]
    }
   ],
   "source": [
    "print(f'Naive Bayes: {statistics.mode(resultados_naive_bayes_cv)}')\n",
    "print(f'Logistic Regression: {statistics.mode(resultados_logistic_cv)}')\n",
    "print(f'Random Forest:{statistics.mode(resultados_forest_cv)}')"
   ]
  },
  {
   "cell_type": "markdown",
   "metadata": {},
   "source": [
    "## Mediana"
   ]
  },
  {
   "cell_type": "code",
   "execution_count": 22,
   "metadata": {},
   "outputs": [
    {
     "name": "stdout",
     "output_type": "stream",
     "text": [
      "Naive Bayes: 0.9248919597989949\n",
      "Logistic Regression: 0.9130979899497487\n",
      "Random Forest:0.9872273869346735\n"
     ]
    }
   ],
   "source": [
    "print(f'Naive Bayes: {np.median(resultados_naive_bayes_cv)}')\n",
    "print(f'Logistic Regression: {np.median(resultados_logistic_cv)}')\n",
    "print(f'Random Forest:{np.median(resultados_forest_cv)}')"
   ]
  },
  {
   "cell_type": "markdown",
   "metadata": {},
   "source": [
    "## Variância"
   ]
  },
  {
   "cell_type": "code",
   "execution_count": 23,
   "metadata": {},
   "outputs": [
    {
     "name": "stdout",
     "output_type": "stream",
     "text": [
      "Naive Bayes: 6.608178433320306e-07\n",
      "Logistic Regression: 1.3004529114700778e-05\n",
      "Random Forest:2.019993116683719e-06\n"
     ]
    }
   ],
   "source": [
    "print(f'Naive Bayes: {statistics.variance(resultados_naive_bayes_cv)}')\n",
    "print(f'Logistic Regression: {statistics.variance(resultados_logistic_cv)}')\n",
    "print(f'Random Forest:{statistics.variance(resultados_forest_cv)}')"
   ]
  },
  {
   "cell_type": "markdown",
   "metadata": {},
   "source": [
    "## Desvio Padrão"
   ]
  },
  {
   "cell_type": "code",
   "execution_count": 24,
   "metadata": {},
   "outputs": [
    {
     "name": "stdout",
     "output_type": "stream",
     "text": [
      "Naive Bayes: 0.0008129070324040939\n",
      "Logistic Regression: 0.003606179295972509\n",
      "Random Forest:0.0014212646188109092\n"
     ]
    }
   ],
   "source": [
    "print(f'Naive Bayes: {statistics.stdev(resultados_naive_bayes_cv)}')\n",
    "print(f'Logistic Regression: {statistics.stdev(resultados_logistic_cv)}')\n",
    "print(f'Random Forest:{statistics.stdev(resultados_forest_cv)}')"
   ]
  },
  {
   "cell_type": "markdown",
   "metadata": {},
   "source": [
    "## Coeficiente de variação"
   ]
  },
  {
   "cell_type": "code",
   "execution_count": 25,
   "metadata": {},
   "outputs": [
    {
     "name": "stdout",
     "output_type": "stream",
     "text": [
      "Naive Bayes: 0.08641071566366061 %\n",
      "Logistic Regression: 0.38801026116292653 %\n",
      "Random Forest:0.14161197789219637 %\n"
     ]
    }
   ],
   "source": [
    "print(f'Naive Bayes: {stats.variation(resultados_naive_bayes_cv)*100} %')\n",
    "print(f'Logistic Regression: {stats.variation(resultados_logistic_cv)*100} %')\n",
    "print(f'Random Forest:{stats.variation(resultados_forest_cv)*100} %')"
   ]
  },
  {
   "cell_type": "markdown",
   "metadata": {},
   "source": [
    "## Seleção de atributos utilizando variância"
   ]
  },
  {
   "cell_type": "code",
   "execution_count": 26,
   "metadata": {},
   "outputs": [
    {
     "data": {
      "text/html": [
       "<div>\n",
       "<style scoped>\n",
       "    .dataframe tbody tr th:only-of-type {\n",
       "        vertical-align: middle;\n",
       "    }\n",
       "\n",
       "    .dataframe tbody tr th {\n",
       "        vertical-align: top;\n",
       "    }\n",
       "\n",
       "    .dataframe thead th {\n",
       "        text-align: right;\n",
       "    }\n",
       "</style>\n",
       "<table border=\"1\" class=\"dataframe\">\n",
       "  <thead>\n",
       "    <tr style=\"text-align: right;\">\n",
       "      <th></th>\n",
       "      <th>a</th>\n",
       "      <th>b</th>\n",
       "      <th>classe</th>\n",
       "    </tr>\n",
       "  </thead>\n",
       "  <tbody>\n",
       "    <tr>\n",
       "      <th>0</th>\n",
       "      <td>0.086426</td>\n",
       "      <td>0.5</td>\n",
       "      <td>1</td>\n",
       "    </tr>\n",
       "    <tr>\n",
       "      <th>1</th>\n",
       "      <td>0.249144</td>\n",
       "      <td>0.5</td>\n",
       "      <td>1</td>\n",
       "    </tr>\n",
       "    <tr>\n",
       "      <th>2</th>\n",
       "      <td>0.808004</td>\n",
       "      <td>0.5</td>\n",
       "      <td>0</td>\n",
       "    </tr>\n",
       "    <tr>\n",
       "      <th>3</th>\n",
       "      <td>0.424204</td>\n",
       "      <td>0.5</td>\n",
       "      <td>0</td>\n",
       "    </tr>\n",
       "    <tr>\n",
       "      <th>4</th>\n",
       "      <td>0.536505</td>\n",
       "      <td>0.5</td>\n",
       "      <td>1</td>\n",
       "    </tr>\n",
       "  </tbody>\n",
       "</table>\n",
       "</div>"
      ],
      "text/plain": [
       "          a    b  classe\n",
       "0  0.086426  0.5       1\n",
       "1  0.249144  0.5       1\n",
       "2  0.808004  0.5       0\n",
       "3  0.424204  0.5       0\n",
       "4  0.536505  0.5       1"
      ]
     },
     "execution_count": 26,
     "metadata": {},
     "output_type": "execute_result"
    }
   ],
   "source": [
    "base_selecao = {'a': np.random.rand(20), \n",
    "                'b': np.array([0.5] * 20), \n",
    "                'classe': np.random.randint(0, 2, size=20)}\n",
    "base_selecao = pd.DataFrame(base_selecao)\n",
    "base_selecao.head()"
   ]
  },
  {
   "cell_type": "code",
   "execution_count": 27,
   "metadata": {},
   "outputs": [
    {
     "data": {
      "text/html": [
       "<div>\n",
       "<style scoped>\n",
       "    .dataframe tbody tr th:only-of-type {\n",
       "        vertical-align: middle;\n",
       "    }\n",
       "\n",
       "    .dataframe tbody tr th {\n",
       "        vertical-align: top;\n",
       "    }\n",
       "\n",
       "    .dataframe thead th {\n",
       "        text-align: right;\n",
       "    }\n",
       "</style>\n",
       "<table border=\"1\" class=\"dataframe\">\n",
       "  <thead>\n",
       "    <tr style=\"text-align: right;\">\n",
       "      <th></th>\n",
       "      <th>count</th>\n",
       "      <th>mean</th>\n",
       "      <th>std</th>\n",
       "      <th>min</th>\n",
       "      <th>25%</th>\n",
       "      <th>50%</th>\n",
       "      <th>75%</th>\n",
       "      <th>max</th>\n",
       "    </tr>\n",
       "  </thead>\n",
       "  <tbody>\n",
       "    <tr>\n",
       "      <th>a</th>\n",
       "      <td>20.0</td>\n",
       "      <td>0.415997</td>\n",
       "      <td>0.283576</td>\n",
       "      <td>0.078285</td>\n",
       "      <td>0.217089</td>\n",
       "      <td>0.34051</td>\n",
       "      <td>0.580445</td>\n",
       "      <td>0.967914</td>\n",
       "    </tr>\n",
       "    <tr>\n",
       "      <th>b</th>\n",
       "      <td>20.0</td>\n",
       "      <td>0.500000</td>\n",
       "      <td>0.000000</td>\n",
       "      <td>0.500000</td>\n",
       "      <td>0.500000</td>\n",
       "      <td>0.50000</td>\n",
       "      <td>0.500000</td>\n",
       "      <td>0.500000</td>\n",
       "    </tr>\n",
       "    <tr>\n",
       "      <th>classe</th>\n",
       "      <td>20.0</td>\n",
       "      <td>0.350000</td>\n",
       "      <td>0.489360</td>\n",
       "      <td>0.000000</td>\n",
       "      <td>0.000000</td>\n",
       "      <td>0.00000</td>\n",
       "      <td>1.000000</td>\n",
       "      <td>1.000000</td>\n",
       "    </tr>\n",
       "  </tbody>\n",
       "</table>\n",
       "</div>"
      ],
      "text/plain": [
       "        count      mean       std       min       25%      50%       75%  \\\n",
       "a        20.0  0.415997  0.283576  0.078285  0.217089  0.34051  0.580445   \n",
       "b        20.0  0.500000  0.000000  0.500000  0.500000  0.50000  0.500000   \n",
       "classe   20.0  0.350000  0.489360  0.000000  0.000000  0.00000  1.000000   \n",
       "\n",
       "             max  \n",
       "a       0.967914  \n",
       "b       0.500000  \n",
       "classe  1.000000  "
      ]
     },
     "execution_count": 27,
     "metadata": {},
     "output_type": "execute_result"
    }
   ],
   "source": [
    "base_selecao.describe(include='all').T"
   ]
  },
  {
   "cell_type": "code",
   "execution_count": 28,
   "metadata": {},
   "outputs": [
    {
     "data": {
      "text/plain": [
       "(0.0763943990873169, 0.0)"
      ]
     },
     "execution_count": 28,
     "metadata": {},
     "output_type": "execute_result"
    }
   ],
   "source": [
    "np.var(base_selecao['a']), np.var(base_selecao['b'])"
   ]
  },
  {
   "cell_type": "code",
   "execution_count": 29,
   "metadata": {},
   "outputs": [
    {
     "data": {
      "text/plain": [
       "(0.2763953673405488, 0.0)"
      ]
     },
     "execution_count": 29,
     "metadata": {},
     "output_type": "execute_result"
    }
   ],
   "source": [
    "math.sqrt(np.var(base_selecao['a'])), math.sqrt(np.var(base_selecao['b']))"
   ]
  },
  {
   "cell_type": "code",
   "execution_count": 30,
   "metadata": {},
   "outputs": [
    {
     "data": {
      "text/plain": [
       "((20, 2), (20,))"
      ]
     },
     "execution_count": 30,
     "metadata": {},
     "output_type": "execute_result"
    }
   ],
   "source": [
    "X = base_selecao.iloc[:, 0:2].values\n",
    "y = base_selecao.iloc[:, 2].values\n",
    "X.shape, y.shape"
   ]
  },
  {
   "cell_type": "code",
   "execution_count": 31,
   "metadata": {},
   "outputs": [
    {
     "data": {
      "text/plain": [
       "(20, 1)"
      ]
     },
     "execution_count": 31,
     "metadata": {},
     "output_type": "execute_result"
    }
   ],
   "source": [
    "selecao = VarianceThreshold(threshold=0.05)\n",
    "X_novo = selecao.fit_transform(X)\n",
    "X_novo.shape"
   ]
  },
  {
   "cell_type": "code",
   "execution_count": 32,
   "metadata": {},
   "outputs": [
    {
     "data": {
      "text/plain": [
       "array([0.0763944, 0.       ])"
      ]
     },
     "execution_count": 32,
     "metadata": {},
     "output_type": "execute_result"
    }
   ],
   "source": [
    "selecao.variances_"
   ]
  },
  {
   "cell_type": "code",
   "execution_count": 33,
   "metadata": {},
   "outputs": [
    {
     "data": {
      "text/plain": [
       "(array([0], dtype=int64),)"
      ]
     },
     "execution_count": 33,
     "metadata": {},
     "output_type": "execute_result"
    }
   ],
   "source": [
    "indices = np.where(selecao.variances_ > 0.05)\n",
    "indices"
   ]
  },
  {
   "cell_type": "markdown",
   "metadata": {},
   "source": [
    "Registros com variancia zero pode ser excluido da base de dados!"
   ]
  },
  {
   "cell_type": "markdown",
   "metadata": {},
   "source": [
    "## EXERCICIO"
   ]
  },
  {
   "cell_type": "code",
   "execution_count": 34,
   "metadata": {},
   "outputs": [
    {
     "name": "stdout",
     "output_type": "stream",
     "text": [
      "(1997, 5)\n"
     ]
    },
    {
     "data": {
      "text/html": [
       "<div>\n",
       "<style scoped>\n",
       "    .dataframe tbody tr th:only-of-type {\n",
       "        vertical-align: middle;\n",
       "    }\n",
       "\n",
       "    .dataframe tbody tr th {\n",
       "        vertical-align: top;\n",
       "    }\n",
       "\n",
       "    .dataframe thead th {\n",
       "        text-align: right;\n",
       "    }\n",
       "</style>\n",
       "<table border=\"1\" class=\"dataframe\">\n",
       "  <thead>\n",
       "    <tr style=\"text-align: right;\">\n",
       "      <th></th>\n",
       "      <th>i#clientid</th>\n",
       "      <th>income</th>\n",
       "      <th>age</th>\n",
       "      <th>loan</th>\n",
       "      <th>c#default</th>\n",
       "    </tr>\n",
       "  </thead>\n",
       "  <tbody>\n",
       "    <tr>\n",
       "      <th>0</th>\n",
       "      <td>1</td>\n",
       "      <td>66155.925095</td>\n",
       "      <td>59.017015</td>\n",
       "      <td>8106.532131</td>\n",
       "      <td>0</td>\n",
       "    </tr>\n",
       "    <tr>\n",
       "      <th>1</th>\n",
       "      <td>2</td>\n",
       "      <td>34415.153966</td>\n",
       "      <td>48.117153</td>\n",
       "      <td>6564.745018</td>\n",
       "      <td>0</td>\n",
       "    </tr>\n",
       "    <tr>\n",
       "      <th>2</th>\n",
       "      <td>3</td>\n",
       "      <td>57317.170063</td>\n",
       "      <td>63.108049</td>\n",
       "      <td>8020.953296</td>\n",
       "      <td>0</td>\n",
       "    </tr>\n",
       "    <tr>\n",
       "      <th>3</th>\n",
       "      <td>4</td>\n",
       "      <td>42709.534201</td>\n",
       "      <td>45.751972</td>\n",
       "      <td>6103.642260</td>\n",
       "      <td>0</td>\n",
       "    </tr>\n",
       "    <tr>\n",
       "      <th>4</th>\n",
       "      <td>5</td>\n",
       "      <td>66952.688845</td>\n",
       "      <td>18.584336</td>\n",
       "      <td>8770.099235</td>\n",
       "      <td>1</td>\n",
       "    </tr>\n",
       "  </tbody>\n",
       "</table>\n",
       "</div>"
      ],
      "text/plain": [
       "   i#clientid        income        age         loan  c#default\n",
       "0           1  66155.925095  59.017015  8106.532131          0\n",
       "1           2  34415.153966  48.117153  6564.745018          0\n",
       "2           3  57317.170063  63.108049  8020.953296          0\n",
       "3           4  42709.534201  45.751972  6103.642260          0\n",
       "4           5  66952.688845  18.584336  8770.099235          1"
      ]
     },
     "execution_count": 34,
     "metadata": {},
     "output_type": "execute_result"
    }
   ],
   "source": [
    "base_credit = pd.read_csv('Bases de dados/credit_data.csv')\n",
    "base_credit.dropna(inplace=True)\n",
    "print(base_credit.shape)\n",
    "base_credit.head()"
   ]
  },
  {
   "cell_type": "code",
   "execution_count": 35,
   "metadata": {},
   "outputs": [
    {
     "data": {
      "text/html": [
       "<div>\n",
       "<style scoped>\n",
       "    .dataframe tbody tr th:only-of-type {\n",
       "        vertical-align: middle;\n",
       "    }\n",
       "\n",
       "    .dataframe tbody tr th {\n",
       "        vertical-align: top;\n",
       "    }\n",
       "\n",
       "    .dataframe thead th {\n",
       "        text-align: right;\n",
       "    }\n",
       "</style>\n",
       "<table border=\"1\" class=\"dataframe\">\n",
       "  <thead>\n",
       "    <tr style=\"text-align: right;\">\n",
       "      <th></th>\n",
       "      <th>count</th>\n",
       "      <th>mean</th>\n",
       "      <th>std</th>\n",
       "      <th>min</th>\n",
       "      <th>25%</th>\n",
       "      <th>50%</th>\n",
       "      <th>75%</th>\n",
       "      <th>max</th>\n",
       "    </tr>\n",
       "  </thead>\n",
       "  <tbody>\n",
       "    <tr>\n",
       "      <th>i#clientid</th>\n",
       "      <td>1997.0</td>\n",
       "      <td>1001.956935</td>\n",
       "      <td>576.702206</td>\n",
       "      <td>1.00000</td>\n",
       "      <td>503.000000</td>\n",
       "      <td>1002.000000</td>\n",
       "      <td>1501.000000</td>\n",
       "      <td>2000.000000</td>\n",
       "    </tr>\n",
       "    <tr>\n",
       "      <th>income</th>\n",
       "      <td>1997.0</td>\n",
       "      <td>45333.864334</td>\n",
       "      <td>14325.131177</td>\n",
       "      <td>20014.48947</td>\n",
       "      <td>32804.904487</td>\n",
       "      <td>45788.747100</td>\n",
       "      <td>57787.565659</td>\n",
       "      <td>69995.685578</td>\n",
       "    </tr>\n",
       "    <tr>\n",
       "      <th>age</th>\n",
       "      <td>1997.0</td>\n",
       "      <td>40.807559</td>\n",
       "      <td>13.624469</td>\n",
       "      <td>-52.42328</td>\n",
       "      <td>28.990415</td>\n",
       "      <td>41.317159</td>\n",
       "      <td>52.587040</td>\n",
       "      <td>63.971796</td>\n",
       "    </tr>\n",
       "    <tr>\n",
       "      <th>loan</th>\n",
       "      <td>1997.0</td>\n",
       "      <td>4445.487716</td>\n",
       "      <td>3046.792457</td>\n",
       "      <td>1.37763</td>\n",
       "      <td>1936.813257</td>\n",
       "      <td>3977.287432</td>\n",
       "      <td>6440.861434</td>\n",
       "      <td>13766.051239</td>\n",
       "    </tr>\n",
       "    <tr>\n",
       "      <th>c#default</th>\n",
       "      <td>1997.0</td>\n",
       "      <td>0.141713</td>\n",
       "      <td>0.348842</td>\n",
       "      <td>0.00000</td>\n",
       "      <td>0.000000</td>\n",
       "      <td>0.000000</td>\n",
       "      <td>0.000000</td>\n",
       "      <td>1.000000</td>\n",
       "    </tr>\n",
       "  </tbody>\n",
       "</table>\n",
       "</div>"
      ],
      "text/plain": [
       "             count          mean           std          min           25%  \\\n",
       "i#clientid  1997.0   1001.956935    576.702206      1.00000    503.000000   \n",
       "income      1997.0  45333.864334  14325.131177  20014.48947  32804.904487   \n",
       "age         1997.0     40.807559     13.624469    -52.42328     28.990415   \n",
       "loan        1997.0   4445.487716   3046.792457      1.37763   1936.813257   \n",
       "c#default   1997.0      0.141713      0.348842      0.00000      0.000000   \n",
       "\n",
       "                     50%           75%           max  \n",
       "i#clientid   1002.000000   1501.000000   2000.000000  \n",
       "income      45788.747100  57787.565659  69995.685578  \n",
       "age            41.317159     52.587040     63.971796  \n",
       "loan         3977.287432   6440.861434  13766.051239  \n",
       "c#default       0.000000      0.000000      1.000000  "
      ]
     },
     "execution_count": 35,
     "metadata": {},
     "output_type": "execute_result"
    }
   ],
   "source": [
    "base_credit.describe(include='all').T"
   ]
  },
  {
   "cell_type": "code",
   "execution_count": 36,
   "metadata": {},
   "outputs": [
    {
     "name": "stdout",
     "output_type": "stream",
     "text": [
      "income: 205106624.40660834\n",
      "age: 185.53321543372624\n",
      "loan: 9278295.832931679\n"
     ]
    }
   ],
   "source": [
    "print(f\"income: {np.var(base_credit['income'])}\")\n",
    "print(f\"age: {np.var(base_credit['age'])}\")\n",
    "print(f\"loan: {np.var(base_credit['loan'])}\")"
   ]
  },
  {
   "cell_type": "code",
   "execution_count": 53,
   "metadata": {},
   "outputs": [
    {
     "data": {
      "text/plain": [
       "((1997, 4), (1997,))"
      ]
     },
     "execution_count": 53,
     "metadata": {},
     "output_type": "execute_result"
    }
   ],
   "source": [
    "X = base_credit.iloc[:, :4].values\n",
    "y = base_credit.iloc[:, 4].values\n",
    "X.shape, y.shape"
   ]
  },
  {
   "cell_type": "code",
   "execution_count": 54,
   "metadata": {},
   "outputs": [
    {
     "data": {
      "text/plain": [
       "(1997, 4)"
      ]
     },
     "execution_count": 54,
     "metadata": {},
     "output_type": "execute_result"
    }
   ],
   "source": [
    "scaler = MinMaxScaler()\n",
    "X = scaler.fit_transform(X)\n",
    "X.shape"
   ]
  },
  {
   "cell_type": "code",
   "execution_count": 55,
   "metadata": {},
   "outputs": [
    {
     "data": {
      "text/plain": [
       "(0.147779699597757, 0.09822573781519718, 0.13328359014656763)"
      ]
     },
     "execution_count": 55,
     "metadata": {},
     "output_type": "execute_result"
    }
   ],
   "source": [
    "np.var(X[0]), np.var(X[1]), np.var(X[2])"
   ]
  },
  {
   "cell_type": "code",
   "execution_count": 58,
   "metadata": {},
   "outputs": [
    {
     "data": {
      "text/plain": [
       "(1997, 2)"
      ]
     },
     "execution_count": 58,
     "metadata": {},
     "output_type": "execute_result"
    }
   ],
   "source": [
    "selecao_credit = VarianceThreshold(threshold=0.08) # olhar a variancia dos atributos\n",
    "X_novo = selecao_credit.fit_transform(X)\n",
    "X_novo.shape"
   ]
  },
  {
   "cell_type": "code",
   "execution_count": 59,
   "metadata": {},
   "outputs": [
    {
     "data": {
      "text/plain": [
       "0.927391086629945"
      ]
     },
     "execution_count": 59,
     "metadata": {},
     "output_type": "execute_result"
    }
   ],
   "source": [
    "naive_sem_selecao = GaussianNB()\n",
    "naive_sem_selecao.fit(X, y)\n",
    "previsoes = naive_sem_selecao.predict(X)\n",
    "accuracy_score(previsoes, y)"
   ]
  },
  {
   "cell_type": "code",
   "execution_count": 60,
   "metadata": {},
   "outputs": [
    {
     "data": {
      "text/plain": [
       "0.8582874311467201"
      ]
     },
     "execution_count": 60,
     "metadata": {},
     "output_type": "execute_result"
    }
   ],
   "source": [
    "naive_com_selecao = GaussianNB()\n",
    "naive_com_selecao.fit(X_novo, y)\n",
    "previsoes_com = naive_com_selecao.predict(X_novo)\n",
    "accuracy_score(previsoes_com, y)"
   ]
  },
  {
   "cell_type": "code",
   "execution_count": null,
   "metadata": {},
   "outputs": [],
   "source": []
  }
 ],
 "metadata": {
  "kernelspec": {
   "display_name": "Python 3",
   "language": "python",
   "name": "python3"
  },
  "language_info": {
   "codemirror_mode": {
    "name": "ipython",
    "version": 3
   },
   "file_extension": ".py",
   "mimetype": "text/x-python",
   "name": "python",
   "nbconvert_exporter": "python",
   "pygments_lexer": "ipython3",
   "version": "3.8.5"
  }
 },
 "nbformat": 4,
 "nbformat_minor": 4
}
