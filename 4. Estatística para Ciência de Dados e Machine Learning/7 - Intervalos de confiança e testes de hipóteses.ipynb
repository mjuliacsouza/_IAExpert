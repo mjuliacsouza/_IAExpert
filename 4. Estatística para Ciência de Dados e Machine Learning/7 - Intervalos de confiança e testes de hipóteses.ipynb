{
 "cells": [
  {
   "cell_type": "markdown",
   "metadata": {},
   "source": [
    "# Intervalos de confiança e testes de hipóteses"
   ]
  },
  {
   "cell_type": "code",
   "execution_count": null,
   "metadata": {},
   "outputs": [],
   "source": [
    "import pandas as pd\n",
    "import numpy as np\n",
    "import seaborn as srn\n",
    "import matplotlib.pyplot as plt\n",
    "import math\n",
    "from scipy import stats\n",
    "from scipy.stats import norm\n",
    "import statistics\n",
    "srn.set()"
   ]
  },
  {
   "cell_type": "markdown",
   "metadata": {},
   "source": [
    "## Intervalos de confiança"
   ]
  },
  {
   "cell_type": "code",
   "execution_count": null,
   "metadata": {},
   "outputs": [],
   "source": [
    "dados = np.array([126. , 129.5, 133. , 133. , 136.5, 136.5, 140. , 140. , 140. ,\n",
    "                  140. , 143.5, 143.5, 143.5, 143.5, 143.5, 143.5, 147. , 147. ,\n",
    "                  147. , 147. , 147. , 147. , 147. , 150.5, 150.5, 150.5, 150.5,\n",
    "                  150.5, 150.5, 150.5, 150.5, 154. , 154. , 154. , 154. , 154. ,\n",
    "                  154. , 154. , 154. , 154. , 157.5, 157.5, 157.5, 157.5, 157.5,\n",
    "                  157.5, 157.5, 157.5, 157.5, 157.5, 161. , 161. , 161. , 161. ,\n",
    "                  161. , 161. , 161. , 161. , 161. , 161. , 164.5, 164.5, 164.5,\n",
    "                  164.5, 164.5, 164.5, 164.5, 164.5, 164.5, 168. , 168. , 168. ,\n",
    "                  168. , 168. , 168. , 168. , 168. , 171.5, 171.5, 171.5, 171.5,\n",
    "                  171.5, 171.5, 171.5, 175. , 175. , 175. , 175. , 175. , 175. ,\n",
    "                  178.5, 178.5, 178.5, 178.5, 182. , 182. , 185.5, 185.5, 189., 192.5])\n",
    "print(len(dados))\n",
    "#dados"
   ]
  },
  {
   "cell_type": "code",
   "execution_count": null,
   "metadata": {},
   "outputs": [],
   "source": [
    "n = len(dados)\n",
    "media = np.mean(dados)\n",
    "desvio_padrao = np.std(dados)"
   ]
  },
  {
   "cell_type": "markdown",
   "metadata": {},
   "source": [
    "### Cálculo manual"
   ]
  },
  {
   "cell_type": "code",
   "execution_count": null,
   "metadata": {},
   "outputs": [],
   "source": [
    "alpha = 0.05 # 95% de confiabilidade\n",
    "tabela_z = 1 - (alpha/2)   # buscar na tabela Z"
   ]
  },
  {
   "cell_type": "markdown",
   "metadata": {},
   "source": [
    "Achamos 1.96"
   ]
  },
  {
   "cell_type": "markdown",
   "metadata": {},
   "source": [
    "### SciPy"
   ]
  },
  {
   "cell_type": "code",
   "execution_count": null,
   "metadata": {},
   "outputs": [],
   "source": [
    "z = norm.ppf(1 - (alpha/2))\n",
    "z"
   ]
  },
  {
   "cell_type": "code",
   "execution_count": null,
   "metadata": {},
   "outputs": [],
   "source": [
    "x_inferior = media - z * (desvio_padrao/math.sqrt(n))\n",
    "x_superior = media + z * (desvio_padrao/math.sqrt(n))\n",
    "x_inferior, x_superior"
   ]
  },
  {
   "cell_type": "code",
   "execution_count": null,
   "metadata": {},
   "outputs": [],
   "source": [
    "# margem de erro\n",
    "margem_erro = abs(media - x_superior)\n",
    "margem_erro"
   ]
  },
  {
   "cell_type": "code",
   "execution_count": null,
   "metadata": {},
   "outputs": [],
   "source": [
    "srn.histplot(dados, kde=True);"
   ]
  },
  {
   "cell_type": "code",
   "execution_count": null,
   "metadata": {},
   "outputs": [],
   "source": [
    "# utilizando o SciPy\n",
    "intervalos = norm.interval(0.95, media, stats.sem(dados))\n",
    "intervalos"
   ]
  },
  {
   "cell_type": "code",
   "execution_count": null,
   "metadata": {},
   "outputs": [],
   "source": [
    "margem_erro = media - intervalos[0]\n",
    "margem_erro "
   ]
  },
  {
   "cell_type": "markdown",
   "metadata": {},
   "source": [
    "### Diferentes niveis de confiança"
   ]
  },
  {
   "cell_type": "code",
   "execution_count": null,
   "metadata": {},
   "outputs": [],
   "source": [
    "# 99% de confiança\n",
    "print(f'intervalo: {norm.interval(0.99, media, stats.sem(dados))}')\n",
    "print(f'margem de erro: {media - (norm.interval(0.99, media, stats.sem(dados)))[0]}')"
   ]
  },
  {
   "cell_type": "code",
   "execution_count": null,
   "metadata": {
    "scrolled": true
   },
   "outputs": [],
   "source": [
    "# 75% de confiança\n",
    "print(f'intervalo: {norm.interval(0.75, media, stats.sem(dados))}')\n",
    "print(f'margem de erro: {media - (norm.interval(0.75, media, stats.sem(dados)))[0]}')"
   ]
  },
  {
   "cell_type": "markdown",
   "metadata": {},
   "source": [
    "## Distribuição T student"
   ]
  },
  {
   "cell_type": "code",
   "execution_count": null,
   "metadata": {},
   "outputs": [],
   "source": [
    "from scipy.stats import t"
   ]
  },
  {
   "cell_type": "code",
   "execution_count": null,
   "metadata": {},
   "outputs": [],
   "source": [
    "dados = np.array([149., 160., 147., 189., 175., 168., 156., 160., 152.])\n",
    "n = len(dados) \n",
    "n"
   ]
  },
  {
   "cell_type": "code",
   "execution_count": null,
   "metadata": {},
   "outputs": [],
   "source": [
    "media = dados.mean()\n",
    "media"
   ]
  },
  {
   "cell_type": "code",
   "execution_count": null,
   "metadata": {},
   "outputs": [],
   "source": [
    "desvio_padrao = np.std(dados)\n",
    "desvio_padrao"
   ]
  },
  {
   "cell_type": "code",
   "execution_count": null,
   "metadata": {},
   "outputs": [],
   "source": [
    "intervalos = t.interval(0.95, n-1, media, stats.sem(dados, ddof=0))\n",
    "intervalos"
   ]
  },
  {
   "cell_type": "code",
   "execution_count": null,
   "metadata": {},
   "outputs": [],
   "source": [
    "margem_erro = media - intervalos[0]\n",
    "margem_erro"
   ]
  }
 ],
 "metadata": {
  "kernelspec": {
   "display_name": "Python 3",
   "language": "python",
   "name": "python3"
  },
  "language_info": {
   "codemirror_mode": {
    "name": "ipython",
    "version": 3
   },
   "file_extension": ".py",
   "mimetype": "text/x-python",
   "name": "python",
   "nbconvert_exporter": "python",
   "pygments_lexer": "ipython3",
   "version": "3.8.5"
  }
 },
 "nbformat": 4,
 "nbformat_minor": 4
}
