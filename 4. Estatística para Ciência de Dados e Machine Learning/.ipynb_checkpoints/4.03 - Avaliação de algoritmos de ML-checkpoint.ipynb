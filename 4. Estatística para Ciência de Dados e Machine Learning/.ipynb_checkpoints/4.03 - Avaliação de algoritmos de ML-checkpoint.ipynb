{
 "cells": [
  {
   "cell_type": "markdown",
   "metadata": {},
   "source": [
    "# Avaliação de algoritmos de Machine Learning"
   ]
  },
  {
   "cell_type": "code",
   "execution_count": 1,
   "metadata": {},
   "outputs": [],
   "source": [
    "import pandas as pd\n",
    "import numpy as np"
   ]
  },
  {
   "cell_type": "code",
   "execution_count": 2,
   "metadata": {},
   "outputs": [],
   "source": [
    "from scipy.stats import stats\n",
    "import math\n",
    "import statistics"
   ]
  },
  {
   "cell_type": "code",
   "execution_count": 3,
   "metadata": {},
   "outputs": [],
   "source": [
    "from sklearn.model_selection import train_test_split, cross_val_score, KFold\n",
    "from sklearn.naive_bayes import GaussianNB\n",
    "from sklearn.linear_model import LogisticRegression\n",
    "from sklearn.ensemble import RandomForestClassifier\n",
    "from sklearn.metrics import accuracy_score, confusion_matrix"
   ]
  },
  {
   "cell_type": "code",
   "execution_count": 4,
   "metadata": {},
   "outputs": [
    {
     "name": "stdout",
     "output_type": "stream",
     "text": [
      "(2000, 5)\n"
     ]
    },
    {
     "data": {
      "text/html": [
       "<div>\n",
       "<style scoped>\n",
       "    .dataframe tbody tr th:only-of-type {\n",
       "        vertical-align: middle;\n",
       "    }\n",
       "\n",
       "    .dataframe tbody tr th {\n",
       "        vertical-align: top;\n",
       "    }\n",
       "\n",
       "    .dataframe thead th {\n",
       "        text-align: right;\n",
       "    }\n",
       "</style>\n",
       "<table border=\"1\" class=\"dataframe\">\n",
       "  <thead>\n",
       "    <tr style=\"text-align: right;\">\n",
       "      <th></th>\n",
       "      <th>i#clientid</th>\n",
       "      <th>income</th>\n",
       "      <th>age</th>\n",
       "      <th>loan</th>\n",
       "      <th>c#default</th>\n",
       "    </tr>\n",
       "  </thead>\n",
       "  <tbody>\n",
       "    <tr>\n",
       "      <th>0</th>\n",
       "      <td>1</td>\n",
       "      <td>66155.925095</td>\n",
       "      <td>59.017015</td>\n",
       "      <td>8106.532131</td>\n",
       "      <td>0</td>\n",
       "    </tr>\n",
       "    <tr>\n",
       "      <th>1</th>\n",
       "      <td>2</td>\n",
       "      <td>34415.153966</td>\n",
       "      <td>48.117153</td>\n",
       "      <td>6564.745018</td>\n",
       "      <td>0</td>\n",
       "    </tr>\n",
       "    <tr>\n",
       "      <th>2</th>\n",
       "      <td>3</td>\n",
       "      <td>57317.170063</td>\n",
       "      <td>63.108049</td>\n",
       "      <td>8020.953296</td>\n",
       "      <td>0</td>\n",
       "    </tr>\n",
       "    <tr>\n",
       "      <th>3</th>\n",
       "      <td>4</td>\n",
       "      <td>42709.534201</td>\n",
       "      <td>45.751972</td>\n",
       "      <td>6103.642260</td>\n",
       "      <td>0</td>\n",
       "    </tr>\n",
       "    <tr>\n",
       "      <th>4</th>\n",
       "      <td>5</td>\n",
       "      <td>66952.688845</td>\n",
       "      <td>18.584336</td>\n",
       "      <td>8770.099235</td>\n",
       "      <td>1</td>\n",
       "    </tr>\n",
       "  </tbody>\n",
       "</table>\n",
       "</div>"
      ],
      "text/plain": [
       "   i#clientid        income        age         loan  c#default\n",
       "0           1  66155.925095  59.017015  8106.532131          0\n",
       "1           2  34415.153966  48.117153  6564.745018          0\n",
       "2           3  57317.170063  63.108049  8020.953296          0\n",
       "3           4  42709.534201  45.751972  6103.642260          0\n",
       "4           5  66952.688845  18.584336  8770.099235          1"
      ]
     },
     "execution_count": 4,
     "metadata": {},
     "output_type": "execute_result"
    }
   ],
   "source": [
    "df_credit = pd.read_csv('Bases de dados/credit_data.csv')\n",
    "print(df_credit.shape)\n",
    "df_credit.head()"
   ]
  },
  {
   "cell_type": "code",
   "execution_count": 5,
   "metadata": {},
   "outputs": [
    {
     "data": {
      "text/plain": [
       "(1997, 5)"
      ]
     },
     "execution_count": 5,
     "metadata": {},
     "output_type": "execute_result"
    }
   ],
   "source": [
    "df_credit.dropna(inplace=True)\n",
    "df_credit.shape"
   ]
  },
  {
   "cell_type": "code",
   "execution_count": 6,
   "metadata": {},
   "outputs": [
    {
     "data": {
      "text/plain": [
       "((1997, 3), (1997,))"
      ]
     },
     "execution_count": 6,
     "metadata": {},
     "output_type": "execute_result"
    }
   ],
   "source": [
    "X = df_credit.iloc[:, 1:4].values\n",
    "y = df_credit.iloc[:, 4].values\n",
    "X.shape, y.shape"
   ]
  },
  {
   "cell_type": "code",
   "execution_count": 7,
   "metadata": {},
   "outputs": [],
   "source": [
    "resultados_naive_bayes = []\n",
    "resultados_logistic = []\n",
    "resultados_forest = []\n",
    "for i in range(30):\n",
    "    X_train, X_test, y_train, y_test = train_test_split(X, y, test_size=0.2, stratify=y, random_state=i)\n",
    "    \n",
    "    # Naive Bayes\n",
    "    naive_bayes = GaussianNB()\n",
    "    naive_bayes.fit(X_train, y_train)\n",
    "    resultados_naive_bayes.append(accuracy_score(y_test, naive_bayes.predict(X_test)))\n",
    "    \n",
    "    # Logisti Regression\n",
    "    logistic = LogisticRegression()\n",
    "    logistic.fit(X_train, y_train)\n",
    "    resultados_logistic.append(accuracy_score(y_test, logistic.predict(X_test)))\n",
    "    \n",
    "    # Random Forest\n",
    "    forest = RandomForestClassifier()\n",
    "    forest.fit(X_train, y_train)\n",
    "    resultados_forest.append(accuracy_score(y_test, forest.predict(X_test)))"
   ]
  },
  {
   "cell_type": "code",
   "execution_count": 8,
   "metadata": {},
   "outputs": [
    {
     "name": "stdout",
     "output_type": "stream",
     "text": [
      "[0.925, 0.925, 0.9325, 0.925, 0.92, 0.905, 0.9175, 0.9175, 0.9125, 0.9325, 0.9225, 0.9125, 0.935, 0.9175, 0.925, 0.9175, 0.9275, 0.92, 0.9325, 0.92, 0.93, 0.905, 0.9175, 0.9325, 0.9425, 0.9375, 0.94, 0.92, 0.935, 0.925]\n"
     ]
    }
   ],
   "source": [
    "print(resultados_naive_bayes)"
   ]
  },
  {
   "cell_type": "code",
   "execution_count": 9,
   "metadata": {},
   "outputs": [
    {
     "name": "stdout",
     "output_type": "stream",
     "text": [
      "[0.9325, 0.91, 0.9125, 0.9225, 0.9075, 0.89, 0.91, 0.9075, 0.8775, 0.915, 0.9175, 0.9, 0.925, 0.9175, 0.9025, 0.9125, 0.9525, 0.91, 0.9225, 0.9075, 0.925, 0.905, 0.9075, 0.945, 0.9225, 0.9275, 0.9225, 0.9175, 0.91, 0.9]\n"
     ]
    }
   ],
   "source": [
    "print(resultados_logistic)"
   ]
  },
  {
   "cell_type": "code",
   "execution_count": 10,
   "metadata": {},
   "outputs": [
    {
     "name": "stdout",
     "output_type": "stream",
     "text": [
      "[0.9775, 0.99, 0.9825, 0.99, 0.98, 0.9875, 0.99, 0.9825, 0.98, 0.9825, 0.9875, 0.9825, 0.9725, 0.985, 0.98, 0.9725, 0.9875, 0.9825, 0.99, 0.9825, 0.9825, 0.975, 0.98, 0.9825, 0.985, 0.995, 0.995, 0.9825, 0.9925, 0.9875]\n"
     ]
    }
   ],
   "source": [
    "print(resultados_forest)"
   ]
  },
  {
   "cell_type": "markdown",
   "metadata": {},
   "source": [
    "## Média"
   ]
  },
  {
   "cell_type": "code",
   "execution_count": 11,
   "metadata": {},
   "outputs": [],
   "source": [
    "resultados_naive_bayes = np.array(resultados_naive_bayes)\n",
    "resultados_logistic = np.array(resultados_logistic)\n",
    "resultados_forest = np.array(resultados_forest)"
   ]
  },
  {
   "cell_type": "code",
   "execution_count": 12,
   "metadata": {},
   "outputs": [
    {
     "name": "stdout",
     "output_type": "stream",
     "text": [
      "Naive Bayes: 0.92425\n",
      "Logistic Regression: 0.9145\n",
      "Random Forest:0.9840833333333335\n"
     ]
    }
   ],
   "source": [
    "print(f'Naive Bayes: {resultados_naive_bayes.mean()}')\n",
    "print(f'Logistic Regression: {resultados_logistic.mean()}')\n",
    "print(f'Random Forest:{resultados_forest.mean()}')"
   ]
  },
  {
   "cell_type": "markdown",
   "metadata": {},
   "source": [
    "## Moda"
   ]
  },
  {
   "cell_type": "code",
   "execution_count": 13,
   "metadata": {},
   "outputs": [
    {
     "name": "stdout",
     "output_type": "stream",
     "text": [
      "Naive Bayes: 0.925\n",
      "Logistic Regression: 0.91\n",
      "Random Forest:0.9825\n"
     ]
    }
   ],
   "source": [
    "print(f'Naive Bayes: {statistics.mode(resultados_naive_bayes)}')\n",
    "print(f'Logistic Regression: {statistics.mode(resultados_logistic)}')\n",
    "print(f'Random Forest:{statistics.mode(resultados_forest)}')"
   ]
  },
  {
   "cell_type": "markdown",
   "metadata": {},
   "source": [
    "## Mediana"
   ]
  },
  {
   "cell_type": "code",
   "execution_count": 14,
   "metadata": {},
   "outputs": [
    {
     "name": "stdout",
     "output_type": "stream",
     "text": [
      "Naive Bayes: 0.925\n",
      "Logistic Regression: 0.9125\n",
      "Random Forest:0.9825\n"
     ]
    }
   ],
   "source": [
    "print(f'Naive Bayes: {np.median(resultados_naive_bayes)}')\n",
    "print(f'Logistic Regression: {np.median(resultados_logistic)}')\n",
    "print(f'Random Forest:{np.median(resultados_forest)}')"
   ]
  },
  {
   "cell_type": "markdown",
   "metadata": {},
   "source": [
    "## Variância"
   ]
  },
  {
   "cell_type": "code",
   "execution_count": 15,
   "metadata": {},
   "outputs": [
    {
     "name": "stdout",
     "output_type": "stream",
     "text": [
      "Naive Bayes: 9.058189655172414e-05\n",
      "Logistic Regression: 0.00021655172413793106\n",
      "Random Forest:3.382902298850572e-05\n"
     ]
    }
   ],
   "source": [
    "print(f'Naive Bayes: {statistics.variance(resultados_naive_bayes)}')\n",
    "print(f'Logistic Regression: {statistics.variance(resultados_logistic)}')\n",
    "print(f'Random Forest:{statistics.variance(resultados_forest)}')"
   ]
  },
  {
   "cell_type": "markdown",
   "metadata": {},
   "source": [
    "## Desvio Padrão"
   ]
  },
  {
   "cell_type": "code",
   "execution_count": 16,
   "metadata": {},
   "outputs": [
    {
     "name": "stdout",
     "output_type": "stream",
     "text": [
      "Naive Bayes: 0.009517452209059111\n",
      "Logistic Regression: 0.014715696522350923\n",
      "Random Forest:0.005816272258801656\n"
     ]
    }
   ],
   "source": [
    "print(f'Naive Bayes: {statistics.stdev(resultados_naive_bayes)}')\n",
    "print(f'Logistic Regression: {statistics.stdev(resultados_logistic)}')\n",
    "print(f'Random Forest:{statistics.stdev(resultados_forest)}')"
   ]
  },
  {
   "cell_type": "markdown",
   "metadata": {},
   "source": [
    "## Coeficiente de variação"
   ]
  },
  {
   "cell_type": "code",
   "execution_count": 17,
   "metadata": {},
   "outputs": [
    {
     "name": "stdout",
     "output_type": "stream",
     "text": [
      "Naive Bayes: 1.0124407504578252 %\n",
      "Logistic Regression: 1.5821056616884057 %\n",
      "Random Forest:0.5811004645371411 %\n"
     ]
    }
   ],
   "source": [
    "print(f'Naive Bayes: {stats.variation(resultados_naive_bayes)*100} %')\n",
    "print(f'Logistic Regression: {stats.variation(resultados_logistic)*100} %')\n",
    "print(f'Random Forest:{stats.variation(resultados_forest)*100} %')"
   ]
  },
  {
   "cell_type": "markdown",
   "metadata": {},
   "source": [
    "## EXERCICIO - Validação cruzada"
   ]
  },
  {
   "cell_type": "code",
   "execution_count": 18,
   "metadata": {},
   "outputs": [],
   "source": [
    "resultados_naive_bayes_cv = []\n",
    "resultados_logistic_cv = []\n",
    "resultados_forest_cv = []\n",
    "for i in range(30):\n",
    "    kfold = KFold(n_splits=10, shuffle=True, random_state=i)\n",
    "    \n",
    "    # Naive Bayes\n",
    "    naive_bayes = GaussianNB()\n",
    "    scores = cross_val_score(naive_bayes, X, y, cv=kfold)\n",
    "    resultados_naive_bayes_cv.append(scores.mean())\n",
    "    \n",
    "    # Logisti Regression\n",
    "    logistic = LogisticRegression()\n",
    "    scores = cross_val_score(logistic, X, y, cv=kfold)\n",
    "    resultados_logistic_cv.append(scores.mean())\n",
    "    \n",
    "    # Random Forest\n",
    "    forest = RandomForestClassifier()\n",
    "    scores = cross_val_score(forest, X, y, cv=kfold)\n",
    "    resultados_forest_cv.append(scores.mean())"
   ]
  },
  {
   "cell_type": "markdown",
   "metadata": {},
   "source": [
    "## Média"
   ]
  },
  {
   "cell_type": "code",
   "execution_count": 19,
   "metadata": {},
   "outputs": [],
   "source": [
    "resultados_naive_bayes_cv = np.array(resultados_naive_bayes_cv)\n",
    "resultados_logistic_cv = np.array(resultados_logistic_cv)\n",
    "resultados_forest_cv = np.array(resultados_forest_cv)"
   ]
  },
  {
   "cell_type": "code",
   "execution_count": 20,
   "metadata": {},
   "outputs": [
    {
     "name": "stdout",
     "output_type": "stream",
     "text": [
      "Naive Bayes: 0.9249359296482411\n",
      "Logistic Regression: 0.9137817420435511\n",
      "Random Forest:0.9867469011725292\n"
     ]
    }
   ],
   "source": [
    "print(f'Naive Bayes: {resultados_naive_bayes_cv.mean()}')\n",
    "print(f'Logistic Regression: {resultados_logistic_cv.mean()}')\n",
    "print(f'Random Forest:{resultados_forest_cv.mean()}')"
   ]
  },
  {
   "cell_type": "markdown",
   "metadata": {},
   "source": [
    "## Moda"
   ]
  },
  {
   "cell_type": "code",
   "execution_count": 21,
   "metadata": {},
   "outputs": [
    {
     "name": "stdout",
     "output_type": "stream",
     "text": [
      "Naive Bayes: 0.9248894472361808\n",
      "Logistic Regression: 0.9113718592964826\n",
      "Random Forest:0.9874849246231155\n"
     ]
    }
   ],
   "source": [
    "print(f'Naive Bayes: {statistics.mode(resultados_naive_bayes_cv)}')\n",
    "print(f'Logistic Regression: {statistics.mode(resultados_logistic_cv)}')\n",
    "print(f'Random Forest:{statistics.mode(resultados_forest_cv)}')"
   ]
  },
  {
   "cell_type": "markdown",
   "metadata": {},
   "source": [
    "## Mediana"
   ]
  },
  {
   "cell_type": "code",
   "execution_count": 22,
   "metadata": {},
   "outputs": [
    {
     "name": "stdout",
     "output_type": "stream",
     "text": [
      "Naive Bayes: 0.9248919597989949\n",
      "Logistic Regression: 0.9130979899497487\n",
      "Random Forest:0.9869786432160805\n"
     ]
    }
   ],
   "source": [
    "print(f'Naive Bayes: {np.median(resultados_naive_bayes_cv)}')\n",
    "print(f'Logistic Regression: {np.median(resultados_logistic_cv)}')\n",
    "print(f'Random Forest:{np.median(resultados_forest_cv)}')"
   ]
  },
  {
   "cell_type": "markdown",
   "metadata": {},
   "source": [
    "## Variância"
   ]
  },
  {
   "cell_type": "code",
   "execution_count": 23,
   "metadata": {},
   "outputs": [
    {
     "name": "stdout",
     "output_type": "stream",
     "text": [
      "Naive Bayes: 6.608178433320306e-07\n",
      "Logistic Regression: 1.3004529114700778e-05\n",
      "Random Forest:1.876804719026264e-06\n"
     ]
    }
   ],
   "source": [
    "print(f'Naive Bayes: {statistics.variance(resultados_naive_bayes_cv)}')\n",
    "print(f'Logistic Regression: {statistics.variance(resultados_logistic_cv)}')\n",
    "print(f'Random Forest:{statistics.variance(resultados_forest_cv)}')"
   ]
  },
  {
   "cell_type": "markdown",
   "metadata": {},
   "source": [
    "## Desvio Padrão"
   ]
  },
  {
   "cell_type": "code",
   "execution_count": 24,
   "metadata": {},
   "outputs": [
    {
     "name": "stdout",
     "output_type": "stream",
     "text": [
      "Naive Bayes: 0.0008129070324040939\n",
      "Logistic Regression: 0.003606179295972509\n",
      "Random Forest:0.0013699652254806557\n"
     ]
    }
   ],
   "source": [
    "print(f'Naive Bayes: {statistics.stdev(resultados_naive_bayes_cv)}')\n",
    "print(f'Logistic Regression: {statistics.stdev(resultados_logistic_cv)}')\n",
    "print(f'Random Forest:{statistics.stdev(resultados_forest_cv)}')"
   ]
  },
  {
   "cell_type": "markdown",
   "metadata": {},
   "source": [
    "## Coeficiente de variação"
   ]
  },
  {
   "cell_type": "code",
   "execution_count": 25,
   "metadata": {},
   "outputs": [
    {
     "name": "stdout",
     "output_type": "stream",
     "text": [
      "Naive Bayes: 0.08641071566366061 %\n",
      "Logistic Regression: 0.38801026116292653 %\n",
      "Random Forest:0.1365029835219334 %\n"
     ]
    }
   ],
   "source": [
    "print(f'Naive Bayes: {stats.variation(resultados_naive_bayes_cv)*100} %')\n",
    "print(f'Logistic Regression: {stats.variation(resultados_logistic_cv)*100} %')\n",
    "print(f'Random Forest:{stats.variation(resultados_forest_cv)*100} %')"
   ]
  },
  {
   "cell_type": "markdown",
   "metadata": {},
   "source": [
    "## Seleção de atributos utilizando variância"
   ]
  },
  {
   "cell_type": "code",
   "execution_count": 30,
   "metadata": {},
   "outputs": [
    {
     "data": {
      "text/html": [
       "<div>\n",
       "<style scoped>\n",
       "    .dataframe tbody tr th:only-of-type {\n",
       "        vertical-align: middle;\n",
       "    }\n",
       "\n",
       "    .dataframe tbody tr th {\n",
       "        vertical-align: top;\n",
       "    }\n",
       "\n",
       "    .dataframe thead th {\n",
       "        text-align: right;\n",
       "    }\n",
       "</style>\n",
       "<table border=\"1\" class=\"dataframe\">\n",
       "  <thead>\n",
       "    <tr style=\"text-align: right;\">\n",
       "      <th></th>\n",
       "      <th>a</th>\n",
       "      <th>b</th>\n",
       "      <th>classe</th>\n",
       "    </tr>\n",
       "  </thead>\n",
       "  <tbody>\n",
       "    <tr>\n",
       "      <th>0</th>\n",
       "      <td>0.680176</td>\n",
       "      <td>0.5</td>\n",
       "      <td>0</td>\n",
       "    </tr>\n",
       "    <tr>\n",
       "      <th>1</th>\n",
       "      <td>0.908085</td>\n",
       "      <td>0.5</td>\n",
       "      <td>1</td>\n",
       "    </tr>\n",
       "    <tr>\n",
       "      <th>2</th>\n",
       "      <td>0.800027</td>\n",
       "      <td>0.5</td>\n",
       "      <td>0</td>\n",
       "    </tr>\n",
       "    <tr>\n",
       "      <th>3</th>\n",
       "      <td>0.727050</td>\n",
       "      <td>0.5</td>\n",
       "      <td>1</td>\n",
       "    </tr>\n",
       "    <tr>\n",
       "      <th>4</th>\n",
       "      <td>0.769841</td>\n",
       "      <td>0.5</td>\n",
       "      <td>0</td>\n",
       "    </tr>\n",
       "  </tbody>\n",
       "</table>\n",
       "</div>"
      ],
      "text/plain": [
       "          a    b  classe\n",
       "0  0.680176  0.5       0\n",
       "1  0.908085  0.5       1\n",
       "2  0.800027  0.5       0\n",
       "3  0.727050  0.5       1\n",
       "4  0.769841  0.5       0"
      ]
     },
     "execution_count": 30,
     "metadata": {},
     "output_type": "execute_result"
    }
   ],
   "source": [
    "base_selecao = {'a': np.random.rand(20), \n",
    "                'b': np.array([0.5] * 20), \n",
    "                'classe': np.random.randint(0, 2, size=20)}\n",
    "base_selecao = pd.DataFrame(base_selecao)\n",
    "base_selecao.head()"
   ]
  },
  {
   "cell_type": "code",
   "execution_count": 31,
   "metadata": {},
   "outputs": [
    {
     "data": {
      "text/html": [
       "<div>\n",
       "<style scoped>\n",
       "    .dataframe tbody tr th:only-of-type {\n",
       "        vertical-align: middle;\n",
       "    }\n",
       "\n",
       "    .dataframe tbody tr th {\n",
       "        vertical-align: top;\n",
       "    }\n",
       "\n",
       "    .dataframe thead th {\n",
       "        text-align: right;\n",
       "    }\n",
       "</style>\n",
       "<table border=\"1\" class=\"dataframe\">\n",
       "  <thead>\n",
       "    <tr style=\"text-align: right;\">\n",
       "      <th></th>\n",
       "      <th>count</th>\n",
       "      <th>mean</th>\n",
       "      <th>std</th>\n",
       "      <th>min</th>\n",
       "      <th>25%</th>\n",
       "      <th>50%</th>\n",
       "      <th>75%</th>\n",
       "      <th>max</th>\n",
       "    </tr>\n",
       "  </thead>\n",
       "  <tbody>\n",
       "    <tr>\n",
       "      <th>a</th>\n",
       "      <td>20.0</td>\n",
       "      <td>0.590994</td>\n",
       "      <td>0.233039</td>\n",
       "      <td>0.103769</td>\n",
       "      <td>0.435988</td>\n",
       "      <td>0.635407</td>\n",
       "      <td>0.773248</td>\n",
       "      <td>0.908085</td>\n",
       "    </tr>\n",
       "    <tr>\n",
       "      <th>b</th>\n",
       "      <td>20.0</td>\n",
       "      <td>0.500000</td>\n",
       "      <td>0.000000</td>\n",
       "      <td>0.500000</td>\n",
       "      <td>0.500000</td>\n",
       "      <td>0.500000</td>\n",
       "      <td>0.500000</td>\n",
       "      <td>0.500000</td>\n",
       "    </tr>\n",
       "    <tr>\n",
       "      <th>classe</th>\n",
       "      <td>20.0</td>\n",
       "      <td>0.450000</td>\n",
       "      <td>0.510418</td>\n",
       "      <td>0.000000</td>\n",
       "      <td>0.000000</td>\n",
       "      <td>0.000000</td>\n",
       "      <td>1.000000</td>\n",
       "      <td>1.000000</td>\n",
       "    </tr>\n",
       "  </tbody>\n",
       "</table>\n",
       "</div>"
      ],
      "text/plain": [
       "        count      mean       std       min       25%       50%       75%  \\\n",
       "a        20.0  0.590994  0.233039  0.103769  0.435988  0.635407  0.773248   \n",
       "b        20.0  0.500000  0.000000  0.500000  0.500000  0.500000  0.500000   \n",
       "classe   20.0  0.450000  0.510418  0.000000  0.000000  0.000000  1.000000   \n",
       "\n",
       "             max  \n",
       "a       0.908085  \n",
       "b       0.500000  \n",
       "classe  1.000000  "
      ]
     },
     "execution_count": 31,
     "metadata": {},
     "output_type": "execute_result"
    }
   ],
   "source": [
    "base_selecao.describe(include='all').T"
   ]
  },
  {
   "cell_type": "code",
   "execution_count": 32,
   "metadata": {},
   "outputs": [
    {
     "data": {
      "text/plain": [
       "(0.05159174818668065, 0.0)"
      ]
     },
     "execution_count": 32,
     "metadata": {},
     "output_type": "execute_result"
    }
   ],
   "source": [
    "np.var(base_selecao['a']), np.var(base_selecao['b'])"
   ]
  },
  {
   "cell_type": "code",
   "execution_count": 35,
   "metadata": {},
   "outputs": [
    {
     "data": {
      "text/plain": [
       "(0.22713816981450002, 0.0)"
      ]
     },
     "execution_count": 35,
     "metadata": {},
     "output_type": "execute_result"
    }
   ],
   "source": [
    "math.sqrt(np.var(base_selecao['a'])), math.sqrt(np.var(base_selecao['b']))"
   ]
  },
  {
   "cell_type": "code",
   "execution_count": 36,
   "metadata": {},
   "outputs": [
    {
     "data": {
      "text/plain": [
       "((20, 2), (20,))"
      ]
     },
     "execution_count": 36,
     "metadata": {},
     "output_type": "execute_result"
    }
   ],
   "source": [
    "X = base_selecao.iloc[:, 0:2].values\n",
    "y = base_selecao.iloc[:, 2].values\n",
    "X.shape, y.shape"
   ]
  },
  {
   "cell_type": "code",
   "execution_count": null,
   "metadata": {},
   "outputs": [],
   "source": []
  }
 ],
 "metadata": {
  "kernelspec": {
   "display_name": "Python 3",
   "language": "python",
   "name": "python3"
  },
  "language_info": {
   "codemirror_mode": {
    "name": "ipython",
    "version": 3
   },
   "file_extension": ".py",
   "mimetype": "text/x-python",
   "name": "python",
   "nbconvert_exporter": "python",
   "pygments_lexer": "ipython3",
   "version": "3.8.5"
  }
 },
 "nbformat": 4,
 "nbformat_minor": 4
}
