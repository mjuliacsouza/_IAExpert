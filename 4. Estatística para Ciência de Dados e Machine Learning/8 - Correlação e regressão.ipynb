{
 "cells": [
  {
   "cell_type": "markdown",
   "metadata": {},
   "source": [
    "# Correlação e regressão"
   ]
  },
  {
   "cell_type": "code",
   "execution_count": 1,
   "metadata": {},
   "outputs": [],
   "source": [
    "import pandas as pd\n",
    "import numpy as np\n",
    "import matplotlib.pyplot as plt\n",
    "import seaborn as srn\n",
    "srn.set()\n",
    "%matplotlib inline"
   ]
  },
  {
   "cell_type": "code",
   "execution_count": 2,
   "metadata": {},
   "outputs": [],
   "source": [
    "import statistics\n",
    "import math\n",
    "from scipy import stats"
   ]
  },
  {
   "cell_type": "markdown",
   "metadata": {},
   "source": [
    "## Covariância, coeficiente de correlação e determinação\n",
    "\n",
    "Coeficiente de correlação:\n",
    "- '> 0, variáveis se movem juntas\n",
    "- < 0, variáveis se movem em direções opostas\n",
    "- = 0, variáveis são independentes\n",
    "\n",
    "Correlação | Interpretação\n",
    "-----------|--------------\n",
    "0.00 a 0.19 ou 0.00 a -0.19 | Correlação bem fraca \n",
    "0.20 a 0.39 ou -0.20 a -0.39 | Correlação fraca\n",
    "0.40 a 0.69 ou -0.40 a -0.69 | Correlação moderada\n",
    "0.70 a 0.89 ou -0.70 a -0.89 | Correlação forte\n",
    "0.90 a 1.00 ou -0.90 a -1.00 | Correlação muito forte\n",
    "\n",
    "Coeficiente de determinação:\n",
    "- 98% da variável dependente consegue ser explicada pelas variáveis explanatórias"
   ]
  },
  {
   "cell_type": "code",
   "execution_count": null,
   "metadata": {},
   "outputs": [],
   "source": []
  }
 ],
 "metadata": {
  "kernelspec": {
   "display_name": "Python 3",
   "language": "python",
   "name": "python3"
  },
  "language_info": {
   "codemirror_mode": {
    "name": "ipython",
    "version": 3
   },
   "file_extension": ".py",
   "mimetype": "text/x-python",
   "name": "python",
   "nbconvert_exporter": "python",
   "pygments_lexer": "ipython3",
   "version": "3.8.5"
  }
 },
 "nbformat": 4,
 "nbformat_minor": 4
}
