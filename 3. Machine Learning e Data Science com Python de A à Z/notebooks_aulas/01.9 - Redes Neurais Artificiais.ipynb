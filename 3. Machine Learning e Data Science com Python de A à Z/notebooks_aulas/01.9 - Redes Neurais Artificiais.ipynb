{
 "cells": [
  {
   "cell_type": "markdown",
   "metadata": {},
   "source": [
    "# Redes Neurais"
   ]
  },
  {
   "cell_type": "code",
   "execution_count": null,
   "metadata": {},
   "outputs": [],
   "source": [
    "import pandas as pd\n",
    "import numpy as np\n",
    "import pickle"
   ]
  },
  {
   "cell_type": "markdown",
   "metadata": {},
   "source": [
    "Conceitos chave:\n",
    "(Supervisionado)\n",
    "\n",
    "- Feedforward\n",
    "    - Pesos aleatórios\n",
    "    - Função sigmoide\n",
    "    - Multicamada\n",
    "    - Camada oculta\n",
    "    - Função soma\n",
    "- Backpropagation\n",
    "    - Erros\n",
    "    - Delta saida\n",
    "    - Delta camada oculta\n",
    "    - Gradiente\n",
    "    - Taxa de aprendizagem\n",
    "    - Momento\n",
    "    - Ajuste dos pesos"
   ]
  },
  {
   "cell_type": "markdown",
   "metadata": {},
   "source": [
    "## Base Crédito"
   ]
  },
  {
   "cell_type": "code",
   "execution_count": null,
   "metadata": {},
   "outputs": [],
   "source": []
  },
  {
   "cell_type": "markdown",
   "metadata": {},
   "source": [
    "## Base Census"
   ]
  },
  {
   "cell_type": "code",
   "execution_count": null,
   "metadata": {},
   "outputs": [],
   "source": []
  }
 ],
 "metadata": {
  "kernelspec": {
   "display_name": "Python 3",
   "language": "python",
   "name": "python3"
  },
  "language_info": {
   "codemirror_mode": {
    "name": "ipython",
    "version": 3
   },
   "file_extension": ".py",
   "mimetype": "text/x-python",
   "name": "python",
   "nbconvert_exporter": "python",
   "pygments_lexer": "ipython3",
   "version": "3.8.5"
  }
 },
 "nbformat": 4,
 "nbformat_minor": 4
}
