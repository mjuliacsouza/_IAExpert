{
 "cells": [
  {
   "cell_type": "markdown",
   "metadata": {},
   "source": [
    "# Apredizagem por Regras"
   ]
  },
  {
   "cell_type": "code",
   "execution_count": 1,
   "metadata": {},
   "outputs": [],
   "source": [
    "import pandas as pd\n",
    "import numpy as np\n",
    "import matplotlib.pyplot as plt\n",
    "import seaborn as srn\n",
    "import plotly\n",
    "import pickle\n",
    "from yellowbrick.classifier import ConfusionMatrix\n",
    "from sklearn.metrics import classification_report"
   ]
  },
  {
   "cell_type": "code",
   "execution_count": 9,
   "metadata": {},
   "outputs": [],
   "source": [
    "#!pip install Orange3\n",
    "import Orange"
   ]
  },
  {
   "cell_type": "markdown",
   "metadata": {},
   "source": [
    "# Base Risco de Crédito"
   ]
  },
  {
   "cell_type": "markdown",
   "metadata": {},
   "source": [
    "## Pré-processamento"
   ]
  },
  {
   "cell_type": "code",
   "execution_count": 13,
   "metadata": {},
   "outputs": [
    {
     "data": {
      "text/plain": [
       "[[ruim, alta, nenhuma, 0_15 | alto],\n",
       " [desconhecida, alta, nenhuma, 15_35 | alto],\n",
       " [desconhecida, baixa, nenhuma, 15_35 | moderado],\n",
       " [desconhecida, baixa, nenhuma, acima_35 | alto],\n",
       " [desconhecida, baixa, nenhuma, acima_35 | baixo],\n",
       " ...\n",
       "]"
      ]
     },
     "execution_count": 13,
     "metadata": {},
     "output_type": "execute_result"
    }
   ],
   "source": [
    "df_risco = Orange.data.Table('../Machine Learning e Data Science com Python de A à Z/Bases de dados/risco_credito_regras.csv')\n",
    "df_risco"
   ]
  },
  {
   "cell_type": "code",
   "execution_count": 14,
   "metadata": {},
   "outputs": [
    {
     "data": {
      "text/plain": [
       "[historia, divida, garantias, renda | risco]"
      ]
     },
     "execution_count": 14,
     "metadata": {},
     "output_type": "execute_result"
    }
   ],
   "source": [
    "df_risco.domain"
   ]
  },
  {
   "cell_type": "markdown",
   "metadata": {},
   "source": [
    "## CN2"
   ]
  },
  {
   "cell_type": "code",
   "execution_count": 15,
   "metadata": {},
   "outputs": [],
   "source": [
    "cn2 = Orange.classification.rules.CN2Learner()\n",
    "regras_risco = cn2(df_risco)"
   ]
  },
  {
   "cell_type": "code",
   "execution_count": 16,
   "metadata": {},
   "outputs": [
    {
     "name": "stdout",
     "output_type": "stream",
     "text": [
      "IF renda==0_15 THEN risco=alto \n",
      "IF historia==boa AND divida!=alta THEN risco=baixo \n",
      "IF historia==boa AND garantias!=nenhuma THEN risco=baixo \n",
      "IF historia==boa AND renda!=15_35 THEN risco=baixo \n",
      "IF historia==boa THEN risco=moderado \n",
      "IF divida==alta THEN risco=alto \n",
      "IF historia!=desconhecida THEN risco=moderado \n",
      "IF garantias==adequada THEN risco=baixo \n",
      "IF renda==15_35 THEN risco=moderado \n",
      "IF historia==desconhecida THEN risco=alto \n",
      "IF TRUE THEN risco=alto \n"
     ]
    }
   ],
   "source": [
    "for regras in regras_risco.rule_list:\n",
    "    print(regras)"
   ]
  },
  {
   "cell_type": "markdown",
   "metadata": {},
   "source": [
    "Teste para:\n",
    "- história: boa\n",
    "- dívida: alta\n",
    "- garantias: nenhuma\n",
    "- renda > 35\n",
    "\n",
    "e\n",
    "\n",
    "- história: ruim\n",
    "- divida: alta\n",
    "- garantias: adequada\n",
    "- renda <15"
   ]
  },
  {
   "cell_type": "code",
   "execution_count": 17,
   "metadata": {},
   "outputs": [
    {
     "data": {
      "text/plain": [
       "array([1, 0], dtype=int64)"
      ]
     },
     "execution_count": 17,
     "metadata": {},
     "output_type": "execute_result"
    }
   ],
   "source": [
    "previsoes = regras_risco([['boa','alta','nenhuma','acima_35'], ['ruim','alta','adequada','0_15']])\n",
    "previsoes"
   ]
  },
  {
   "cell_type": "code",
   "execution_count": 20,
   "metadata": {},
   "outputs": [
    {
     "data": {
      "text/plain": [
       "('alto', 'baixo', 'moderado')"
      ]
     },
     "execution_count": 20,
     "metadata": {},
     "output_type": "execute_result"
    }
   ],
   "source": [
    "df_risco.domain.class_var.values"
   ]
  },
  {
   "cell_type": "markdown",
   "metadata": {},
   "source": [
    "Registros foram classificados como:\n",
    "- 1 --> 'baixo'\n",
    "- 0 --> 'alto'"
   ]
  },
  {
   "cell_type": "code",
   "execution_count": 22,
   "metadata": {},
   "outputs": [
    {
     "name": "stdout",
     "output_type": "stream",
     "text": [
      "baixo\n",
      "alto\n"
     ]
    }
   ],
   "source": [
    "for i in previsoes:\n",
    "    print(df_risco.domain.class_var.values[i])"
   ]
  },
  {
   "cell_type": "markdown",
   "metadata": {},
   "source": [
    "# Base Credit Data"
   ]
  },
  {
   "cell_type": "markdown",
   "metadata": {},
   "source": [
    "## Pré-processamento"
   ]
  },
  {
   "cell_type": "code",
   "execution_count": 23,
   "metadata": {},
   "outputs": [
    {
     "data": {
      "text/plain": [
       "[[66155.9, 59.017, 8106.53 | 0],\n",
       " [34415.2, 48.1172, 6564.75 | 0],\n",
       " [57317.2, 63.108, 8020.95 | 0],\n",
       " [42709.5, 45.752, 6103.64 | 0],\n",
       " [66952.7, 18.5843, 8770.1 | 1],\n",
       " ...\n",
       "]"
      ]
     },
     "execution_count": 23,
     "metadata": {},
     "output_type": "execute_result"
    }
   ],
   "source": [
    "df_credit = Orange.data.Table('../Machine Learning e Data Science com Python de A à Z/Bases de dados/credit_data_regras.csv')\n",
    "df_credit"
   ]
  },
  {
   "cell_type": "code",
   "execution_count": 24,
   "metadata": {},
   "outputs": [
    {
     "data": {
      "text/plain": [
       "[income, age, loan | default]"
      ]
     },
     "execution_count": 24,
     "metadata": {},
     "output_type": "execute_result"
    }
   ],
   "source": [
    "df_credit.domain"
   ]
  },
  {
   "cell_type": "code",
   "execution_count": 26,
   "metadata": {},
   "outputs": [
    {
     "data": {
      "text/plain": [
       "([[32423.8, 63.19, 2961.95 | 0],\n",
       "  [47586.2, 42.275, 3343.06 | 0],\n",
       "  [27218.6, 55.171, 4145 | 0],\n",
       "  [20155.8, 41.9224, 3489.96 | 0],\n",
       "  [68338.1, 34.3345, 12840.7 | 1],\n",
       "  ...\n",
       " ],\n",
       " [[60113.3, 40.7743, 8253.38 | 0],\n",
       "  [50879, 44.9651, 3257.01 | 0],\n",
       "  [45677.9, 51.6931, 2966.25 | 0],\n",
       "  [33546.3, 54.6985, 5347.3 | 0],\n",
       "  [50414.3, 56.194, 2468.17 | 0],\n",
       "  ...\n",
       " ])"
      ]
     },
     "execution_count": 26,
     "metadata": {},
     "output_type": "execute_result"
    }
   ],
   "source": [
    "base_dividida = Orange.evaluation.testing.sample(df_credit, n=0.25)\n",
    "base_dividida"
   ]
  },
  {
   "cell_type": "code",
   "execution_count": 28,
   "metadata": {},
   "outputs": [
    {
     "name": "stdout",
     "output_type": "stream",
     "text": [
      "train: 1500 e test: 500\n"
     ]
    }
   ],
   "source": [
    "credit_train = base_dividida[1]\n",
    "credit_test = base_dividida[0]\n",
    "\n",
    "print('train:',len(credit_train), 'e test:',len(credit_test))"
   ]
  },
  {
   "cell_type": "markdown",
   "metadata": {},
   "source": [
    "## CN2"
   ]
  },
  {
   "cell_type": "code",
   "execution_count": 29,
   "metadata": {},
   "outputs": [],
   "source": [
    "cn2 = Orange.classification.rules.CN2Learner()\n",
    "regras_credit = cn2(credit_train)"
   ]
  },
  {
   "cell_type": "code",
   "execution_count": 34,
   "metadata": {},
   "outputs": [
    {
     "name": "stdout",
     "output_type": "stream",
     "text": [
      "23 regras\n",
      "\n",
      "IF age>=34.9966813726351 THEN default=0 \n",
      "IF income>=69395.1164768077 THEN default=1 \n",
      "IF loan<=2639.7101263171 AND income>=21448.8279935904 THEN default=0 \n",
      "IF loan>=7708.31562497011 AND age>=18.1760434475727 THEN default=1 \n",
      "IF income>=58132.4712652713 THEN default=0 \n",
      "IF loan>=6342.56790924236 THEN default=1 \n",
      "IF income>=50527.5841732509 THEN default=0 \n",
      "IF loan>=5416.3577980789005 AND income>=50289.66474812481 THEN default=1 \n",
      "IF loan>=5416.3577980789005 AND income>=49640.00470237809 THEN default=0 \n",
      "IF loan>=5416.3577980789005 THEN default=1 \n",
      "IF income>=31722.7309499867 AND income>=40496.2558229454 THEN default=0 \n",
      "IF loan>=4265.17370408717 AND age>=22.983635846059798 THEN default=1 \n",
      "IF loan<=2639.7101263171 AND loan>=2639.7101263171 THEN default=1 \n",
      "IF loan<=2690.76813397945 AND age>=21.989767443854397 THEN default=0 \n",
      "IF loan>=4625.19337762744 THEN default=1 \n",
      "IF income>=31722.7309499867 THEN default=0 \n",
      "IF loan>=3105.4430213977303 THEN default=1 \n",
      "IF income>=24857.6948815025 THEN default=0 \n",
      "IF income>=21217.7474563941 THEN default=1 \n",
      "IF age>=28.0293198991567 THEN default=1 \n",
      "IF income<=20647.887645755 THEN default=0 \n",
      "IF income<=21144.5628711954 THEN default=0 \n",
      "IF TRUE THEN default=0 \n"
     ]
    }
   ],
   "source": [
    "print(f'{len(regras_credit.rule_list)} regras', end='\\n\\n')\n",
    "for regras in regras_credit.rule_list:\n",
    "    print(regras)"
   ]
  },
  {
   "cell_type": "code",
   "execution_count": 37,
   "metadata": {},
   "outputs": [
    {
     "data": {
      "text/plain": [
       "<Orange.evaluation.testing.Results at 0x212ea7c93a0>"
      ]
     },
     "execution_count": 37,
     "metadata": {},
     "output_type": "execute_result"
    }
   ],
   "source": [
    "previsoes = Orange.evaluation.testing.TestOnTestData(credit_train, credit_test,[lambda testdata: regras_credit])\n",
    "previsoes"
   ]
  },
  {
   "cell_type": "code",
   "execution_count": 40,
   "metadata": {},
   "outputs": [
    {
     "data": {
      "text/plain": [
       "array([0.982])"
      ]
     },
     "execution_count": 40,
     "metadata": {},
     "output_type": "execute_result"
    }
   ],
   "source": [
    "Orange.evaluation.CA(previsoes)"
   ]
  },
  {
   "cell_type": "markdown",
   "metadata": {},
   "source": [
    "# Base Census"
   ]
  },
  {
   "cell_type": "markdown",
   "metadata": {},
   "source": [
    "## Pré-processamento"
   ]
  },
  {
   "cell_type": "markdown",
   "metadata": {},
   "source": [
    "## OneR\n",
    "\n",
    "Pode-se usar o Weka explorer"
   ]
  },
  {
   "cell_type": "markdown",
   "metadata": {},
   "source": [
    "## Prism"
   ]
  }
 ],
 "metadata": {
  "kernelspec": {
   "display_name": "Python 3",
   "language": "python",
   "name": "python3"
  },
  "language_info": {
   "codemirror_mode": {
    "name": "ipython",
    "version": 3
   },
   "file_extension": ".py",
   "mimetype": "text/x-python",
   "name": "python",
   "nbconvert_exporter": "python",
   "pygments_lexer": "ipython3",
   "version": "3.8.5"
  }
 },
 "nbformat": 4,
 "nbformat_minor": 4
}
