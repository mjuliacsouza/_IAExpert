{
 "cells": [
  {
   "cell_type": "markdown",
   "metadata": {},
   "source": [
    "# Classificação de textos com spaCy"
   ]
  },
  {
   "cell_type": "code",
   "execution_count": 40,
   "metadata": {},
   "outputs": [],
   "source": [
    "import pandas as pd\n",
    "import string\n",
    "import spacy\n",
    "import random\n",
    "import seaborn as srn\n",
    "import numpy as np\n",
    "from spacy.lang.pt.stop_words import STOP_WORDS\n",
    "from spacy.training.example import Example"
   ]
  },
  {
   "cell_type": "code",
   "execution_count": 2,
   "metadata": {},
   "outputs": [
    {
     "name": "stdout",
     "output_type": "stream",
     "text": [
      "(196, 2)\n"
     ]
    },
    {
     "data": {
      "text/html": [
       "<div>\n",
       "<style scoped>\n",
       "    .dataframe tbody tr th:only-of-type {\n",
       "        vertical-align: middle;\n",
       "    }\n",
       "\n",
       "    .dataframe tbody tr th {\n",
       "        vertical-align: top;\n",
       "    }\n",
       "\n",
       "    .dataframe thead th {\n",
       "        text-align: right;\n",
       "    }\n",
       "</style>\n",
       "<table border=\"1\" class=\"dataframe\">\n",
       "  <thead>\n",
       "    <tr style=\"text-align: right;\">\n",
       "      <th></th>\n",
       "      <th>texto</th>\n",
       "      <th>emocao</th>\n",
       "    </tr>\n",
       "  </thead>\n",
       "  <tbody>\n",
       "    <tr>\n",
       "      <th>0</th>\n",
       "      <td>este trabalho é agradável</td>\n",
       "      <td>alegria</td>\n",
       "    </tr>\n",
       "    <tr>\n",
       "      <th>1</th>\n",
       "      <td>gosto de ficar no seu aconchego</td>\n",
       "      <td>alegria</td>\n",
       "    </tr>\n",
       "    <tr>\n",
       "      <th>2</th>\n",
       "      <td>fiz a adesão ao curso hoje</td>\n",
       "      <td>alegria</td>\n",
       "    </tr>\n",
       "    <tr>\n",
       "      <th>3</th>\n",
       "      <td>eu sou admirada por muitos</td>\n",
       "      <td>alegria</td>\n",
       "    </tr>\n",
       "    <tr>\n",
       "      <th>4</th>\n",
       "      <td>adoro como você</td>\n",
       "      <td>alegria</td>\n",
       "    </tr>\n",
       "  </tbody>\n",
       "</table>\n",
       "</div>"
      ],
      "text/plain": [
       "                             texto   emocao\n",
       "0        este trabalho é agradável  alegria\n",
       "1  gosto de ficar no seu aconchego  alegria\n",
       "2       fiz a adesão ao curso hoje  alegria\n",
       "3       eu sou admirada por muitos  alegria\n",
       "4                  adoro como você  alegria"
      ]
     },
     "execution_count": 2,
     "metadata": {},
     "output_type": "execute_result"
    }
   ],
   "source": [
    "base_train = pd.read_csv('dados/base_treinamento.txt', encoding='utf-8')\n",
    "print(base_train.shape)\n",
    "base_train.head()"
   ]
  },
  {
   "cell_type": "code",
   "execution_count": 3,
   "metadata": {},
   "outputs": [
    {
     "name": "stdout",
     "output_type": "stream",
     "text": [
      "(84, 2)\n"
     ]
    },
    {
     "data": {
      "text/html": [
       "<div>\n",
       "<style scoped>\n",
       "    .dataframe tbody tr th:only-of-type {\n",
       "        vertical-align: middle;\n",
       "    }\n",
       "\n",
       "    .dataframe tbody tr th {\n",
       "        vertical-align: top;\n",
       "    }\n",
       "\n",
       "    .dataframe thead th {\n",
       "        text-align: right;\n",
       "    }\n",
       "</style>\n",
       "<table border=\"1\" class=\"dataframe\">\n",
       "  <thead>\n",
       "    <tr style=\"text-align: right;\">\n",
       "      <th></th>\n",
       "      <th>texto</th>\n",
       "      <th>emocao</th>\n",
       "    </tr>\n",
       "  </thead>\n",
       "  <tbody>\n",
       "    <tr>\n",
       "      <th>0</th>\n",
       "      <td>não precisei pagar o ingresso</td>\n",
       "      <td>alegria</td>\n",
       "    </tr>\n",
       "    <tr>\n",
       "      <th>1</th>\n",
       "      <td>se eu ajeitar tudo fica bem</td>\n",
       "      <td>alegria</td>\n",
       "    </tr>\n",
       "    <tr>\n",
       "      <th>2</th>\n",
       "      <td>minha fortuna ultrapassará a sua</td>\n",
       "      <td>alegria</td>\n",
       "    </tr>\n",
       "    <tr>\n",
       "      <th>3</th>\n",
       "      <td>sou muito afortunado</td>\n",
       "      <td>alegria</td>\n",
       "    </tr>\n",
       "    <tr>\n",
       "      <th>4</th>\n",
       "      <td>é benéfico para todos esta nova medida</td>\n",
       "      <td>alegria</td>\n",
       "    </tr>\n",
       "  </tbody>\n",
       "</table>\n",
       "</div>"
      ],
      "text/plain": [
       "                                    texto   emocao\n",
       "0           não precisei pagar o ingresso  alegria\n",
       "1             se eu ajeitar tudo fica bem  alegria\n",
       "2        minha fortuna ultrapassará a sua  alegria\n",
       "3                    sou muito afortunado  alegria\n",
       "4  é benéfico para todos esta nova medida  alegria"
      ]
     },
     "execution_count": 3,
     "metadata": {},
     "output_type": "execute_result"
    }
   ],
   "source": [
    "base_test = pd.read_csv('dados/base_teste.txt', encoding='utf-8')\n",
    "print(base_test.shape)\n",
    "base_test.head()"
   ]
  },
  {
   "cell_type": "code",
   "execution_count": 4,
   "metadata": {
    "scrolled": true
   },
   "outputs": [
    {
     "data": {
      "image/png": "[encoded data removed]",
      "text/plain": [
       "<Figure size 432x288 with 1 Axes>"
      ]
     },
     "metadata": {
      "needs_background": "light"
     },
     "output_type": "display_data"
    }
   ],
   "source": [
    "srn.countplot(x=base_train['emocao'], label='count');"
   ]
  },
  {
   "cell_type": "markdown",
   "metadata": {},
   "source": [
    "## Pré-processamento dos textos"
   ]
  },
  {
   "cell_type": "code",
   "execution_count": 5,
   "metadata": {},
   "outputs": [
    {
     "data": {
      "text/plain": [
       "'!\"#$%&\\'()*+,-./:;<=>?@[\\\\]^_`{|}~'"
      ]
     },
     "execution_count": 5,
     "metadata": {},
     "output_type": "execute_result"
    }
   ],
   "source": [
    "pontuacoes = string.punctuation\n",
    "pontuacoes"
   ]
  },
  {
   "cell_type": "code",
   "execution_count": 6,
   "metadata": {},
   "outputs": [
    {
     "name": "stdout",
     "output_type": "stream",
     "text": [
      "416\n"
     ]
    }
   ],
   "source": [
    "stop_words = STOP_WORDS\n",
    "print(len(stop_words))\n",
    "#stop_words"
   ]
  },
  {
   "cell_type": "code",
   "execution_count": 7,
   "metadata": {},
   "outputs": [
    {
     "data": {
      "text/plain": [
       "<spacy.lang.pt.Portuguese at 0x17d09dd5f40>"
      ]
     },
     "execution_count": 7,
     "metadata": {},
     "output_type": "execute_result"
    }
   ],
   "source": [
    "pln = spacy.load('pt_core_news_sm')\n",
    "pln"
   ]
  },
  {
   "cell_type": "code",
   "execution_count": 8,
   "metadata": {},
   "outputs": [],
   "source": [
    "teste = 'Estou aprendendo processamento de linguagem natural, online.'"
   ]
  },
  {
   "cell_type": "code",
   "execution_count": 9,
   "metadata": {},
   "outputs": [],
   "source": [
    "def preprocessamento(texto):\n",
    "    texto = texto.lower()\n",
    "    documento = pln(texto)\n",
    "    \n",
    "    lista = []\n",
    "    for token in documento:\n",
    "        lista.append(token.lemma_)\n",
    "        \n",
    "    # remover stop words e pontuações\n",
    "    lista = [palavra for palavra in lista if palavra not in stop_words and palavra not in pontuacoes]\n",
    "    # remover numeros e formar frase\n",
    "    frase_processada = ' '.join([str(elemento) for elemento in lista if not elemento.isdigit()])\n",
    "        \n",
    "    return frase_processada"
   ]
  },
  {
   "cell_type": "code",
   "execution_count": 10,
   "metadata": {},
   "outputs": [
    {
     "data": {
      "text/plain": [
       "'aprender processamento linguagem natural online'"
      ]
     },
     "execution_count": 10,
     "metadata": {},
     "output_type": "execute_result"
    }
   ],
   "source": [
    "preprocessamento(teste)"
   ]
  },
  {
   "cell_type": "markdown",
   "metadata": {},
   "source": [
    "Com a nossa base de dados:"
   ]
  },
  {
   "cell_type": "code",
   "execution_count": 11,
   "metadata": {},
   "outputs": [
    {
     "data": {
      "text/html": [
       "<div>\n",
       "<style scoped>\n",
       "    .dataframe tbody tr th:only-of-type {\n",
       "        vertical-align: middle;\n",
       "    }\n",
       "\n",
       "    .dataframe tbody tr th {\n",
       "        vertical-align: top;\n",
       "    }\n",
       "\n",
       "    .dataframe thead th {\n",
       "        text-align: right;\n",
       "    }\n",
       "</style>\n",
       "<table border=\"1\" class=\"dataframe\">\n",
       "  <thead>\n",
       "    <tr style=\"text-align: right;\">\n",
       "      <th></th>\n",
       "      <th>texto</th>\n",
       "      <th>emocao</th>\n",
       "    </tr>\n",
       "  </thead>\n",
       "  <tbody>\n",
       "    <tr>\n",
       "      <th>0</th>\n",
       "      <td>este trabalho é agradável</td>\n",
       "      <td>alegria</td>\n",
       "    </tr>\n",
       "    <tr>\n",
       "      <th>1</th>\n",
       "      <td>gosto de ficar no seu aconchego</td>\n",
       "      <td>alegria</td>\n",
       "    </tr>\n",
       "    <tr>\n",
       "      <th>2</th>\n",
       "      <td>fiz a adesão ao curso hoje</td>\n",
       "      <td>alegria</td>\n",
       "    </tr>\n",
       "    <tr>\n",
       "      <th>3</th>\n",
       "      <td>eu sou admirada por muitos</td>\n",
       "      <td>alegria</td>\n",
       "    </tr>\n",
       "    <tr>\n",
       "      <th>4</th>\n",
       "      <td>adoro como você</td>\n",
       "      <td>alegria</td>\n",
       "    </tr>\n",
       "    <tr>\n",
       "      <th>5</th>\n",
       "      <td>adoro seu cabelo macio</td>\n",
       "      <td>alegria</td>\n",
       "    </tr>\n",
       "    <tr>\n",
       "      <th>6</th>\n",
       "      <td>adoro a cor dos seus olhos</td>\n",
       "      <td>alegria</td>\n",
       "    </tr>\n",
       "    <tr>\n",
       "      <th>7</th>\n",
       "      <td>somo tão amáveis um com o outro</td>\n",
       "      <td>alegria</td>\n",
       "    </tr>\n",
       "    <tr>\n",
       "      <th>8</th>\n",
       "      <td>sinto uma grande afeição por ele</td>\n",
       "      <td>alegria</td>\n",
       "    </tr>\n",
       "    <tr>\n",
       "      <th>9</th>\n",
       "      <td>quero agradar meus filhos</td>\n",
       "      <td>alegria</td>\n",
       "    </tr>\n",
       "  </tbody>\n",
       "</table>\n",
       "</div>"
      ],
      "text/plain": [
       "                              texto   emocao\n",
       "0         este trabalho é agradável  alegria\n",
       "1   gosto de ficar no seu aconchego  alegria\n",
       "2        fiz a adesão ao curso hoje  alegria\n",
       "3        eu sou admirada por muitos  alegria\n",
       "4                   adoro como você  alegria\n",
       "5            adoro seu cabelo macio  alegria\n",
       "6        adoro a cor dos seus olhos  alegria\n",
       "7   somo tão amáveis um com o outro  alegria\n",
       "8  sinto uma grande afeição por ele  alegria\n",
       "9         quero agradar meus filhos  alegria"
      ]
     },
     "execution_count": 11,
     "metadata": {},
     "output_type": "execute_result"
    }
   ],
   "source": [
    "base_train.head(10)"
   ]
  },
  {
   "cell_type": "code",
   "execution_count": 12,
   "metadata": {},
   "outputs": [
    {
     "data": {
      "text/html": [
       "<div>\n",
       "<style scoped>\n",
       "    .dataframe tbody tr th:only-of-type {\n",
       "        vertical-align: middle;\n",
       "    }\n",
       "\n",
       "    .dataframe tbody tr th {\n",
       "        vertical-align: top;\n",
       "    }\n",
       "\n",
       "    .dataframe thead th {\n",
       "        text-align: right;\n",
       "    }\n",
       "</style>\n",
       "<table border=\"1\" class=\"dataframe\">\n",
       "  <thead>\n",
       "    <tr style=\"text-align: right;\">\n",
       "      <th></th>\n",
       "      <th>texto</th>\n",
       "      <th>emocao</th>\n",
       "    </tr>\n",
       "  </thead>\n",
       "  <tbody>\n",
       "    <tr>\n",
       "      <th>0</th>\n",
       "      <td>trabalhar agradável</td>\n",
       "      <td>alegria</td>\n",
       "    </tr>\n",
       "    <tr>\n",
       "      <th>1</th>\n",
       "      <td>gostar ficar aconchegar</td>\n",
       "      <td>alegria</td>\n",
       "    </tr>\n",
       "    <tr>\n",
       "      <th>2</th>\n",
       "      <td>adesão cursar hoje</td>\n",
       "      <td>alegria</td>\n",
       "    </tr>\n",
       "    <tr>\n",
       "      <th>3</th>\n",
       "      <td>admirar</td>\n",
       "      <td>alegria</td>\n",
       "    </tr>\n",
       "    <tr>\n",
       "      <th>4</th>\n",
       "      <td>adorar comer</td>\n",
       "      <td>alegria</td>\n",
       "    </tr>\n",
       "    <tr>\n",
       "      <th>...</th>\n",
       "      <td>...</td>\n",
       "      <td>...</td>\n",
       "    </tr>\n",
       "    <tr>\n",
       "      <th>191</th>\n",
       "      <td>chocar amedrontar assassinato brutal</td>\n",
       "      <td>medo</td>\n",
       "    </tr>\n",
       "    <tr>\n",
       "      <th>192</th>\n",
       "      <td>precisar afugentar ímpeto medo infernar</td>\n",
       "      <td>medo</td>\n",
       "    </tr>\n",
       "    <tr>\n",
       "      <th>193</th>\n",
       "      <td>político suar forçar parir afugentar amedrontar</td>\n",
       "      <td>medo</td>\n",
       "    </tr>\n",
       "    <tr>\n",
       "      <th>194</th>\n",
       "      <td>objetivo amedrontar</td>\n",
       "      <td>medo</td>\n",
       "    </tr>\n",
       "    <tr>\n",
       "      <th>195</th>\n",
       "      <td>apavorar</td>\n",
       "      <td>medo</td>\n",
       "    </tr>\n",
       "  </tbody>\n",
       "</table>\n",
       "<p>196 rows × 2 columns</p>\n",
       "</div>"
      ],
      "text/plain": [
       "                                               texto   emocao\n",
       "0                                trabalhar agradável  alegria\n",
       "1                            gostar ficar aconchegar  alegria\n",
       "2                                 adesão cursar hoje  alegria\n",
       "3                                            admirar  alegria\n",
       "4                                       adorar comer  alegria\n",
       "..                                               ...      ...\n",
       "191             chocar amedrontar assassinato brutal     medo\n",
       "192          precisar afugentar ímpeto medo infernar     medo\n",
       "193  político suar forçar parir afugentar amedrontar     medo\n",
       "194                              objetivo amedrontar     medo\n",
       "195                                         apavorar     medo\n",
       "\n",
       "[196 rows x 2 columns]"
      ]
     },
     "execution_count": 12,
     "metadata": {},
     "output_type": "execute_result"
    }
   ],
   "source": [
    "base_train['texto'] = base_train['texto'].apply(preprocessamento)\n",
    "base_train"
   ]
  },
  {
   "cell_type": "markdown",
   "metadata": {},
   "source": [
    "### Tratamento da classe"
   ]
  },
  {
   "cell_type": "code",
   "execution_count": 13,
   "metadata": {},
   "outputs": [
    {
     "data": {
      "text/plain": [
       "[['trabalhar agradável', {'ALEGRIA': True, 'MEDO': False}],\n",
       " ['gostar ficar aconchegar', {'ALEGRIA': True, 'MEDO': False}],\n",
       " ['adesão cursar hoje', {'ALEGRIA': True, 'MEDO': False}],\n",
       " ['admirar', {'ALEGRIA': True, 'MEDO': False}],\n",
       " ['adorar comer', {'ALEGRIA': True, 'MEDO': False}],\n",
       " ['adorar cabelar maciar', {'ALEGRIA': True, 'MEDO': False}],\n",
       " ['adorar cor olho', {'ALEGRIA': True, 'MEDO': False}],\n",
       " ['somar amável outro', {'ALEGRIA': True, 'MEDO': False}],\n",
       " ['sentir umar afeição', {'ALEGRIA': True, 'MEDO': False}],\n",
       " ['querer agradar filho', {'ALEGRIA': True, 'MEDO': False}],\n",
       " ['sentir completamente amar', {'ALEGRIA': True, 'MEDO': False}],\n",
       " ['amar', {'ALEGRIA': True, 'MEDO': False}],\n",
       " ['alívio', {'ALEGRIA': True, 'MEDO': False}],\n",
       " ['dor amenizar finalmente', {'ALEGRIA': True, 'MEDO': False}],\n",
       " ['achar apaixonar', {'ALEGRIA': True, 'MEDO': False}],\n",
       " ['amar maravilhoso', {'ALEGRIA': True, 'MEDO': False}],\n",
       " ['sentir animar', {'ALEGRIA': True, 'MEDO': False}],\n",
       " ['sentir hoje', {'ALEGRIA': True, 'MEDO': False}],\n",
       " ['comer luar belo', {'ALEGRIA': True, 'MEDO': False}],\n",
       " ['dia bonito', {'ALEGRIA': True, 'MEDO': False}],\n",
       " ['comer afortunar', {'ALEGRIA': True, 'MEDO': False}],\n",
       " ['maravilhar mundo', {'ALEGRIA': True, 'MEDO': False}],\n",
       " ['receber caro hoje colega', {'ALEGRIA': True, 'MEDO': False}],\n",
       " ['sentir reconfortar hoje', {'ALEGRIA': True, 'MEDO': False}],\n",
       " ['amigo', {'ALEGRIA': True, 'MEDO': False}],\n",
       " ['contentar resultar teste', {'ALEGRIA': True, 'MEDO': False}],\n",
       " ['pintura brilhante', {'ALEGRIA': True, 'MEDO': False}],\n",
       " ['água abundância', {'ALEGRIA': True, 'MEDO': False}],\n",
       " ['roupar delicado', {'ALEGRIA': True, 'MEDO': False}],\n",
       " ['comediante', {'ALEGRIA': True, 'MEDO': False}],\n",
       " ['bondade suar', {'ALEGRIA': True, 'MEDO': False}],\n",
       " ['amor lindar', {'ALEGRIA': True, 'MEDO': False}],\n",
       " ['amizade durar parir', {'ALEGRIA': True, 'MEDO': False}],\n",
       " ['eufórico notícia', {'ALEGRIA': True, 'MEDO': False}],\n",
       " ['realmente fiel mim', {'ALEGRIA': True, 'MEDO': False}],\n",
       " ['umar festa parir comemorar aniversário', {'ALEGRIA': True, 'MEDO': False}],\n",
       " ['graça deus enxergar certar', {'ALEGRIA': True, 'MEDO': False}],\n",
       " ['melhor escolher', {'ALEGRIA': True, 'MEDO': False}],\n",
       " ['incrível belo', {'ALEGRIA': True, 'MEDO': False}],\n",
       " ['engraçar explicar', {'ALEGRIA': True, 'MEDO': False}],\n",
       " ['emocionante', {'ALEGRIA': True, 'MEDO': False}],\n",
       " ['cativar pelar olhar', {'ALEGRIA': True, 'MEDO': False}],\n",
       " ['loucamente apaixonar', {'ALEGRIA': True, 'MEDO': False}],\n",
       " ['dúvida', {'ALEGRIA': True, 'MEDO': False}],\n",
       " ['rodear pelar abraçar', {'ALEGRIA': True, 'MEDO': False}],\n",
       " ['estrelo pelar caminhar', {'ALEGRIA': True, 'MEDO': False}],\n",
       " ['sentir sol', {'ALEGRIA': True, 'MEDO': False}],\n",
       " ['sorrir orelhar orelhar', {'ALEGRIA': True, 'MEDO': False}],\n",
       " ['valer peno', {'ALEGRIA': True, 'MEDO': False}],\n",
       " ['finalmente colocar amor', {'ALEGRIA': True, 'MEDO': False}],\n",
       " ['nó dançar noite adentrar', {'ALEGRIA': True, 'MEDO': False}],\n",
       " ['amor brilhante', {'ALEGRIA': True, 'MEDO': False}],\n",
       " ['tocar coração durante caminhar', {'ALEGRIA': True, 'MEDO': False}],\n",
       " ['suar amigo companheiro', {'ALEGRIA': True, 'MEDO': False}],\n",
       " ['trazer voltar vidar', {'ALEGRIA': True, 'MEDO': False}],\n",
       " ['comer sonhar doce', {'ALEGRIA': True, 'MEDO': False}],\n",
       " ['adorar doce frutar', {'ALEGRIA': True, 'MEDO': False}],\n",
       " ['suco favorito', {'ALEGRIA': True, 'MEDO': False}],\n",
       " ['agradecido pelar ajudar', {'ALEGRIA': True, 'MEDO': False}],\n",
       " ['enorme prazer equipar', {'ALEGRIA': True, 'MEDO': False}],\n",
       " ['trabalhar equipar melhor', {'ALEGRIA': True, 'MEDO': False}],\n",
       " ['sentir flutuar ar', {'ALEGRIA': True, 'MEDO': False}],\n",
       " ['brisa agradável hoje', {'ALEGRIA': True, 'MEDO': False}],\n",
       " ['ótimo compatível', {'ALEGRIA': True, 'MEDO': False}],\n",
       " ['compatível outro', {'ALEGRIA': True, 'MEDO': False}],\n",
       " ['órgão compatível paciente', {'ALEGRIA': True, 'MEDO': False}],\n",
       " ['contentar aceito faculdade', {'ALEGRIA': True, 'MEDO': False}],\n",
       " ['aprovar exame', {'ALEGRIA': True, 'MEDO': False}],\n",
       " ['beneficiar pelar empresar', {'ALEGRIA': True, 'MEDO': False}],\n",
       " ['cativante', {'ALEGRIA': True, 'MEDO': False}],\n",
       " ['contentar apoiar', {'ALEGRIA': True, 'MEDO': False}],\n",
       " ['comer confortável', {'ALEGRIA': True, 'MEDO': False}],\n",
       " ['quentar frio', {'ALEGRIA': True, 'MEDO': False}],\n",
       " ['elogiar', {'ALEGRIA': True, 'MEDO': False}],\n",
       " ['chamar parir comemorar', {'ALEGRIA': True, 'MEDO': False}],\n",
       " ['desejável suar presença apresentação', {'ALEGRIA': True, 'MEDO': False}],\n",
       " ['grato', {'ALEGRIA': True, 'MEDO': False}],\n",
       " ['dedicar naquilo', {'ALEGRIA': True, 'MEDO': False}],\n",
       " ['completamente apaixonar', {'ALEGRIA': True, 'MEDO': False}],\n",
       " ['agitar noite', {'ALEGRIA': True, 'MEDO': False}],\n",
       " ['significar parir mim', {'ALEGRIA': True, 'MEDO': False}],\n",
       " ['agir preconceito julgamento', {'ALEGRIA': True, 'MEDO': False}],\n",
       " ['finalmente completar coleção maravilhoso',\n",
       "  {'ALEGRIA': True, 'MEDO': False}],\n",
       " ['suar rei', {'ALEGRIA': True, 'MEDO': False}],\n",
       " ['satisfatoriamente anunciar vencedor jogo',\n",
       "  {'ALEGRIA': True, 'MEDO': False}],\n",
       " ['atrair facilmente', {'ALEGRIA': True, 'MEDO': False}],\n",
       " ['rapaz extremamente atraente', {'ALEGRIA': True, 'MEDO': False}],\n",
       " ['sinto-me vivo', {'ALEGRIA': True, 'MEDO': False}],\n",
       " ['sinto-me paz', {'ALEGRIA': True, 'MEDO': False}],\n",
       " ['lucrar', {'ALEGRIA': True, 'MEDO': False}],\n",
       " ['ordem', {'ALEGRIA': True, 'MEDO': False}],\n",
       " ['arrumar empregar junto', {'ALEGRIA': True, 'MEDO': False}],\n",
       " ['arrumação terminar alívio', {'ALEGRIA': True, 'MEDO': False}],\n",
       " ['câncer benigno', {'ALEGRIA': True, 'MEDO': False}],\n",
       " ['amor abundante', {'ALEGRIA': True, 'MEDO': False}],\n",
       " ['caridoso natal', {'ALEGRIA': True, 'MEDO': False}],\n",
       " ['charme irar atrair', {'ALEGRIA': True, 'MEDO': False}],\n",
       " ['comer charmoso querer', {'ALEGRIA': True, 'MEDO': False}],\n",
       " ['querido amigo', {'ALEGRIA': True, 'MEDO': False}],\n",
       " ['cuidadoso sentimento', {'ALEGRIA': True, 'MEDO': False}],\n",
       " ['comover tamanho caridade', {'ALEGRIA': True, 'MEDO': False}],\n",
       " ['chá quentar reconfortante', {'ALEGRIA': True, 'MEDO': False}],\n",
       " ['alegria', {'ALEGRIA': True, 'MEDO': False}],\n",
       " ['aplaudir vencedor', {'ALEGRIA': True, 'MEDO': False}],\n",
       " ['palmar parir aniversariante', {'ALEGRIA': True, 'MEDO': False}],\n",
       " ['desejar', {'ALEGRIA': True, 'MEDO': False}],\n",
       " ['horar apreciar vinho', {'ALEGRIA': True, 'MEDO': False}],\n",
       " ['apreciar suar presença escola', {'ALEGRIA': True, 'MEDO': False}],\n",
       " ['ansiar trabalho', {'ALEGRIA': True, 'MEDO': False}],\n",
       " ['maravilhoso jogar amistoso', {'ALEGRIA': True, 'MEDO': False}],\n",
       " ['ótimo menimos apaziguar', {'ALEGRIA': True, 'MEDO': False}],\n",
       " ['concretizar finalmente sonhar', {'ALEGRIA': True, 'MEDO': False}],\n",
       " ['implorar matar', {'ALEGRIA': False, 'MEDO': True}],\n",
       " ['perigoso', {'ALEGRIA': False, 'MEDO': True}],\n",
       " ['segurar', {'ALEGRIA': False, 'MEDO': True}],\n",
       " ['correr pra', {'ALEGRIA': False, 'MEDO': True}],\n",
       " ['socorrer querer roubar doce', {'ALEGRIA': False, 'MEDO': True}],\n",
       " ['caro perseguir', {'ALEGRIA': False, 'MEDO': True}],\n",
       " ['entrar perigoso', {'ALEGRIA': False, 'MEDO': True}],\n",
       " ['continuar assustador', {'ALEGRIA': False, 'MEDO': True}],\n",
       " ['selva animar perigoso', {'ALEGRIA': False, 'MEDO': True}],\n",
       " ['avançar cautela', {'ALEGRIA': False, 'MEDO': True}],\n",
       " ['silencioso cuidar', {'ALEGRIA': False, 'MEDO': True}],\n",
       " ['deixe-me viver', {'ALEGRIA': False, 'MEDO': True}],\n",
       " ['ficar mesada tirar noto', {'ALEGRIA': False, 'MEDO': True}],\n",
       " ['parecer olho vigiar', {'ALEGRIA': False, 'MEDO': True}],\n",
       " ['sentença juiz negativo', {'ALEGRIA': False, 'MEDO': True}],\n",
       " ['missão arriscar', {'ALEGRIA': False, 'MEDO': True}],\n",
       " ['salvem-se', {'ALEGRIA': False, 'MEDO': True}],\n",
       " ['planar descobrir', {'ALEGRIA': False, 'MEDO': True}],\n",
       " ['culpar jurar', {'ALEGRIA': False, 'MEDO': True}],\n",
       " ['tomar cuidar lobisomem', {'ALEGRIA': False, 'MEDO': True}],\n",
       " ['achar descobrir verdade', {'ALEGRIA': False, 'MEDO': True}],\n",
       " ['deus desaparecer', {'ALEGRIA': False, 'MEDO': True}],\n",
       " ['tomar daqui', {'ALEGRIA': False, 'MEDO': True}],\n",
       " ['manter segredar descobrir ferrar', {'ALEGRIA': False, 'MEDO': True}],\n",
       " ['soltar inocentar', {'ALEGRIA': False, 'MEDO': True}],\n",
       " ['ouvir passo mim', {'ALEGRIA': False, 'MEDO': True}],\n",
       " ['pedir socorrer', {'ALEGRIA': False, 'MEDO': True}],\n",
       " ['cuidar curvo estrar', {'ALEGRIA': False, 'MEDO': True}],\n",
       " ['parecer perigoso', {'ALEGRIA': False, 'MEDO': True}],\n",
       " ['tremer medo', {'ALEGRIA': False, 'MEDO': True}],\n",
       " ['socorrer cair', {'ALEGRIA': False, 'MEDO': True}],\n",
       " ['florestar negro perigoso', {'ALEGRIA': False, 'MEDO': True}],\n",
       " ['ouvir passo direção', {'ALEGRIA': False, 'MEDO': True}],\n",
       " ['achar arriscar', {'ALEGRIA': False, 'MEDO': True}],\n",
       " ['voltar perigoso', {'ALEGRIA': False, 'MEDO': True}],\n",
       " ['fugir acabar morto', {'ALEGRIA': False, 'MEDO': True}],\n",
       " ['recear livrar situação', {'ALEGRIA': False, 'MEDO': True}],\n",
       " ['socorrer armar', {'ALEGRIA': False, 'MEDO': True}],\n",
       " ['eis cuidar bater postar', {'ALEGRIA': False, 'MEDO': True}],\n",
       " ['socorrer nó afundar', {'ALEGRIA': False, 'MEDO': True}],\n",
       " ['sério cuidar armar', {'ALEGRIA': False, 'MEDO': True}],\n",
       " ['tubarão atacar', {'ALEGRIA': False, 'MEDO': True}],\n",
       " ['sentir arrepio ficar escuro', {'ALEGRIA': False, 'MEDO': True}],\n",
       " ['calmo dinheiro', {'ALEGRIA': False, 'MEDO': True}],\n",
       " ['achar enganar', {'ALEGRIA': False, 'MEDO': True}],\n",
       " ['ligeiro fugir depressa', {'ALEGRIA': False, 'MEDO': True}],\n",
       " ['crocodilo selvagem vir parir', {'ALEGRIA': False, 'MEDO': True}],\n",
       " ['ficar achar', {'ALEGRIA': False, 'MEDO': True}],\n",
       " ['fugir tigre parecer faminto', {'ALEGRIA': False, 'MEDO': True}],\n",
       " ['sair precisar milagre', {'ALEGRIA': False, 'MEDO': True}],\n",
       " ['tirar mim socorrer', {'ALEGRIA': False, 'MEDO': True}],\n",
       " ['nadar afogar', {'ALEGRIA': False, 'MEDO': True}],\n",
       " ['segurar', {'ALEGRIA': False, 'MEDO': True}],\n",
       " ['apanhar pai boletim', {'ALEGRIA': False, 'MEDO': True}],\n",
       " ['conseguir sair daqui', {'ALEGRIA': False, 'MEDO': True}],\n",
       " ['sair tardar assaltar', {'ALEGRIA': False, 'MEDO': True}],\n",
       " ['deixar', {'ALEGRIA': False, 'MEDO': True}],\n",
       " ['esperar largar', {'ALEGRIA': False, 'MEDO': True}],\n",
       " ['pelar suar segurança', {'ALEGRIA': False, 'MEDO': True}],\n",
       " ['entregar dinheiro matar', {'ALEGRIA': False, 'MEDO': True}],\n",
       " ['levar dinheiro', {'ALEGRIA': False, 'MEDO': True}],\n",
       " ['dirigir rápido', {'ALEGRIA': False, 'MEDO': True}],\n",
       " ['descobrir prender', {'ALEGRIA': False, 'MEDO': True}],\n",
       " ['esperar nenhum', {'ALEGRIA': False, 'MEDO': True}],\n",
       " ['afogar ajudar sair água', {'ALEGRIA': False, 'MEDO': True}],\n",
       " ['salvar', {'ALEGRIA': False, 'MEDO': True}],\n",
       " ['querer pensar acontecer', {'ALEGRIA': False, 'MEDO': True}],\n",
       " ['cidade umar desgraçar outro', {'ALEGRIA': False, 'MEDO': True}],\n",
       " ['alguém ligar assustar', {'ALEGRIA': False, 'MEDO': True}],\n",
       " ['remedio matar', {'ALEGRIA': False, 'MEDO': True}],\n",
       " ['confiar nele cautela', {'ALEGRIA': False, 'MEDO': True}],\n",
       " ['cautela', {'ALEGRIA': False, 'MEDO': True}],\n",
       " ['descobrir deus', {'ALEGRIA': False, 'MEDO': True}],\n",
       " ['recear', {'ALEGRIA': False, 'MEDO': True}],\n",
       " ['noite perigoso', {'ALEGRIA': False, 'MEDO': True}],\n",
       " ['estremecer casar', {'ALEGRIA': False, 'MEDO': True}],\n",
       " ['olhar criatura mover monstruosamente', {'ALEGRIA': False, 'MEDO': True}],\n",
       " ['aguentar suspense', {'ALEGRIA': False, 'MEDO': True}],\n",
       " ['afugentar cão', {'ALEGRIA': False, 'MEDO': True}],\n",
       " ['chocar amedrontar assassinato brutal', {'ALEGRIA': False, 'MEDO': True}],\n",
       " ['precisar afugentar ímpeto medo infernar', {'ALEGRIA': False, 'MEDO': True}],\n",
       " ['político suar forçar parir afugentar amedrontar',\n",
       "  {'ALEGRIA': False, 'MEDO': True}],\n",
       " ['objetivo amedrontar', {'ALEGRIA': False, 'MEDO': True}],\n",
       " ['apavorar', {'ALEGRIA': False, 'MEDO': True}]]"
      ]
     },
     "execution_count": 13,
     "metadata": {},
     "output_type": "execute_result"
    }
   ],
   "source": [
    "base_dados_final = []\n",
    "\n",
    "for texto, emocao in zip(base_train['texto'], base_train['emocao']):\n",
    "        if emocao == 'alegria':\n",
    "            dic = ({'ALEGRIA': True, \n",
    "                    'MEDO': False})\n",
    "        elif emocao == 'medo':\n",
    "            dic = ({'ALEGRIA': False, \n",
    "                    'MEDO': True})\n",
    "            \n",
    "        base_dados_final.append([texto, dic.copy()])\n",
    "        \n",
    "base_dados_final"
   ]
  },
  {
   "cell_type": "markdown",
   "metadata": {},
   "source": [
    "## Criação do classificador"
   ]
  },
  {
   "cell_type": "code",
   "execution_count": 19,
   "metadata": {},
   "outputs": [],
   "source": [
    "modelo = spacy.blank('pt')\n",
    "categorias = modelo.create_pipe(\"textcat\")\n",
    "categorias.add_label('ALEGRIA')\n",
    "categorias.add_label('MEDO')\n",
    "#modelo.add_pipe(\"textcat\")\n",
    "historico = []"
   ]
  },
  {
   "cell_type": "code",
   "execution_count": 51,
   "metadata": {},
   "outputs": [
    {
     "data": {
      "text/plain": [
       "{}"
      ]
     },
     "execution_count": 51,
     "metadata": {},
     "output_type": "execute_result"
    }
   ],
   "source": [
    "doc.cats"
   ]
  },
  {
   "cell_type": "code",
   "execution_count": 56,
   "metadata": {},
   "outputs": [
    {
     "ename": "KeyError",
     "evalue": "\"[E983] Invalid key(s) for 'token_annotation': ALEGRIA. Available keys: {'LEMMA', 'deps', 'morphs', 'POS', 'pos', 'lemmas', 'HEAD', 'DEP', 'ORTH', 'SENT_START', 'words', 'tags', 'SPACY', 'heads', 'spaces', 'TAG', 'MORPH', 'sent_starts'}\"",
     "output_type": "error",
     "traceback": [
      "\u001b[1;31m---------------------------------------------------------------------------\u001b[0m",
      "\u001b[1;31mKeyError\u001b[0m                                  Traceback (most recent call last)",
      "\u001b[1;32m<ipython-input-56-687b7b957ed4>\u001b[0m in \u001b[0;36m<module>\u001b[1;34m\u001b[0m\n\u001b[0;32m      6\u001b[0m         \u001b[1;32mfor\u001b[0m \u001b[0mtext\u001b[0m\u001b[1;33m,\u001b[0m \u001b[0mannotations\u001b[0m \u001b[1;32min\u001b[0m \u001b[0mbatch\u001b[0m\u001b[1;33m:\u001b[0m\u001b[1;33m\u001b[0m\u001b[1;33m\u001b[0m\u001b[0m\n\u001b[0;32m      7\u001b[0m             \u001b[1;31m# create Example\u001b[0m\u001b[1;33m\u001b[0m\u001b[1;33m\u001b[0m\u001b[1;33m\u001b[0m\u001b[0m\n\u001b[1;32m----> 8\u001b[1;33m             \u001b[0mexamples\u001b[0m \u001b[1;33m=\u001b[0m \u001b[0mExample\u001b[0m\u001b[1;33m.\u001b[0m\u001b[0mfrom_dict\u001b[0m\u001b[1;33m(\u001b[0m\u001b[0mmodelo\u001b[0m\u001b[1;33m.\u001b[0m\u001b[0mmake_doc\u001b[0m\u001b[1;33m(\u001b[0m\u001b[0mtext\u001b[0m\u001b[1;33m)\u001b[0m\u001b[1;33m,\u001b[0m \u001b[0mannotations\u001b[0m\u001b[1;33m)\u001b[0m\u001b[1;33m\u001b[0m\u001b[1;33m\u001b[0m\u001b[0m\n\u001b[0m\u001b[0;32m      9\u001b[0m             \u001b[1;31m# Update the model\u001b[0m\u001b[1;33m\u001b[0m\u001b[1;33m\u001b[0m\u001b[1;33m\u001b[0m\u001b[0m\n\u001b[0;32m     10\u001b[0m             \u001b[0mmodelo\u001b[0m\u001b[1;33m.\u001b[0m\u001b[0mupdate\u001b[0m\u001b[1;33m(\u001b[0m\u001b[0mexamples\u001b[0m\u001b[1;33m,\u001b[0m \u001b[0mlosses\u001b[0m\u001b[1;33m=\u001b[0m\u001b[0mlosses\u001b[0m\u001b[1;33m)\u001b[0m\u001b[1;33m\u001b[0m\u001b[1;33m\u001b[0m\u001b[0m\n",
      "\u001b[1;32m~\\anaconda3\\lib\\site-packages\\spacy\\training\\example.pyx\u001b[0m in \u001b[0;36mspacy.training.example.Example.from_dict\u001b[1;34m()\u001b[0m\n",
      "\u001b[1;32m~\\anaconda3\\lib\\site-packages\\spacy\\training\\example.pyx\u001b[0m in \u001b[0;36mspacy.training.example._fix_legacy_dict_data\u001b[1;34m()\u001b[0m\n",
      "\u001b[1;31mKeyError\u001b[0m: \"[E983] Invalid key(s) for 'token_annotation': ALEGRIA. Available keys: {'LEMMA', 'deps', 'morphs', 'POS', 'pos', 'lemmas', 'HEAD', 'DEP', 'ORTH', 'SENT_START', 'words', 'tags', 'SPACY', 'heads', 'spaces', 'TAG', 'MORPH', 'sent_starts'}\""
     ]
    }
   ],
   "source": [
    "modelo.begin_training()\n",
    "for epoca in range(1000):\n",
    "    random.shuffle(base_dados_final)\n",
    "    losses = {}\n",
    "    for batch in spacy.util.minibatch(base_dados_final, 30):\n",
    "        for text, annotations in batch:\n",
    "            # create Example\n",
    "            examples = Example.from_dict(modelo.make_doc(text), annotations)\n",
    "            # Update the model\n",
    "            modelo.update(examples, losses=losses)\n",
    "        \n",
    "    if epoca % 100 == 0:\n",
    "        print(losses)\n",
    "        historico.append(losses)"
   ]
  }
 ],
 "metadata": {
  "kernelspec": {
   "display_name": "Python 3",
   "language": "python",
   "name": "python3"
  },
  "language_info": {
   "codemirror_mode": {
    "name": "ipython",
    "version": 3
   },
   "file_extension": ".py",
   "mimetype": "text/x-python",
   "name": "python",
   "nbconvert_exporter": "python",
   "pygments_lexer": "ipython3",
   "version": "3.8.5"
  }
 },
 "nbformat": 4,
 "nbformat_minor": 4
}
