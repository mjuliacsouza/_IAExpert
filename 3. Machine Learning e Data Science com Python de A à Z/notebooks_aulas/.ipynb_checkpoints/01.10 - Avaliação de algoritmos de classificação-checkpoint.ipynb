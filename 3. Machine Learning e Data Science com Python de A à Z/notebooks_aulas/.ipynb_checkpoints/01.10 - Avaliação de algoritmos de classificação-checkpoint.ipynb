{
 "cells": [
  {
   "cell_type": "code",
   "execution_count": 21,
   "metadata": {},
   "outputs": [],
   "source": [
    "import pandas as pd\n",
    "import numpy as np\n",
    "import pickle\n",
    "import seaborn as srn\n",
    "import matplotlib.pyplot as plt\n",
    "srn.set()"
   ]
  },
  {
   "cell_type": "markdown",
   "metadata": {},
   "source": [
    "# Ajuste dos parêmetros dos algoritmos"
   ]
  },
  {
   "cell_type": "code",
   "execution_count": 2,
   "metadata": {},
   "outputs": [],
   "source": [
    "from sklearn.model_selection import GridSearchCV\n",
    "from sklearn.tree import DecisionTreeClassifier\n",
    "from sklearn.ensemble import RandomForestClassifier\n",
    "from sklearn.neighbors import KNeighborsClassifier\n",
    "from sklearn.linear_model import LogisticRegression\n",
    "from sklearn.svm import SVC\n",
    "from sklearn.neural_network import MLPClassifier"
   ]
  },
  {
   "cell_type": "markdown",
   "metadata": {},
   "source": [
    "## Base Crédito"
   ]
  },
  {
   "cell_type": "markdown",
   "metadata": {},
   "source": [
    "### Preparação dos dados"
   ]
  },
  {
   "cell_type": "code",
   "execution_count": 43,
   "metadata": {},
   "outputs": [],
   "source": [
    "with open('credit.pkl', 'rb') as f:\n",
    "    X_credit_train, y_credit_train, X_credit_test, y_credit_test = pickle.load(f)"
   ]
  },
  {
   "cell_type": "code",
   "execution_count": 44,
   "metadata": {},
   "outputs": [
    {
     "name": "stdout",
     "output_type": "stream",
     "text": [
      "treino:  (1500, 3) (1500,)\n",
      "teste:  (500, 3) (500,)\n"
     ]
    }
   ],
   "source": [
    "print('treino: ',X_credit_train.shape, y_credit_train.shape)\n",
    "print('teste: ',X_credit_test.shape, y_credit_test.shape)"
   ]
  },
  {
   "cell_type": "markdown",
   "metadata": {},
   "source": [
    "Para utilizar o Cross-validation não dividiremos a base de dados da mesma forma, então, primeiramente, vamos unir as bases de treino e teste utilizadas anteriormente."
   ]
  },
  {
   "cell_type": "code",
   "execution_count": 45,
   "metadata": {},
   "outputs": [
    {
     "data": {
      "text/plain": [
       "(2000, 3)"
      ]
     },
     "execution_count": 45,
     "metadata": {},
     "output_type": "execute_result"
    }
   ],
   "source": [
    "X_credit = np.concatenate((X_credit_train, X_credit_test), axis=0)\n",
    "X_credit.shape"
   ]
  },
  {
   "cell_type": "code",
   "execution_count": 46,
   "metadata": {},
   "outputs": [
    {
     "data": {
      "text/plain": [
       "(2000,)"
      ]
     },
     "execution_count": 46,
     "metadata": {},
     "output_type": "execute_result"
    }
   ],
   "source": [
    "y_credit = np.concatenate((y_credit_train, y_credit_test), axis=0)\n",
    "y_credit.shape"
   ]
  },
  {
   "cell_type": "markdown",
   "metadata": {},
   "source": [
    "### Árvore de decisão"
   ]
  },
  {
   "cell_type": "code",
   "execution_count": null,
   "metadata": {},
   "outputs": [],
   "source": [
    "parametros_arvore = {'criterion': ['gini','entropy'],\n",
    "                     'splitter':['best','random'], \n",
    "                     'min_samples_split': [2, 5, 10],\n",
    "                     'min_samples_leaf': [1, 5, 10]}"
   ]
  },
  {
   "cell_type": "code",
   "execution_count": null,
   "metadata": {},
   "outputs": [],
   "source": [
    "grid_search_arvore = GridSearchCV(estimator=DecisionTreeClassifier(), \n",
    "                                  param_grid=parametros_arvore)\n",
    "grid_search_arvore.fit(X_credit, y_credit)\n",
    "melhores_parametros = grid_search_arvore.best_params_\n",
    "melhor_resultado = grid_search_arvore.best_score_\n",
    "print(melhores_parametros)\n",
    "print(melhor_resultado)"
   ]
  },
  {
   "cell_type": "markdown",
   "metadata": {},
   "source": [
    "### Random forest"
   ]
  },
  {
   "cell_type": "code",
   "execution_count": null,
   "metadata": {},
   "outputs": [],
   "source": [
    "parametros_random = {'criterion': ['gini','entropy'],\n",
    "                     'n_estimators':[10, 40, 100, 150], \n",
    "                     'min_samples_split': [2, 5, 10],\n",
    "                     'min_samples_leaf': [1, 5, 10]}"
   ]
  },
  {
   "cell_type": "code",
   "execution_count": null,
   "metadata": {},
   "outputs": [],
   "source": [
    "grid_search_random = GridSearchCV(estimator=RandomForestClassifier(), \n",
    "                                  param_grid=parametros_random)\n",
    "grid_search_random.fit(X_credit, y_credit)\n",
    "melhores_parametros = grid_search_random.best_params_\n",
    "melhor_resultado = grid_search_random.best_score_\n",
    "print(melhores_parametros)\n",
    "print(melhor_resultado)"
   ]
  },
  {
   "cell_type": "markdown",
   "metadata": {},
   "source": [
    "### KNN"
   ]
  },
  {
   "cell_type": "code",
   "execution_count": 47,
   "metadata": {},
   "outputs": [],
   "source": [
    "parametros_knn = {'n_neighbors': [3, 5, 10, 20], \n",
    "                  'p': [1, 2]}"
   ]
  },
  {
   "cell_type": "code",
   "execution_count": 48,
   "metadata": {},
   "outputs": [
    {
     "name": "stdout",
     "output_type": "stream",
     "text": [
      "{'n_neighbors': 20, 'p': 1}\n",
      "0.9800000000000001\n"
     ]
    }
   ],
   "source": [
    "grid_search_knn = GridSearchCV(estimator=KNeighborsClassifier(), \n",
    "                                  param_grid=parametros_knn)\n",
    "grid_search_knn.fit(X_credit, y_credit)\n",
    "melhores_parametros = grid_search_knn.best_params_\n",
    "melhor_resultado = grid_search_knn.best_score_\n",
    "print(melhores_parametros)\n",
    "print(melhor_resultado)"
   ]
  },
  {
   "cell_type": "markdown",
   "metadata": {},
   "source": [
    "### Logistic Regression"
   ]
  },
  {
   "cell_type": "code",
   "execution_count": null,
   "metadata": {},
   "outputs": [],
   "source": [
    "parametros_logistic = {'tol': [0.0001, 0.00001, 0.000001] ,\n",
    "                       'C': [1.0, 1.5, 2.0],\n",
    "                       'solver': ['lbfgs', 'sag', 'saga']}"
   ]
  },
  {
   "cell_type": "code",
   "execution_count": null,
   "metadata": {},
   "outputs": [],
   "source": [
    "grid_search_logistic = GridSearchCV(estimator=LogisticRegression(), \n",
    "                                  param_grid=parametros_logistic)\n",
    "grid_search_logistic.fit(X_credit, y_credit)\n",
    "melhores_parametros = grid_search_logistic.best_params_\n",
    "melhor_resultado = grid_search_logistic.best_score_\n",
    "print(melhores_parametros)\n",
    "print(melhor_resultado)"
   ]
  },
  {
   "cell_type": "markdown",
   "metadata": {},
   "source": [
    "### SVM"
   ]
  },
  {
   "cell_type": "code",
   "execution_count": null,
   "metadata": {},
   "outputs": [],
   "source": [
    "parametros_svm = {'tol': [0.001, 0.0001, 0.00001],\n",
    "                  'C': [1.0, 1.5, 2.0],\n",
    "                  'kernel': ['rbf', 'linear', 'poly', 'sigmoid']}"
   ]
  },
  {
   "cell_type": "code",
   "execution_count": null,
   "metadata": {},
   "outputs": [],
   "source": [
    "grid_search_svm = GridSearchCV(estimator=SVC(), \n",
    "                                  param_grid=parametros_svm)\n",
    "grid_search_svm.fit(X_credit, y_credit)\n",
    "melhores_parametros = grid_search_svm.best_params_\n",
    "melhor_resultado = grid_search_svm.best_score_\n",
    "print(melhores_parametros)\n",
    "print(melhor_resultado)"
   ]
  },
  {
   "cell_type": "markdown",
   "metadata": {},
   "source": [
    "### Redes Neurais"
   ]
  },
  {
   "cell_type": "code",
   "execution_count": null,
   "metadata": {},
   "outputs": [],
   "source": [
    "parametros_redes = {'activation': ['relu', 'logistic', 'tanh'], \n",
    "                    'solver': ['adam', 'sgd'],\n",
    "                    'batch_size': [10, 56]}"
   ]
  },
  {
   "cell_type": "code",
   "execution_count": null,
   "metadata": {},
   "outputs": [],
   "source": [
    "grid_search_redes = GridSearchCV(estimator=MLPClassifier(), \n",
    "                                  param_grid=parametros_redes)\n",
    "grid_search_redes.fit(X_credit, y_credit)\n",
    "melhores_parametros = grid_search_redes.best_params_\n",
    "melhor_resultado = grid_search_redes.best_score_\n",
    "print(melhores_parametros)\n",
    "print(melhor_resultado)"
   ]
  },
  {
   "cell_type": "markdown",
   "metadata": {},
   "source": [
    "## Base Census"
   ]
  },
  {
   "cell_type": "code",
   "execution_count": null,
   "metadata": {},
   "outputs": [],
   "source": [
    "with open ('census.pkl', 'rb') as f:\n",
    "    X_census_train, y_census_train, X_census_test, y_census_test = pickle.load(f)"
   ]
  },
  {
   "cell_type": "code",
   "execution_count": null,
   "metadata": {},
   "outputs": [],
   "source": [
    "print('treino: ',X_census_train.shape, y_census_train.shape)\n",
    "print('teste: ',X_census_test.shape, y_census_test.shape)"
   ]
  },
  {
   "cell_type": "markdown",
   "metadata": {},
   "source": [
    "Juntando:"
   ]
  },
  {
   "cell_type": "code",
   "execution_count": null,
   "metadata": {},
   "outputs": [],
   "source": [
    "X_census = np.concatenate((X_census_train, X_census_test), axis=0)\n",
    "X_census.shape"
   ]
  },
  {
   "cell_type": "code",
   "execution_count": null,
   "metadata": {},
   "outputs": [],
   "source": [
    "y_census = np.concatenate((y_census_train, y_census_test), axis=0)\n",
    "y_census.shape"
   ]
  },
  {
   "cell_type": "markdown",
   "metadata": {},
   "source": [
    "# Validação Cruzada"
   ]
  },
  {
   "cell_type": "code",
   "execution_count": 50,
   "metadata": {},
   "outputs": [],
   "source": [
    "from sklearn.model_selection import cross_val_score, KFold"
   ]
  },
  {
   "cell_type": "code",
   "execution_count": null,
   "metadata": {},
   "outputs": [],
   "source": [
    "resultados_arvore = []\n",
    "resultados_random = []\n",
    "resultados_knn = []\n",
    "resultados_logistica = []\n",
    "resultados_svm = []\n",
    "\n",
    "for i in range(30):\n",
    "    print(i)\n",
    "    kfold = KFold(n_splits=10, shuffle=True, random_state=i)\n",
    "    \n",
    "    arvore = DecisionTreeClassifier(criterion='entropy', min_samples_leaf=1, min_samples_split=5,splitter='best')\n",
    "    scores = cross_val_score(arvore, X_credit, y_credit, cv=kfold)\n",
    "    resultados_arvore.append(scores.mean())\n",
    "    print(f'iteração:{i} com score: {scores.mean()}')\n",
    "    \n",
    "    random = RandomForestClassifier(criterion='entropy', min_samples_leaf=1, min_samples_split=5, n_estimators=10)\n",
    "    scores = cross_val_score(random, X_credit, y_credit, cv=kfold)\n",
    "    resultados_random.append(scores.mean())\n",
    "    \n",
    "    knn = KNeighborsClassifier(n_neighbors=20, p=1)\n",
    "    scores = cross_val_score(knn, X_credit, y_credit, cv=kfold)\n",
    "    resultados_knn.append(scores.mean())\n",
    "    \n",
    "    logistica = LogisticRegression(C=1.0, solver='lbfgs', tol=0.0001)\n",
    "    scores = cross_val_score(logistica, X_credit, y_credit, cv=kfold)\n",
    "    resultados_logistica.append(scores.mean())\n",
    "    \n",
    "    svm = SVC(C=1.5, kernel='rbf', tol=0.001)\n",
    "    scores = cross_val_score(svm, X_credit, y_credit, cv=kfold)\n",
    "    resultados_svm.append(scores.mean())"
   ]
  },
  {
   "cell_type": "code",
   "execution_count": null,
   "metadata": {},
   "outputs": [],
   "source": [
    "resultados_rede = []\n",
    "\n",
    "for i in range(30):\n",
    "    print(i)\n",
    "        \n",
    "    rede = MLPClassifier(activation='relu', batch_size=56, solver='adam')\n",
    "    scores = cross_val_score(rede, X_credit, y_credit, cv=kfold)\n",
    "    resultados_rede.append(scores.mean())"
   ]
  },
  {
   "cell_type": "markdown",
   "metadata": {},
   "source": [
    "# Análise dos resultados"
   ]
  },
  {
   "cell_type": "code",
   "execution_count": null,
   "metadata": {},
   "outputs": [],
   "source": [
    "resultados = pd.DataFrame({\"Árvore\": resultados_arvore, \n",
    "                           \"RandomForest\": resultados_random, \n",
    "                           \"KNN\": resultados_knn, \n",
    "                           \"Regressão Logistica\": resultados_logistica, \n",
    "                           \"SVM\": resultados_svm, \n",
    "                           \"Redes Neurais\": resultados_rede})\n",
    "resultados"
   ]
  },
  {
   "cell_type": "code",
   "execution_count": 3,
   "metadata": {},
   "outputs": [],
   "source": [
    "#resultados.to_csv(\"resultados.csv\", index=False)\n",
    "resultados = pd.read_csv('resultados.csv')"
   ]
  },
  {
   "cell_type": "code",
   "execution_count": 4,
   "metadata": {
    "scrolled": true
   },
   "outputs": [
    {
     "data": {
      "text/html": [
       "<div>\n",
       "<style scoped>\n",
       "    .dataframe tbody tr th:only-of-type {\n",
       "        vertical-align: middle;\n",
       "    }\n",
       "\n",
       "    .dataframe tbody tr th {\n",
       "        vertical-align: top;\n",
       "    }\n",
       "\n",
       "    .dataframe thead th {\n",
       "        text-align: right;\n",
       "    }\n",
       "</style>\n",
       "<table border=\"1\" class=\"dataframe\">\n",
       "  <thead>\n",
       "    <tr style=\"text-align: right;\">\n",
       "      <th></th>\n",
       "      <th>Árvore</th>\n",
       "      <th>RandomForest</th>\n",
       "      <th>KNN</th>\n",
       "      <th>Regressão Logistica</th>\n",
       "      <th>SVM</th>\n",
       "      <th>Redes Neurais</th>\n",
       "    </tr>\n",
       "  </thead>\n",
       "  <tbody>\n",
       "    <tr>\n",
       "      <th>count</th>\n",
       "      <td>30.000000</td>\n",
       "      <td>30.000000</td>\n",
       "      <td>30.000000</td>\n",
       "      <td>30.000000</td>\n",
       "      <td>30.000000</td>\n",
       "      <td>30.000000</td>\n",
       "    </tr>\n",
       "    <tr>\n",
       "      <th>mean</th>\n",
       "      <td>0.987150</td>\n",
       "      <td>0.983800</td>\n",
       "      <td>0.980200</td>\n",
       "      <td>0.946950</td>\n",
       "      <td>0.983983</td>\n",
       "      <td>0.996933</td>\n",
       "    </tr>\n",
       "    <tr>\n",
       "      <th>std</th>\n",
       "      <td>0.001806</td>\n",
       "      <td>0.001669</td>\n",
       "      <td>0.001270</td>\n",
       "      <td>0.000687</td>\n",
       "      <td>0.001141</td>\n",
       "      <td>0.000254</td>\n",
       "    </tr>\n",
       "    <tr>\n",
       "      <th>min</th>\n",
       "      <td>0.982000</td>\n",
       "      <td>0.980000</td>\n",
       "      <td>0.977500</td>\n",
       "      <td>0.945500</td>\n",
       "      <td>0.982000</td>\n",
       "      <td>0.996500</td>\n",
       "    </tr>\n",
       "    <tr>\n",
       "      <th>25%</th>\n",
       "      <td>0.986125</td>\n",
       "      <td>0.982500</td>\n",
       "      <td>0.979625</td>\n",
       "      <td>0.946500</td>\n",
       "      <td>0.983500</td>\n",
       "      <td>0.997000</td>\n",
       "    </tr>\n",
       "    <tr>\n",
       "      <th>50%</th>\n",
       "      <td>0.987250</td>\n",
       "      <td>0.984000</td>\n",
       "      <td>0.980000</td>\n",
       "      <td>0.947000</td>\n",
       "      <td>0.984000</td>\n",
       "      <td>0.997000</td>\n",
       "    </tr>\n",
       "    <tr>\n",
       "      <th>75%</th>\n",
       "      <td>0.988375</td>\n",
       "      <td>0.985000</td>\n",
       "      <td>0.981000</td>\n",
       "      <td>0.947500</td>\n",
       "      <td>0.984500</td>\n",
       "      <td>0.997000</td>\n",
       "    </tr>\n",
       "    <tr>\n",
       "      <th>max</th>\n",
       "      <td>0.990500</td>\n",
       "      <td>0.986000</td>\n",
       "      <td>0.983500</td>\n",
       "      <td>0.948500</td>\n",
       "      <td>0.987000</td>\n",
       "      <td>0.997500</td>\n",
       "    </tr>\n",
       "  </tbody>\n",
       "</table>\n",
       "</div>"
      ],
      "text/plain": [
       "          Árvore  RandomForest        KNN  Regressão Logistica        SVM  \\\n",
       "count  30.000000     30.000000  30.000000            30.000000  30.000000   \n",
       "mean    0.987150      0.983800   0.980200             0.946950   0.983983   \n",
       "std     0.001806      0.001669   0.001270             0.000687   0.001141   \n",
       "min     0.982000      0.980000   0.977500             0.945500   0.982000   \n",
       "25%     0.986125      0.982500   0.979625             0.946500   0.983500   \n",
       "50%     0.987250      0.984000   0.980000             0.947000   0.984000   \n",
       "75%     0.988375      0.985000   0.981000             0.947500   0.984500   \n",
       "max     0.990500      0.986000   0.983500             0.948500   0.987000   \n",
       "\n",
       "       Redes Neurais  \n",
       "count      30.000000  \n",
       "mean        0.996933  \n",
       "std         0.000254  \n",
       "min         0.996500  \n",
       "25%         0.997000  \n",
       "50%         0.997000  \n",
       "75%         0.997000  \n",
       "max         0.997500  "
      ]
     },
     "execution_count": 4,
     "metadata": {},
     "output_type": "execute_result"
    }
   ],
   "source": [
    "resultados.describe(include='all')"
   ]
  },
  {
   "cell_type": "markdown",
   "metadata": {},
   "source": [
    "# Teste de Hipóteses"
   ]
  },
  {
   "cell_type": "markdown",
   "metadata": {},
   "source": [
    "- Hipótese nula (H0):\n",
    "    - Afirmação que já existia\n",
    "    - Presumir que é verdadeira até que se prove o contrário\n",
    "- Hipótese alternativa (H1):\n",
    "    - O que está tentando provar (tudo que é diferente da nula)\n",
    "\n",
    "------------\n",
    "\n",
    "- Alpha:\n",
    "    - Probabilidade de rejeitar a hipótese nula, quanto menor mais seguro é o resultado (nível de significância) em geral 0,01 ou 0,05.\n",
    "- Valor de p (p-value):\n",
    "    - p-value >= alpha: rejeita H0\n",
    "    - p-value < alpha: rejeita H0\n",
    "    \n",
    "----------\n",
    "\n",
    "- Erro tipo I: rejeitar a hipótese nula quando não deveria\n",
    "- Erro tipo II: não rejeitar a hipótese nula quando deveria"
   ]
  },
  {
   "cell_type": "markdown",
   "metadata": {},
   "source": [
    "## Teste de Hipótese Z"
   ]
  },
  {
   "cell_type": "markdown",
   "metadata": {},
   "source": [
    "Usa-se a distribuição normal.\n",
    "\n",
    "Calcula o valor de Z e olha e busca na tabela z, o valor de p será 1 'menos' (para parte direita da curva de distribuição normal) o valor da tabela e então, compara-se com alpha."
   ]
  },
  {
   "cell_type": "markdown",
   "metadata": {},
   "source": [
    "## Teste de normalidade nos resultados"
   ]
  },
  {
   "cell_type": "code",
   "execution_count": 7,
   "metadata": {},
   "outputs": [],
   "source": [
    "alpha = 0.05"
   ]
  },
  {
   "cell_type": "code",
   "execution_count": 8,
   "metadata": {},
   "outputs": [],
   "source": [
    "from scipy.stats import shapiro"
   ]
  },
  {
   "cell_type": "code",
   "execution_count": 12,
   "metadata": {},
   "outputs": [
    {
     "data": {
      "text/plain": [
       "(ShapiroResult(statistic=0.9595629572868347, pvalue=0.30189549922943115),\n",
       " ShapiroResult(statistic=0.9355039596557617, pvalue=0.06886657327413559),\n",
       " ShapiroResult(statistic=0.924409031867981, pvalue=0.03495445102453232),\n",
       " ShapiroResult(statistic=0.9370993375778198, pvalue=0.07600117474794388),\n",
       " ShapiroResult(statistic=0.96373051404953, pvalue=0.384358674287796),\n",
       " ShapiroResult(statistic=0.6804021596908569, pvalue=8.191610163521545e-07))"
      ]
     },
     "execution_count": 12,
     "metadata": {},
     "output_type": "execute_result"
    }
   ],
   "source": [
    "shapiro(resultados['Árvore'].values), shapiro(resultados['RandomForest'].values), shapiro(resultados['KNN'].values), shapiro(resultados['Regressão Logistica'].values), shapiro(resultados['SVM'].values), shapiro(resultados['Redes Neurais'].values)"
   ]
  },
  {
   "cell_type": "markdown",
   "metadata": {},
   "source": [
    "Se p-value é menor ou igual a alpha, então a distribuição não é normal.\n",
    "\n",
    "Aqui recusa-se kNN e Redes neurais, onde se faz os testes paramétricos."
   ]
  },
  {
   "cell_type": "code",
   "execution_count": 42,
   "metadata": {},
   "outputs": [
    {
     "data": {
      "text/plain": [
       "Text(0.5, 1.0, 'Redes Neurais')"
      ]
     },
     "execution_count": 42,
     "metadata": {},
     "output_type": "execute_result"
    },
    {
     "data": {
      "image/png": "[encoded data removed]",
      "text/plain": [
       "<Figure size 1800x720 with 6 Axes>"
      ]
     },
     "metadata": {},
     "output_type": "display_data"
    }
   ],
   "source": [
    "fig, axes = plt.subplots(2, 3, figsize=(25, 10))\n",
    "fig.suptitle('Distribuição dos resultados')\n",
    "\n",
    "srn.kdeplot(resultados['Árvore'].values,ax=axes[0,0])\n",
    "axes[0,0].set_title('Árvore')\n",
    "\n",
    "srn.kdeplot(resultados['RandomForest'].values,ax=axes[0,1])\n",
    "axes[0,1].set_title('RandomForest')\n",
    "\n",
    "srn.kdeplot(resultados['KNN'].values,ax=axes[0,2])\n",
    "axes[0,2].set_title('kNN')\n",
    "\n",
    "srn.kdeplot(resultados['Regressão Logistica'].values,ax=axes[1,0])\n",
    "axes[1,0].set_title('Regressão Logistica')\n",
    "\n",
    "srn.kdeplot(resultados['SVM'].values,ax=axes[1,1])\n",
    "axes[1,1].set_title('SVM')\n",
    "\n",
    "srn.kdeplot(resultados['Redes Neurais'].values,ax=axes[1,2])\n",
    "axes[1,2].set_title('Redes Neurais')"
   ]
  },
  {
   "cell_type": "markdown",
   "metadata": {},
   "source": [
    "## Teste de hipótese - ANOVA e Tukey"
   ]
  },
  {
   "cell_type": "markdown",
   "metadata": {},
   "source": [
    "Vamos aplicar nos resultados da rede neural."
   ]
  },
  {
   "cell_type": "code",
   "execution_count": 54,
   "metadata": {},
   "outputs": [],
   "source": [
    "from scipy.stats import f_oneway"
   ]
  },
  {
   "cell_type": "code",
   "execution_count": 57,
   "metadata": {},
   "outputs": [
    {
     "data": {
      "text/plain": [
       "1.0511667521348344e-189"
      ]
     },
     "execution_count": 57,
     "metadata": {},
     "output_type": "execute_result"
    }
   ],
   "source": [
    "_,p = f_oneway(resultados['Árvore'].values, resultados['RandomForest'].values, resultados['KNN'].values, resultados['Regressão Logistica'].values, resultados['SVM'].values, resultados['Redes Neurais'].values)\n",
    "p"
   ]
  },
  {
   "cell_type": "markdown",
   "metadata": {},
   "source": [
    "Valor de p muito pequeno, vamos rejeitar a hipótese nula (menor que alpha = 0.05)"
   ]
  },
  {
   "cell_type": "code",
   "execution_count": 58,
   "metadata": {},
   "outputs": [
    {
     "name": "stdout",
     "output_type": "stream",
     "text": [
      "Hipótes nula rejeitada. Dados são diferentes.\n"
     ]
    }
   ],
   "source": [
    "alpha = 0.05\n",
    "if p <= alpha:\n",
    "    print('Hipótes nula rejeitada. Dados são diferentes.')\n",
    "else:\n",
    "    print('Hipótese alternativa rejeitada')"
   ]
  },
  {
   "cell_type": "markdown",
   "metadata": {},
   "source": [
    "Vamos aplicar agora o teste de Tukey para ver o melhor algoritmo, já que os dados são diferentes."
   ]
  },
  {
   "cell_type": "code",
   "execution_count": 60,
   "metadata": {},
   "outputs": [],
   "source": [
    "resultados_algoritmos = {'accuracy': np.concatenate([resultados['Árvore'].values, resultados['RandomForest'].values, resultados['KNN'].values, resultados['Regressão Logistica'].values, resultados['SVM'].values, resultados['Redes Neurais'].values]), \n",
    "                         'algoritmo': ['arvore','arvore','arvore','arvore','arvore','arvore','arvore','arvore','arvore','arvore','arvore','arvore','arvore','arvore','arvore','arvore','arvore','arvore','arvore','arvore','arvore','arvore','arvore','arvore','arvore','arvore','arvore','arvore','arvore','arvore', \n",
    "                          'random_forest','random_forest','random_forest','random_forest','random_forest','random_forest','random_forest','random_forest','random_forest','random_forest','random_forest','random_forest','random_forest','random_forest','random_forest','random_forest','random_forest','random_forest','random_forest','random_forest','random_forest','random_forest','random_forest','random_forest','random_forest','random_forest','random_forest','random_forest','random_forest','random_forest', \n",
    "                          'knn','knn','knn','knn','knn','knn','knn','knn','knn','knn','knn','knn','knn','knn','knn','knn','knn','knn','knn','knn','knn','knn','knn','knn','knn','knn','knn','knn','knn','knn', \n",
    "                          'logistica','logistica','logistica','logistica','logistica','logistica','logistica','logistica','logistica','logistica','logistica','logistica','logistica','logistica','logistica','logistica','logistica','logistica','logistica','logistica','logistica','logistica','logistica','logistica','logistica','logistica','logistica','logistica','logistica','logistica',\n",
    "                          'svm','svm','svm','svm','svm','svm','svm','svm','svm','svm','svm','svm','svm','svm','svm','svm','svm','svm','svm','svm','svm','svm','svm','svm','svm','svm','svm','svm','svm','svm',\n",
    "                          'rede_neural','rede_neural','rede_neural','rede_neural','rede_neural','rede_neural','rede_neural','rede_neural','rede_neural','rede_neural','rede_neural','rede_neural','rede_neural','rede_neural','rede_neural','rede_neural','rede_neural','rede_neural','rede_neural','rede_neural','rede_neural','rede_neural','rede_neural','rede_neural','rede_neural','rede_neural','rede_neural','rede_neural','rede_neural','rede_neural']}"
   ]
  },
  {
   "cell_type": "code",
   "execution_count": 61,
   "metadata": {},
   "outputs": [
    {
     "data": {
      "text/html": [
       "<div>\n",
       "<style scoped>\n",
       "    .dataframe tbody tr th:only-of-type {\n",
       "        vertical-align: middle;\n",
       "    }\n",
       "\n",
       "    .dataframe tbody tr th {\n",
       "        vertical-align: top;\n",
       "    }\n",
       "\n",
       "    .dataframe thead th {\n",
       "        text-align: right;\n",
       "    }\n",
       "</style>\n",
       "<table border=\"1\" class=\"dataframe\">\n",
       "  <thead>\n",
       "    <tr style=\"text-align: right;\">\n",
       "      <th></th>\n",
       "      <th>accuracy</th>\n",
       "      <th>algoritmo</th>\n",
       "    </tr>\n",
       "  </thead>\n",
       "  <tbody>\n",
       "    <tr>\n",
       "      <th>0</th>\n",
       "      <td>0.9865</td>\n",
       "      <td>arvore</td>\n",
       "    </tr>\n",
       "    <tr>\n",
       "      <th>1</th>\n",
       "      <td>0.9845</td>\n",
       "      <td>arvore</td>\n",
       "    </tr>\n",
       "    <tr>\n",
       "      <th>2</th>\n",
       "      <td>0.9905</td>\n",
       "      <td>arvore</td>\n",
       "    </tr>\n",
       "    <tr>\n",
       "      <th>3</th>\n",
       "      <td>0.9875</td>\n",
       "      <td>arvore</td>\n",
       "    </tr>\n",
       "    <tr>\n",
       "      <th>4</th>\n",
       "      <td>0.9885</td>\n",
       "      <td>arvore</td>\n",
       "    </tr>\n",
       "    <tr>\n",
       "      <th>...</th>\n",
       "      <td>...</td>\n",
       "      <td>...</td>\n",
       "    </tr>\n",
       "    <tr>\n",
       "      <th>175</th>\n",
       "      <td>0.9965</td>\n",
       "      <td>rede_neural</td>\n",
       "    </tr>\n",
       "    <tr>\n",
       "      <th>176</th>\n",
       "      <td>0.9965</td>\n",
       "      <td>rede_neural</td>\n",
       "    </tr>\n",
       "    <tr>\n",
       "      <th>177</th>\n",
       "      <td>0.9970</td>\n",
       "      <td>rede_neural</td>\n",
       "    </tr>\n",
       "    <tr>\n",
       "      <th>178</th>\n",
       "      <td>0.9965</td>\n",
       "      <td>rede_neural</td>\n",
       "    </tr>\n",
       "    <tr>\n",
       "      <th>179</th>\n",
       "      <td>0.9970</td>\n",
       "      <td>rede_neural</td>\n",
       "    </tr>\n",
       "  </tbody>\n",
       "</table>\n",
       "<p>180 rows × 2 columns</p>\n",
       "</div>"
      ],
      "text/plain": [
       "     accuracy    algoritmo\n",
       "0      0.9865       arvore\n",
       "1      0.9845       arvore\n",
       "2      0.9905       arvore\n",
       "3      0.9875       arvore\n",
       "4      0.9885       arvore\n",
       "..        ...          ...\n",
       "175    0.9965  rede_neural\n",
       "176    0.9965  rede_neural\n",
       "177    0.9970  rede_neural\n",
       "178    0.9965  rede_neural\n",
       "179    0.9970  rede_neural\n",
       "\n",
       "[180 rows x 2 columns]"
      ]
     },
     "execution_count": 61,
     "metadata": {},
     "output_type": "execute_result"
    }
   ],
   "source": [
    "resultados_df = pd.DataFrame(resultados_algoritmos)\n",
    "resultados_df"
   ]
  }
 ],
 "metadata": {
  "kernelspec": {
   "display_name": "Python 3",
   "language": "python",
   "name": "python3"
  },
  "language_info": {
   "codemirror_mode": {
    "name": "ipython",
    "version": 3
   },
   "file_extension": ".py",
   "mimetype": "text/x-python",
   "name": "python",
   "nbconvert_exporter": "python",
   "pygments_lexer": "ipython3",
   "version": "3.8.5"
  }
 },
 "nbformat": 4,
 "nbformat_minor": 4
}
