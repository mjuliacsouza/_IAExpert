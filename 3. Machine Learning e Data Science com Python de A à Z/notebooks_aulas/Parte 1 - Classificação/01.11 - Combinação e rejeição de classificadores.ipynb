{
 "cells": [
  {
   "cell_type": "markdown",
   "metadata": {},
   "source": [
    "# Combinação e rejeição de classificadores"
   ]
  },
  {
   "cell_type": "code",
   "execution_count": 1,
   "metadata": {},
   "outputs": [],
   "source": [
    "import pandas as pd\n",
    "import numpy as np\n",
    "import pickle\n",
    "import os"
   ]
  },
  {
   "cell_type": "code",
   "execution_count": 2,
   "metadata": {},
   "outputs": [
    {
     "data": {
      "text/html": [
       "<div>\n",
       "<style scoped>\n",
       "    .dataframe tbody tr th:only-of-type {\n",
       "        vertical-align: middle;\n",
       "    }\n",
       "\n",
       "    .dataframe tbody tr th {\n",
       "        vertical-align: top;\n",
       "    }\n",
       "\n",
       "    .dataframe thead th {\n",
       "        text-align: right;\n",
       "    }\n",
       "</style>\n",
       "<table border=\"1\" class=\"dataframe\">\n",
       "  <thead>\n",
       "    <tr style=\"text-align: right;\">\n",
       "      <th></th>\n",
       "      <th>Árvore</th>\n",
       "      <th>RandomForest</th>\n",
       "      <th>KNN</th>\n",
       "      <th>Regressão Logistica</th>\n",
       "      <th>SVM</th>\n",
       "      <th>Redes Neurais</th>\n",
       "    </tr>\n",
       "  </thead>\n",
       "  <tbody>\n",
       "    <tr>\n",
       "      <th>0</th>\n",
       "      <td>0.9865</td>\n",
       "      <td>0.9800</td>\n",
       "      <td>0.9800</td>\n",
       "      <td>0.9475</td>\n",
       "      <td>0.9835</td>\n",
       "      <td>0.9970</td>\n",
       "    </tr>\n",
       "    <tr>\n",
       "      <th>1</th>\n",
       "      <td>0.9845</td>\n",
       "      <td>0.9850</td>\n",
       "      <td>0.9800</td>\n",
       "      <td>0.9465</td>\n",
       "      <td>0.9840</td>\n",
       "      <td>0.9970</td>\n",
       "    </tr>\n",
       "    <tr>\n",
       "      <th>2</th>\n",
       "      <td>0.9905</td>\n",
       "      <td>0.9855</td>\n",
       "      <td>0.9800</td>\n",
       "      <td>0.9470</td>\n",
       "      <td>0.9835</td>\n",
       "      <td>0.9970</td>\n",
       "    </tr>\n",
       "    <tr>\n",
       "      <th>3</th>\n",
       "      <td>0.9875</td>\n",
       "      <td>0.9835</td>\n",
       "      <td>0.9800</td>\n",
       "      <td>0.9460</td>\n",
       "      <td>0.9845</td>\n",
       "      <td>0.9970</td>\n",
       "    </tr>\n",
       "    <tr>\n",
       "      <th>4</th>\n",
       "      <td>0.9885</td>\n",
       "      <td>0.9860</td>\n",
       "      <td>0.9810</td>\n",
       "      <td>0.9465</td>\n",
       "      <td>0.9855</td>\n",
       "      <td>0.9975</td>\n",
       "    </tr>\n",
       "    <tr>\n",
       "      <th>5</th>\n",
       "      <td>0.9885</td>\n",
       "      <td>0.9820</td>\n",
       "      <td>0.9785</td>\n",
       "      <td>0.9465</td>\n",
       "      <td>0.9835</td>\n",
       "      <td>0.9970</td>\n",
       "    </tr>\n",
       "    <tr>\n",
       "      <th>6</th>\n",
       "      <td>0.9885</td>\n",
       "      <td>0.9850</td>\n",
       "      <td>0.9800</td>\n",
       "      <td>0.9470</td>\n",
       "      <td>0.9840</td>\n",
       "      <td>0.9970</td>\n",
       "    </tr>\n",
       "    <tr>\n",
       "      <th>7</th>\n",
       "      <td>0.9875</td>\n",
       "      <td>0.9845</td>\n",
       "      <td>0.9805</td>\n",
       "      <td>0.9480</td>\n",
       "      <td>0.9845</td>\n",
       "      <td>0.9970</td>\n",
       "    </tr>\n",
       "    <tr>\n",
       "      <th>8</th>\n",
       "      <td>0.9860</td>\n",
       "      <td>0.9825</td>\n",
       "      <td>0.9810</td>\n",
       "      <td>0.9465</td>\n",
       "      <td>0.9820</td>\n",
       "      <td>0.9970</td>\n",
       "    </tr>\n",
       "    <tr>\n",
       "      <th>9</th>\n",
       "      <td>0.9875</td>\n",
       "      <td>0.9845</td>\n",
       "      <td>0.9810</td>\n",
       "      <td>0.9465</td>\n",
       "      <td>0.9830</td>\n",
       "      <td>0.9970</td>\n",
       "    </tr>\n",
       "    <tr>\n",
       "      <th>10</th>\n",
       "      <td>0.9865</td>\n",
       "      <td>0.9820</td>\n",
       "      <td>0.9780</td>\n",
       "      <td>0.9475</td>\n",
       "      <td>0.9825</td>\n",
       "      <td>0.9970</td>\n",
       "    </tr>\n",
       "    <tr>\n",
       "      <th>11</th>\n",
       "      <td>0.9900</td>\n",
       "      <td>0.9850</td>\n",
       "      <td>0.9805</td>\n",
       "      <td>0.9480</td>\n",
       "      <td>0.9825</td>\n",
       "      <td>0.9970</td>\n",
       "    </tr>\n",
       "    <tr>\n",
       "      <th>12</th>\n",
       "      <td>0.9885</td>\n",
       "      <td>0.9840</td>\n",
       "      <td>0.9810</td>\n",
       "      <td>0.9475</td>\n",
       "      <td>0.9845</td>\n",
       "      <td>0.9970</td>\n",
       "    </tr>\n",
       "    <tr>\n",
       "      <th>13</th>\n",
       "      <td>0.9870</td>\n",
       "      <td>0.9825</td>\n",
       "      <td>0.9800</td>\n",
       "      <td>0.9475</td>\n",
       "      <td>0.9840</td>\n",
       "      <td>0.9970</td>\n",
       "    </tr>\n",
       "    <tr>\n",
       "      <th>14</th>\n",
       "      <td>0.9850</td>\n",
       "      <td>0.9825</td>\n",
       "      <td>0.9795</td>\n",
       "      <td>0.9485</td>\n",
       "      <td>0.9835</td>\n",
       "      <td>0.9970</td>\n",
       "    </tr>\n",
       "    <tr>\n",
       "      <th>15</th>\n",
       "      <td>0.9850</td>\n",
       "      <td>0.9860</td>\n",
       "      <td>0.9795</td>\n",
       "      <td>0.9475</td>\n",
       "      <td>0.9845</td>\n",
       "      <td>0.9970</td>\n",
       "    </tr>\n",
       "    <tr>\n",
       "      <th>16</th>\n",
       "      <td>0.9855</td>\n",
       "      <td>0.9820</td>\n",
       "      <td>0.9805</td>\n",
       "      <td>0.9460</td>\n",
       "      <td>0.9840</td>\n",
       "      <td>0.9970</td>\n",
       "    </tr>\n",
       "    <tr>\n",
       "      <th>17</th>\n",
       "      <td>0.9905</td>\n",
       "      <td>0.9825</td>\n",
       "      <td>0.9830</td>\n",
       "      <td>0.9470</td>\n",
       "      <td>0.9845</td>\n",
       "      <td>0.9965</td>\n",
       "    </tr>\n",
       "    <tr>\n",
       "      <th>18</th>\n",
       "      <td>0.9875</td>\n",
       "      <td>0.9860</td>\n",
       "      <td>0.9800</td>\n",
       "      <td>0.9465</td>\n",
       "      <td>0.9850</td>\n",
       "      <td>0.9970</td>\n",
       "    </tr>\n",
       "    <tr>\n",
       "      <th>19</th>\n",
       "      <td>0.9870</td>\n",
       "      <td>0.9835</td>\n",
       "      <td>0.9805</td>\n",
       "      <td>0.9465</td>\n",
       "      <td>0.9840</td>\n",
       "      <td>0.9970</td>\n",
       "    </tr>\n",
       "    <tr>\n",
       "      <th>20</th>\n",
       "      <td>0.9820</td>\n",
       "      <td>0.9820</td>\n",
       "      <td>0.9800</td>\n",
       "      <td>0.9465</td>\n",
       "      <td>0.9835</td>\n",
       "      <td>0.9965</td>\n",
       "    </tr>\n",
       "    <tr>\n",
       "      <th>21</th>\n",
       "      <td>0.9870</td>\n",
       "      <td>0.9850</td>\n",
       "      <td>0.9810</td>\n",
       "      <td>0.9470</td>\n",
       "      <td>0.9850</td>\n",
       "      <td>0.9970</td>\n",
       "    </tr>\n",
       "    <tr>\n",
       "      <th>22</th>\n",
       "      <td>0.9890</td>\n",
       "      <td>0.9825</td>\n",
       "      <td>0.9810</td>\n",
       "      <td>0.9455</td>\n",
       "      <td>0.9845</td>\n",
       "      <td>0.9975</td>\n",
       "    </tr>\n",
       "    <tr>\n",
       "      <th>23</th>\n",
       "      <td>0.9870</td>\n",
       "      <td>0.9840</td>\n",
       "      <td>0.9800</td>\n",
       "      <td>0.9465</td>\n",
       "      <td>0.9870</td>\n",
       "      <td>0.9970</td>\n",
       "    </tr>\n",
       "    <tr>\n",
       "      <th>24</th>\n",
       "      <td>0.9870</td>\n",
       "      <td>0.9855</td>\n",
       "      <td>0.9835</td>\n",
       "      <td>0.9470</td>\n",
       "      <td>0.9840</td>\n",
       "      <td>0.9965</td>\n",
       "    </tr>\n",
       "    <tr>\n",
       "      <th>25</th>\n",
       "      <td>0.9880</td>\n",
       "      <td>0.9835</td>\n",
       "      <td>0.9815</td>\n",
       "      <td>0.9470</td>\n",
       "      <td>0.9820</td>\n",
       "      <td>0.9965</td>\n",
       "    </tr>\n",
       "    <tr>\n",
       "      <th>26</th>\n",
       "      <td>0.9875</td>\n",
       "      <td>0.9810</td>\n",
       "      <td>0.9795</td>\n",
       "      <td>0.9475</td>\n",
       "      <td>0.9825</td>\n",
       "      <td>0.9965</td>\n",
       "    </tr>\n",
       "    <tr>\n",
       "      <th>27</th>\n",
       "      <td>0.9855</td>\n",
       "      <td>0.9840</td>\n",
       "      <td>0.9795</td>\n",
       "      <td>0.9465</td>\n",
       "      <td>0.9850</td>\n",
       "      <td>0.9970</td>\n",
       "    </tr>\n",
       "    <tr>\n",
       "      <th>28</th>\n",
       "      <td>0.9860</td>\n",
       "      <td>0.9860</td>\n",
       "      <td>0.9775</td>\n",
       "      <td>0.9480</td>\n",
       "      <td>0.9830</td>\n",
       "      <td>0.9965</td>\n",
       "    </tr>\n",
       "    <tr>\n",
       "      <th>29</th>\n",
       "      <td>0.9875</td>\n",
       "      <td>0.9860</td>\n",
       "      <td>0.9780</td>\n",
       "      <td>0.9465</td>\n",
       "      <td>0.9860</td>\n",
       "      <td>0.9970</td>\n",
       "    </tr>\n",
       "  </tbody>\n",
       "</table>\n",
       "</div>"
      ],
      "text/plain": [
       "    Árvore  RandomForest     KNN  Regressão Logistica     SVM  Redes Neurais\n",
       "0   0.9865        0.9800  0.9800               0.9475  0.9835         0.9970\n",
       "1   0.9845        0.9850  0.9800               0.9465  0.9840         0.9970\n",
       "2   0.9905        0.9855  0.9800               0.9470  0.9835         0.9970\n",
       "3   0.9875        0.9835  0.9800               0.9460  0.9845         0.9970\n",
       "4   0.9885        0.9860  0.9810               0.9465  0.9855         0.9975\n",
       "5   0.9885        0.9820  0.9785               0.9465  0.9835         0.9970\n",
       "6   0.9885        0.9850  0.9800               0.9470  0.9840         0.9970\n",
       "7   0.9875        0.9845  0.9805               0.9480  0.9845         0.9970\n",
       "8   0.9860        0.9825  0.9810               0.9465  0.9820         0.9970\n",
       "9   0.9875        0.9845  0.9810               0.9465  0.9830         0.9970\n",
       "10  0.9865        0.9820  0.9780               0.9475  0.9825         0.9970\n",
       "11  0.9900        0.9850  0.9805               0.9480  0.9825         0.9970\n",
       "12  0.9885        0.9840  0.9810               0.9475  0.9845         0.9970\n",
       "13  0.9870        0.9825  0.9800               0.9475  0.9840         0.9970\n",
       "14  0.9850        0.9825  0.9795               0.9485  0.9835         0.9970\n",
       "15  0.9850        0.9860  0.9795               0.9475  0.9845         0.9970\n",
       "16  0.9855        0.9820  0.9805               0.9460  0.9840         0.9970\n",
       "17  0.9905        0.9825  0.9830               0.9470  0.9845         0.9965\n",
       "18  0.9875        0.9860  0.9800               0.9465  0.9850         0.9970\n",
       "19  0.9870        0.9835  0.9805               0.9465  0.9840         0.9970\n",
       "20  0.9820        0.9820  0.9800               0.9465  0.9835         0.9965\n",
       "21  0.9870        0.9850  0.9810               0.9470  0.9850         0.9970\n",
       "22  0.9890        0.9825  0.9810               0.9455  0.9845         0.9975\n",
       "23  0.9870        0.9840  0.9800               0.9465  0.9870         0.9970\n",
       "24  0.9870        0.9855  0.9835               0.9470  0.9840         0.9965\n",
       "25  0.9880        0.9835  0.9815               0.9470  0.9820         0.9965\n",
       "26  0.9875        0.9810  0.9795               0.9475  0.9825         0.9965\n",
       "27  0.9855        0.9840  0.9795               0.9465  0.9850         0.9970\n",
       "28  0.9860        0.9860  0.9775               0.9480  0.9830         0.9965\n",
       "29  0.9875        0.9860  0.9780               0.9465  0.9860         0.9970"
      ]
     },
     "execution_count": 2,
     "metadata": {},
     "output_type": "execute_result"
    }
   ],
   "source": [
    "resultados = pd.read_csv('resultados.csv')\n",
    "resultados"
   ]
  },
  {
   "cell_type": "markdown",
   "metadata": {},
   "source": [
    "Melhores resultados:\n",
    "- Rede Neural\n",
    "- Árvore de decisão\n",
    "- SVM"
   ]
  },
  {
   "cell_type": "code",
   "execution_count": 3,
   "metadata": {},
   "outputs": [],
   "source": [
    "rede_neural = pickle.load(open('rede_neural_finalizada.sav','rb'))\n",
    "arvore = pickle.load(open('arvore_finalizada.sav','rb'))\n",
    "svm = pickle.load(open('svm_finalizada.sav','rb'))"
   ]
  },
  {
   "cell_type": "code",
   "execution_count": 4,
   "metadata": {},
   "outputs": [],
   "source": [
    "with open('credit.pkl', 'rb') as f:\n",
    "    X_credit_train, y_credit_train, X_credit_test, y_credit_test = pickle.load(f)\n",
    "    \n",
    "X_credit = np.concatenate((X_credit_train, X_credit_test), axis=0)\n",
    "y_credit = np.concatenate((y_credit_train, y_credit_test), axis=0) "
   ]
  },
  {
   "cell_type": "code",
   "execution_count": 5,
   "metadata": {},
   "outputs": [
    {
     "name": "stdout",
     "output_type": "stream",
     "text": [
      "(2000, 3)\n",
      "(2000,)\n"
     ]
    }
   ],
   "source": [
    "print(X_credit.shape)\n",
    "print(y_credit.shape)"
   ]
  },
  {
   "cell_type": "markdown",
   "metadata": {},
   "source": [
    "## Combinação de classificadores"
   ]
  },
  {
   "cell_type": "code",
   "execution_count": 6,
   "metadata": {},
   "outputs": [
    {
     "name": "stdout",
     "output_type": "stream",
     "text": [
      "(1, 3)\n"
     ]
    },
    {
     "data": {
      "text/plain": [
       "array([[-1.3754462 ,  0.50630973,  0.10980934]])"
      ]
     },
     "execution_count": 6,
     "metadata": {},
     "output_type": "execute_result"
    }
   ],
   "source": [
    "novo_registro = X_credit[0].reshape(1,-1)\n",
    "print(novo_registro.shape)\n",
    "novo_registro"
   ]
  },
  {
   "cell_type": "code",
   "execution_count": 7,
   "metadata": {},
   "outputs": [],
   "source": [
    "resposta_rede = rede_neural.predict(novo_registro)\n",
    "resposta_arvore = arvore.predict(novo_registro)\n",
    "resposta_svm = svm.predict(novo_registro)"
   ]
  },
  {
   "cell_type": "code",
   "execution_count": 8,
   "metadata": {},
   "outputs": [
    {
     "data": {
      "text/plain": [
       "(0, 0, 0)"
      ]
     },
     "execution_count": 8,
     "metadata": {},
     "output_type": "execute_result"
    }
   ],
   "source": [
    "respostas = resposta_rede[0], resposta_arvore[0], resposta_svm[0]\n",
    "respostas "
   ]
  },
  {
   "cell_type": "markdown",
   "metadata": {},
   "source": [
    "Os três algoritmos apresentaram o mesmo resultado."
   ]
  },
  {
   "cell_type": "code",
   "execution_count": 9,
   "metadata": {},
   "outputs": [
    {
     "name": "stdout",
     "output_type": "stream",
     "text": [
      "Cliente pagará o empréstimo\n"
     ]
    }
   ],
   "source": [
    "paga = 0\n",
    "n_paga = 0\n",
    "for i in respostas:\n",
    "    if i == 1:\n",
    "        n_paga += 1\n",
    "    else:\n",
    "        paga +=1\n",
    "\n",
    "if paga > n_paga:\n",
    "    print('Cliente pagará o empréstimo')\n",
    "elif paga == n_paga:\n",
    "    print('Empate')\n",
    "else:\n",
    "    print('Cliente não pagará o empréstimo')"
   ]
  },
  {
   "cell_type": "markdown",
   "metadata": {},
   "source": [
    "Poderíamos ainda colocar peso para cada algoritmo de acordo com sua qualidade"
   ]
  },
  {
   "cell_type": "markdown",
   "metadata": {},
   "source": [
    "## Rejeição de classificadores"
   ]
  },
  {
   "cell_type": "code",
   "execution_count": 10,
   "metadata": {},
   "outputs": [],
   "source": [
    "probabilidade_rede = rede_neural.predict_proba(novo_registro)\n",
    "probabilidade_arvore = arvore.predict_proba(novo_registro)\n",
    "probabilidade_svm = svm.predict_proba(novo_registro)"
   ]
  },
  {
   "cell_type": "code",
   "execution_count": 11,
   "metadata": {},
   "outputs": [
    {
     "data": {
      "text/plain": [
       "(array([[1.00000000e+00, 3.99105617e-17]]),\n",
       " array([[1., 0.]]),\n",
       " array([[9.99998418e-01, 1.58188555e-06]]))"
      ]
     },
     "execution_count": 11,
     "metadata": {},
     "output_type": "execute_result"
    }
   ],
   "source": [
    "probabilidade_rede, probabilidade_arvore, probabilidade_svm"
   ]
  },
  {
   "cell_type": "code",
   "execution_count": 12,
   "metadata": {},
   "outputs": [],
   "source": [
    "confianca_rede = probabilidade_rede.max()\n",
    "confianca_arvore = probabilidade_arvore.max()\n",
    "confianca_svm = probabilidade_svm.max()"
   ]
  },
  {
   "cell_type": "code",
   "execution_count": 13,
   "metadata": {},
   "outputs": [
    {
     "data": {
      "text/plain": [
       "(1.0, 1.0, 0.9999984181144514)"
      ]
     },
     "execution_count": 13,
     "metadata": {},
     "output_type": "execute_result"
    }
   ],
   "source": [
    "confiancas = confianca_rede, confianca_arvore, confianca_svm\n",
    "confiancas"
   ]
  },
  {
   "cell_type": "code",
   "execution_count": 14,
   "metadata": {},
   "outputs": [
    {
     "name": "stdout",
     "output_type": "stream",
     "text": [
      "Cliente pagará o empréstimo, baseado em 2 algoritmos\n"
     ]
    }
   ],
   "source": [
    "#preciso otimizar essa função!!!!\n",
    "paga = 0\n",
    "nao_paga = 0\n",
    "confianca_minima = 0.999999\n",
    "algoritmos = 0\n",
    "\n",
    "if confianca_rede >= confianca_minima:\n",
    "  algoritmos += 1\n",
    "  if resposta_rede[0] == 1:\n",
    "    nao_paga += 1\n",
    "  else:\n",
    "    paga += 1\n",
    "\n",
    "if confianca_arvore >= confianca_minima:\n",
    "  algoritmos += 1\n",
    "  if resposta_arvore[0] == 1:\n",
    "    nao_paga += 1\n",
    "  else:\n",
    "    paga += 1\n",
    "\n",
    "if confianca_svm >= confianca_minima:\n",
    "  algoritmos += 1\n",
    "  if resposta_svm[0] == 1:\n",
    "    nao_paga += 1\n",
    "  else:\n",
    "    paga += 1\n",
    "\n",
    "if paga > nao_paga:\n",
    "  print('Cliente pagará o empréstimo, baseado em {} algoritmos'.format(algoritmos))\n",
    "elif paga == nao_paga:\n",
    "  print('Empate, baseado em {} algoritmos'.format(algoritmos))\n",
    "else:\n",
    "  print('Cliente não pagará o empréstimo, baseado em {} algoritmos'.format(algoritmos))"
   ]
  }
 ],
 "metadata": {
  "kernelspec": {
   "display_name": "Python 3",
   "language": "python",
   "name": "python3"
  },
  "language_info": {
   "codemirror_mode": {
    "name": "ipython",
    "version": 3
   },
   "file_extension": ".py",
   "mimetype": "text/x-python",
   "name": "python",
   "nbconvert_exporter": "python",
   "pygments_lexer": "ipython3",
   "version": "3.8.5"
  }
 },
 "nbformat": 4,
 "nbformat_minor": 4
}
