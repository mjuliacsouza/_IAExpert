{
 "cells": [
  {
   "cell_type": "markdown",
   "metadata": {},
   "source": [
    "# Agrupamento de empresas similares"
   ]
  },
  {
   "cell_type": "code",
   "execution_count": 1,
   "metadata": {},
   "outputs": [],
   "source": [
    "import pandas as pd\n",
    "import numpy as np\n",
    "import matplotlib.pyplot as plt\n",
    "import seaborn as srn\n",
    "srn.set()\n",
    "%matplotlib inline"
   ]
  },
  {
   "cell_type": "code",
   "execution_count": 2,
   "metadata": {},
   "outputs": [],
   "source": [
    "import pickle"
   ]
  },
  {
   "cell_type": "markdown",
   "metadata": {},
   "source": [
    "### Base de dados"
   ]
  },
  {
   "cell_type": "code",
   "execution_count": 3,
   "metadata": {},
   "outputs": [],
   "source": [
    "with open('bases_classificacao.pkl', 'rb') as f:\n",
    "    dataset, dataset_original, X, y, empresa, scaler = pickle.load(f)"
   ]
  },
  {
   "cell_type": "code",
   "execution_count": 5,
   "metadata": {},
   "outputs": [
    {
     "name": "stdout",
     "output_type": "stream",
     "text": [
      "(347, 24)\n"
     ]
    },
    {
     "data": {
      "text/html": [
       "<div>\n",
       "<style scoped>\n",
       "    .dataframe tbody tr th:only-of-type {\n",
       "        vertical-align: middle;\n",
       "    }\n",
       "\n",
       "    .dataframe tbody tr th {\n",
       "        vertical-align: top;\n",
       "    }\n",
       "\n",
       "    .dataframe thead th {\n",
       "        text-align: right;\n",
       "    }\n",
       "</style>\n",
       "<table border=\"1\" class=\"dataframe\">\n",
       "  <thead>\n",
       "    <tr style=\"text-align: right;\">\n",
       "      <th></th>\n",
       "      <th>Situação</th>\n",
       "      <th>Segmento</th>\n",
       "      <th>Valor de M.</th>\n",
       "      <th>EV</th>\n",
       "      <th>Pes. Fisicas</th>\n",
       "      <th>Categoria</th>\n",
       "      <th>LPA desconctado</th>\n",
       "      <th>VPA</th>\n",
       "      <th>P/L</th>\n",
       "      <th>P/L descontado</th>\n",
       "      <th>...</th>\n",
       "      <th>ROE</th>\n",
       "      <th>Patri. Liquido.1</th>\n",
       "      <th>Divida Liquida</th>\n",
       "      <th>Divida Bruta/PL</th>\n",
       "      <th>EF</th>\n",
       "      <th>ECP</th>\n",
       "      <th>EM</th>\n",
       "      <th>Pas. Circulante</th>\n",
       "      <th>Liq. Imediata</th>\n",
       "      <th>Capital de giro</th>\n",
       "    </tr>\n",
       "  </thead>\n",
       "  <tbody>\n",
       "    <tr>\n",
       "      <th>0</th>\n",
       "      <td>ruim</td>\n",
       "      <td>energia eletrica</td>\n",
       "      <td>1.334627e+09</td>\n",
       "      <td>4.391657e+09</td>\n",
       "      <td>15969.0</td>\n",
       "      <td>alerta</td>\n",
       "      <td>0.56</td>\n",
       "      <td>36.03</td>\n",
       "      <td>24.71</td>\n",
       "      <td>24.71</td>\n",
       "      <td>...</td>\n",
       "      <td>20.66</td>\n",
       "      <td>2012.0</td>\n",
       "      <td>1567.00</td>\n",
       "      <td>0.860000</td>\n",
       "      <td>49.000000</td>\n",
       "      <td>11.000000</td>\n",
       "      <td>3.94</td>\n",
       "      <td>4508.0</td>\n",
       "      <td>0.12</td>\n",
       "      <td>102.0</td>\n",
       "    </tr>\n",
       "    <tr>\n",
       "      <th>1</th>\n",
       "      <td>boa</td>\n",
       "      <td>energia eletrica</td>\n",
       "      <td>1.519060e+10</td>\n",
       "      <td>1.021776e+10</td>\n",
       "      <td>18681.0</td>\n",
       "      <td>dividendos</td>\n",
       "      <td>0.18</td>\n",
       "      <td>0.80</td>\n",
       "      <td>14.92</td>\n",
       "      <td>14.92</td>\n",
       "      <td>...</td>\n",
       "      <td>37.00</td>\n",
       "      <td>1812.0</td>\n",
       "      <td>2459.00</td>\n",
       "      <td>1.720000</td>\n",
       "      <td>58.000000</td>\n",
       "      <td>15.000000</td>\n",
       "      <td>2.40</td>\n",
       "      <td>828.0</td>\n",
       "      <td>0.70</td>\n",
       "      <td>-52.0</td>\n",
       "    </tr>\n",
       "    <tr>\n",
       "      <th>2</th>\n",
       "      <td>ruim</td>\n",
       "      <td>energia eletrica</td>\n",
       "      <td>9.465319e+07</td>\n",
       "      <td>8.565319e+07</td>\n",
       "      <td>1898.0</td>\n",
       "      <td>alerta</td>\n",
       "      <td>0.15</td>\n",
       "      <td>2.07</td>\n",
       "      <td>31.55</td>\n",
       "      <td>31.55</td>\n",
       "      <td>...</td>\n",
       "      <td>25.00</td>\n",
       "      <td>48.0</td>\n",
       "      <td>-8.00</td>\n",
       "      <td>1.720811</td>\n",
       "      <td>30.548746</td>\n",
       "      <td>38.872065</td>\n",
       "      <td>1.24</td>\n",
       "      <td>8.0</td>\n",
       "      <td>1.13</td>\n",
       "      <td>4.0</td>\n",
       "    </tr>\n",
       "    <tr>\n",
       "      <th>3</th>\n",
       "      <td>ruim</td>\n",
       "      <td>energia eletrica</td>\n",
       "      <td>2.819886e+08</td>\n",
       "      <td>2.439886e+08</td>\n",
       "      <td>8.0</td>\n",
       "      <td>alerta</td>\n",
       "      <td>0.20</td>\n",
       "      <td>1.23</td>\n",
       "      <td>21.69</td>\n",
       "      <td>21.69</td>\n",
       "      <td>...</td>\n",
       "      <td>22.00</td>\n",
       "      <td>78.0</td>\n",
       "      <td>-31.00</td>\n",
       "      <td>0.040000</td>\n",
       "      <td>5.250000</td>\n",
       "      <td>23.000000</td>\n",
       "      <td>1.15</td>\n",
       "      <td>7.0</td>\n",
       "      <td>6.00</td>\n",
       "      <td>67.0</td>\n",
       "    </tr>\n",
       "    <tr>\n",
       "      <th>4</th>\n",
       "      <td>ruim</td>\n",
       "      <td>bancos</td>\n",
       "      <td>2.887665e+08</td>\n",
       "      <td>2.857665e+08</td>\n",
       "      <td>11290.0</td>\n",
       "      <td>crescimento moderado</td>\n",
       "      <td>0.60</td>\n",
       "      <td>10.42</td>\n",
       "      <td>5.65</td>\n",
       "      <td>5.65</td>\n",
       "      <td>...</td>\n",
       "      <td>6.00</td>\n",
       "      <td>721.0</td>\n",
       "      <td>-440.75</td>\n",
       "      <td>0.250000</td>\n",
       "      <td>30.548746</td>\n",
       "      <td>38.872065</td>\n",
       "      <td>1.01</td>\n",
       "      <td>6.0</td>\n",
       "      <td>0.50</td>\n",
       "      <td>0.0</td>\n",
       "    </tr>\n",
       "  </tbody>\n",
       "</table>\n",
       "<p>5 rows × 24 columns</p>\n",
       "</div>"
      ],
      "text/plain": [
       "  Situação          Segmento   Valor de M.            EV  Pes. Fisicas  \\\n",
       "0     ruim  energia eletrica  1.334627e+09  4.391657e+09       15969.0   \n",
       "1      boa  energia eletrica  1.519060e+10  1.021776e+10       18681.0   \n",
       "2     ruim  energia eletrica  9.465319e+07  8.565319e+07        1898.0   \n",
       "3     ruim  energia eletrica  2.819886e+08  2.439886e+08           8.0   \n",
       "4     ruim            bancos  2.887665e+08  2.857665e+08       11290.0   \n",
       "\n",
       "              Categoria  LPA desconctado    VPA    P/L  P/L descontado  ...  \\\n",
       "0                alerta             0.56  36.03  24.71           24.71  ...   \n",
       "1            dividendos             0.18   0.80  14.92           14.92  ...   \n",
       "2                alerta             0.15   2.07  31.55           31.55  ...   \n",
       "3                alerta             0.20   1.23  21.69           21.69  ...   \n",
       "4  crescimento moderado             0.60  10.42   5.65            5.65  ...   \n",
       "\n",
       "     ROE  Patri. Liquido.1  Divida Liquida  Divida Bruta/PL         EF  \\\n",
       "0  20.66            2012.0         1567.00         0.860000  49.000000   \n",
       "1  37.00            1812.0         2459.00         1.720000  58.000000   \n",
       "2  25.00              48.0           -8.00         1.720811  30.548746   \n",
       "3  22.00              78.0          -31.00         0.040000   5.250000   \n",
       "4   6.00             721.0         -440.75         0.250000  30.548746   \n",
       "\n",
       "         ECP    EM  Pas. Circulante  Liq. Imediata  Capital de giro  \n",
       "0  11.000000  3.94           4508.0           0.12            102.0  \n",
       "1  15.000000  2.40            828.0           0.70            -52.0  \n",
       "2  38.872065  1.24              8.0           1.13              4.0  \n",
       "3  23.000000  1.15              7.0           6.00             67.0  \n",
       "4  38.872065  1.01              6.0           0.50              0.0  \n",
       "\n",
       "[5 rows x 24 columns]"
      ]
     },
     "execution_count": 5,
     "metadata": {},
     "output_type": "execute_result"
    }
   ],
   "source": [
    "print(dataset_original.shape)\n",
    "dataset_original.head()"
   ]
  },
  {
   "cell_type": "code",
   "execution_count": 6,
   "metadata": {},
   "outputs": [
    {
     "name": "stdout",
     "output_type": "stream",
     "text": [
      "(347, 111)\n"
     ]
    },
    {
     "data": {
      "text/html": [
       "<div>\n",
       "<style scoped>\n",
       "    .dataframe tbody tr th:only-of-type {\n",
       "        vertical-align: middle;\n",
       "    }\n",
       "\n",
       "    .dataframe tbody tr th {\n",
       "        vertical-align: top;\n",
       "    }\n",
       "\n",
       "    .dataframe thead th {\n",
       "        text-align: right;\n",
       "    }\n",
       "</style>\n",
       "<table border=\"1\" class=\"dataframe\">\n",
       "  <thead>\n",
       "    <tr style=\"text-align: right;\">\n",
       "      <th></th>\n",
       "      <th>Valor de M.</th>\n",
       "      <th>EV</th>\n",
       "      <th>Pes. Fisicas</th>\n",
       "      <th>LPA desconctado</th>\n",
       "      <th>VPA</th>\n",
       "      <th>P/L</th>\n",
       "      <th>P/L descontado</th>\n",
       "      <th>P/VPA</th>\n",
       "      <th>Margem Segurança</th>\n",
       "      <th>Luc. Liquido</th>\n",
       "      <th>...</th>\n",
       "      <th>80</th>\n",
       "      <th>81</th>\n",
       "      <th>82</th>\n",
       "      <th>83</th>\n",
       "      <th>84</th>\n",
       "      <th>85</th>\n",
       "      <th>86</th>\n",
       "      <th>87</th>\n",
       "      <th>88</th>\n",
       "      <th>89</th>\n",
       "    </tr>\n",
       "  </thead>\n",
       "  <tbody>\n",
       "    <tr>\n",
       "      <th>0</th>\n",
       "      <td>1.334627e+09</td>\n",
       "      <td>4.391657e+09</td>\n",
       "      <td>15969.0</td>\n",
       "      <td>0.56</td>\n",
       "      <td>36.03</td>\n",
       "      <td>24.71</td>\n",
       "      <td>24.71</td>\n",
       "      <td>0.38</td>\n",
       "      <td>-0.53</td>\n",
       "      <td>555.0</td>\n",
       "      <td>...</td>\n",
       "      <td>0.0</td>\n",
       "      <td>0.0</td>\n",
       "      <td>0.0</td>\n",
       "      <td>0.0</td>\n",
       "      <td>0.0</td>\n",
       "      <td>1.0</td>\n",
       "      <td>0.0</td>\n",
       "      <td>0.0</td>\n",
       "      <td>0.0</td>\n",
       "      <td>0.0</td>\n",
       "    </tr>\n",
       "    <tr>\n",
       "      <th>1</th>\n",
       "      <td>1.519060e+10</td>\n",
       "      <td>1.021776e+10</td>\n",
       "      <td>18681.0</td>\n",
       "      <td>0.18</td>\n",
       "      <td>0.80</td>\n",
       "      <td>14.92</td>\n",
       "      <td>14.92</td>\n",
       "      <td>3.39</td>\n",
       "      <td>22.00</td>\n",
       "      <td>703.0</td>\n",
       "      <td>...</td>\n",
       "      <td>0.0</td>\n",
       "      <td>0.0</td>\n",
       "      <td>0.0</td>\n",
       "      <td>0.0</td>\n",
       "      <td>0.0</td>\n",
       "      <td>0.0</td>\n",
       "      <td>0.0</td>\n",
       "      <td>0.0</td>\n",
       "      <td>1.0</td>\n",
       "      <td>0.0</td>\n",
       "    </tr>\n",
       "    <tr>\n",
       "      <th>2</th>\n",
       "      <td>9.465319e+07</td>\n",
       "      <td>8.565319e+07</td>\n",
       "      <td>1898.0</td>\n",
       "      <td>0.15</td>\n",
       "      <td>2.07</td>\n",
       "      <td>31.55</td>\n",
       "      <td>31.55</td>\n",
       "      <td>2.42</td>\n",
       "      <td>-63.00</td>\n",
       "      <td>13.0</td>\n",
       "      <td>...</td>\n",
       "      <td>0.0</td>\n",
       "      <td>0.0</td>\n",
       "      <td>0.0</td>\n",
       "      <td>0.0</td>\n",
       "      <td>0.0</td>\n",
       "      <td>1.0</td>\n",
       "      <td>0.0</td>\n",
       "      <td>0.0</td>\n",
       "      <td>0.0</td>\n",
       "      <td>0.0</td>\n",
       "    </tr>\n",
       "    <tr>\n",
       "      <th>3</th>\n",
       "      <td>2.819886e+08</td>\n",
       "      <td>2.439886e+08</td>\n",
       "      <td>8.0</td>\n",
       "      <td>0.20</td>\n",
       "      <td>1.23</td>\n",
       "      <td>21.69</td>\n",
       "      <td>21.69</td>\n",
       "      <td>3.61</td>\n",
       "      <td>46.00</td>\n",
       "      <td>17.0</td>\n",
       "      <td>...</td>\n",
       "      <td>0.0</td>\n",
       "      <td>0.0</td>\n",
       "      <td>0.0</td>\n",
       "      <td>0.0</td>\n",
       "      <td>0.0</td>\n",
       "      <td>1.0</td>\n",
       "      <td>0.0</td>\n",
       "      <td>0.0</td>\n",
       "      <td>0.0</td>\n",
       "      <td>0.0</td>\n",
       "    </tr>\n",
       "    <tr>\n",
       "      <th>4</th>\n",
       "      <td>2.887665e+08</td>\n",
       "      <td>2.857665e+08</td>\n",
       "      <td>11290.0</td>\n",
       "      <td>0.60</td>\n",
       "      <td>10.42</td>\n",
       "      <td>5.65</td>\n",
       "      <td>5.65</td>\n",
       "      <td>0.32</td>\n",
       "      <td>116.00</td>\n",
       "      <td>45.0</td>\n",
       "      <td>...</td>\n",
       "      <td>0.0</td>\n",
       "      <td>0.0</td>\n",
       "      <td>0.0</td>\n",
       "      <td>0.0</td>\n",
       "      <td>0.0</td>\n",
       "      <td>0.0</td>\n",
       "      <td>0.0</td>\n",
       "      <td>1.0</td>\n",
       "      <td>0.0</td>\n",
       "      <td>0.0</td>\n",
       "    </tr>\n",
       "  </tbody>\n",
       "</table>\n",
       "<p>5 rows × 111 columns</p>\n",
       "</div>"
      ],
      "text/plain": [
       "    Valor de M.            EV  Pes. Fisicas  LPA desconctado    VPA    P/L  \\\n",
       "0  1.334627e+09  4.391657e+09       15969.0             0.56  36.03  24.71   \n",
       "1  1.519060e+10  1.021776e+10       18681.0             0.18   0.80  14.92   \n",
       "2  9.465319e+07  8.565319e+07        1898.0             0.15   2.07  31.55   \n",
       "3  2.819886e+08  2.439886e+08           8.0             0.20   1.23  21.69   \n",
       "4  2.887665e+08  2.857665e+08       11290.0             0.60  10.42   5.65   \n",
       "\n",
       "   P/L descontado  P/VPA  Margem Segurança  Luc. Liquido  ...   80   81   82  \\\n",
       "0           24.71   0.38             -0.53         555.0  ...  0.0  0.0  0.0   \n",
       "1           14.92   3.39             22.00         703.0  ...  0.0  0.0  0.0   \n",
       "2           31.55   2.42            -63.00          13.0  ...  0.0  0.0  0.0   \n",
       "3           21.69   3.61             46.00          17.0  ...  0.0  0.0  0.0   \n",
       "4            5.65   0.32            116.00          45.0  ...  0.0  0.0  0.0   \n",
       "\n",
       "    83   84   85   86   87   88   89  \n",
       "0  0.0  0.0  1.0  0.0  0.0  0.0  0.0  \n",
       "1  0.0  0.0  0.0  0.0  0.0  1.0  0.0  \n",
       "2  0.0  0.0  1.0  0.0  0.0  0.0  0.0  \n",
       "3  0.0  0.0  1.0  0.0  0.0  0.0  0.0  \n",
       "4  0.0  0.0  0.0  0.0  1.0  0.0  0.0  \n",
       "\n",
       "[5 rows x 111 columns]"
      ]
     },
     "execution_count": 6,
     "metadata": {},
     "output_type": "execute_result"
    }
   ],
   "source": [
    "print(dataset.shape)\n",
    "dataset.head()"
   ]
  },
  {
   "cell_type": "code",
   "execution_count": 7,
   "metadata": {},
   "outputs": [
    {
     "data": {
      "text/plain": [
       "((347, 111), (347,))"
      ]
     },
     "execution_count": 7,
     "metadata": {},
     "output_type": "execute_result"
    }
   ],
   "source": [
    "X.shape, y.shape"
   ]
  },
  {
   "cell_type": "code",
   "execution_count": 9,
   "metadata": {},
   "outputs": [
    {
     "data": {
      "text/plain": [
       "0                          aes elpa s.a \n",
       "1                         tiet aes tiete\n",
       "2                          aflu afluente\n",
       "3                        aflu afluente t\n",
       "4                      rpad alfa holding\n",
       "                     ...                \n",
       "372                   whirlpool s.a whrl\n",
       "373                 wilson sons ltd wson\n",
       "374    wlm industria e comercia s.a sgas\n",
       "375          zain participações s.a opzi\n",
       "376                524 participações s.a\n",
       "Name: Empresa, Length: 347, dtype: object"
      ]
     },
     "execution_count": 9,
     "metadata": {},
     "output_type": "execute_result"
    }
   ],
   "source": [
    "empresa"
   ]
  },
  {
   "cell_type": "code",
   "execution_count": 10,
   "metadata": {},
   "outputs": [
    {
     "data": {
      "text/plain": [
       "MinMaxScaler()"
      ]
     },
     "execution_count": 10,
     "metadata": {},
     "output_type": "execute_result"
    }
   ],
   "source": [
    "scaler"
   ]
  },
  {
   "cell_type": "markdown",
   "metadata": {},
   "source": [
    "## Número de clusters"
   ]
  },
  {
   "cell_type": "markdown",
   "metadata": {},
   "source": [
    "## Agrupamento k-means"
   ]
  },
  {
   "cell_type": "markdown",
   "metadata": {},
   "source": [
    "## Análise do agrupamento"
   ]
  },
  {
   "cell_type": "markdown",
   "metadata": {},
   "source": [
    "## Visualização do agrupamento"
   ]
  },
  {
   "cell_type": "markdown",
   "metadata": {},
   "source": [
    "## Exercício"
   ]
  }
 ],
 "metadata": {
  "kernelspec": {
   "display_name": "Python 3",
   "language": "python",
   "name": "python3"
  },
  "language_info": {
   "codemirror_mode": {
    "name": "ipython",
    "version": 3
   },
   "file_extension": ".py",
   "mimetype": "text/x-python",
   "name": "python",
   "nbconvert_exporter": "python",
   "pygments_lexer": "ipython3",
   "version": "3.8.5"
  }
 },
 "nbformat": 4,
 "nbformat_minor": 4
}
