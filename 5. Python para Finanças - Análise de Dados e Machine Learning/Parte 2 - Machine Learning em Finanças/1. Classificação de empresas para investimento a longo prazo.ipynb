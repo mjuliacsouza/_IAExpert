{
 "cells": [
  {
   "cell_type": "markdown",
   "metadata": {},
   "source": [
    "# Classificação de empresas para investimento a longo prazo"
   ]
  },
  {
   "cell_type": "code",
   "execution_count": 1,
   "metadata": {},
   "outputs": [],
   "source": [
    "import pandas as pd\n",
    "import numpy as np\n",
    "import matplotlib.pyplot as plt\n",
    "import seaborn as srn\n",
    "srn.set()"
   ]
  },
  {
   "cell_type": "markdown",
   "metadata": {},
   "source": [
    "- Esta base de dados foi criada com as informações disponibizadas no site www.bastter.com. Para o acesso de tais informações, foi necessário comprar uma conta\n",
    "- Empresas com indisponibilidade de informações ficaram com seus respectivos campos vazios\n",
    "- **Atributo situação (classe)**: este atributo recebeu valores que correspondem a boa, média ou ruim. Estas posições foram retiradas do site do www.tororadar.com e do aplicativo Dinheiro do Windows 10"
   ]
  },
  {
   "cell_type": "code",
   "execution_count": 2,
   "metadata": {},
   "outputs": [
    {
     "name": "stdout",
     "output_type": "stream",
     "text": [
      "(377, 70)\n"
     ]
    },
    {
     "data": {
      "text/html": [
       "<div>\n",
       "<style scoped>\n",
       "    .dataframe tbody tr th:only-of-type {\n",
       "        vertical-align: middle;\n",
       "    }\n",
       "\n",
       "    .dataframe tbody tr th {\n",
       "        vertical-align: top;\n",
       "    }\n",
       "\n",
       "    .dataframe thead th {\n",
       "        text-align: right;\n",
       "    }\n",
       "</style>\n",
       "<table border=\"1\" class=\"dataframe\">\n",
       "  <thead>\n",
       "    <tr style=\"text-align: right;\">\n",
       "      <th></th>\n",
       "      <th>Situação</th>\n",
       "      <th>Empresa</th>\n",
       "      <th>Segmento</th>\n",
       "      <th>Valor de M.</th>\n",
       "      <th>EV</th>\n",
       "      <th>Majoritar.</th>\n",
       "      <th>Pes. Fisicas</th>\n",
       "      <th>Categoria</th>\n",
       "      <th>LPA</th>\n",
       "      <th>LPA desconctado</th>\n",
       "      <th>...</th>\n",
       "      <th>FCO</th>\n",
       "      <th>FCI</th>\n",
       "      <th>FCF</th>\n",
       "      <th>FCT</th>\n",
       "      <th>FCL</th>\n",
       "      <th>FCI/LL</th>\n",
       "      <th>CAPEX</th>\n",
       "      <th>FCL CAPEX</th>\n",
       "      <th>CAPEX/LL</th>\n",
       "      <th>CAPEX/FCO</th>\n",
       "    </tr>\n",
       "  </thead>\n",
       "  <tbody>\n",
       "    <tr>\n",
       "      <th>0</th>\n",
       "      <td>ruim</td>\n",
       "      <td>aes elpa s.a</td>\n",
       "      <td>energia eletrica</td>\n",
       "      <td>1.334627e+09</td>\n",
       "      <td>4.391657e+09</td>\n",
       "      <td>Brasiliana Participaçoes (98,26%)</td>\n",
       "      <td>15969.0</td>\n",
       "      <td>alerta</td>\n",
       "      <td>0.57</td>\n",
       "      <td>0.56</td>\n",
       "      <td>...</td>\n",
       "      <td>NaN</td>\n",
       "      <td>NaN</td>\n",
       "      <td>NaN</td>\n",
       "      <td>NaN</td>\n",
       "      <td>NaN</td>\n",
       "      <td>NaN</td>\n",
       "      <td>NaN</td>\n",
       "      <td>NaN</td>\n",
       "      <td>NaN</td>\n",
       "      <td>NaN</td>\n",
       "    </tr>\n",
       "    <tr>\n",
       "      <th>1</th>\n",
       "      <td>boa</td>\n",
       "      <td>tiet aes tiete</td>\n",
       "      <td>energia eletrica</td>\n",
       "      <td>1.519060e+10</td>\n",
       "      <td>NaN</td>\n",
       "      <td>Aes Holdings Brasil ltda. (61,57%)</td>\n",
       "      <td>18681.0</td>\n",
       "      <td>dividendos</td>\n",
       "      <td>0.18</td>\n",
       "      <td>0.18</td>\n",
       "      <td>...</td>\n",
       "      <td>836.0</td>\n",
       "      <td>-126.0</td>\n",
       "      <td>-728.0</td>\n",
       "      <td>-18.0</td>\n",
       "      <td>710.0</td>\n",
       "      <td>0.68</td>\n",
       "      <td>-139.0</td>\n",
       "      <td>696.0</td>\n",
       "      <td>26.0</td>\n",
       "      <td>17.0</td>\n",
       "    </tr>\n",
       "    <tr>\n",
       "      <th>2</th>\n",
       "      <td>ruim</td>\n",
       "      <td>aflu afluente</td>\n",
       "      <td>energia eletrica</td>\n",
       "      <td>9.465319e+07</td>\n",
       "      <td>8.565319e+07</td>\n",
       "      <td>contour global do brasil participações ltda (9...</td>\n",
       "      <td>1898.0</td>\n",
       "      <td>alerta</td>\n",
       "      <td>0.16</td>\n",
       "      <td>0.15</td>\n",
       "      <td>...</td>\n",
       "      <td>NaN</td>\n",
       "      <td>NaN</td>\n",
       "      <td>NaN</td>\n",
       "      <td>NaN</td>\n",
       "      <td>NaN</td>\n",
       "      <td>NaN</td>\n",
       "      <td>NaN</td>\n",
       "      <td>NaN</td>\n",
       "      <td>NaN</td>\n",
       "      <td>NaN</td>\n",
       "    </tr>\n",
       "    <tr>\n",
       "      <th>3</th>\n",
       "      <td>ruim</td>\n",
       "      <td>aflu afluente t</td>\n",
       "      <td>energia eletrica</td>\n",
       "      <td>2.819886e+08</td>\n",
       "      <td>2.439886e+08</td>\n",
       "      <td>neoenergia s.a (87,84)</td>\n",
       "      <td>8.0</td>\n",
       "      <td>alerta</td>\n",
       "      <td>0.21</td>\n",
       "      <td>0.20</td>\n",
       "      <td>...</td>\n",
       "      <td>NaN</td>\n",
       "      <td>NaN</td>\n",
       "      <td>NaN</td>\n",
       "      <td>NaN</td>\n",
       "      <td>NaN</td>\n",
       "      <td>NaN</td>\n",
       "      <td>NaN</td>\n",
       "      <td>NaN</td>\n",
       "      <td>NaN</td>\n",
       "      <td>NaN</td>\n",
       "    </tr>\n",
       "    <tr>\n",
       "      <th>4</th>\n",
       "      <td>ruim</td>\n",
       "      <td>rpad alfa holding</td>\n",
       "      <td>bancos</td>\n",
       "      <td>2.887665e+08</td>\n",
       "      <td>2.857665e+08</td>\n",
       "      <td>admistradora fortaliza ltda (89,14%)</td>\n",
       "      <td>11290.0</td>\n",
       "      <td>crescimento moderado</td>\n",
       "      <td>0.60</td>\n",
       "      <td>0.60</td>\n",
       "      <td>...</td>\n",
       "      <td>NaN</td>\n",
       "      <td>NaN</td>\n",
       "      <td>NaN</td>\n",
       "      <td>NaN</td>\n",
       "      <td>NaN</td>\n",
       "      <td>NaN</td>\n",
       "      <td>NaN</td>\n",
       "      <td>NaN</td>\n",
       "      <td>NaN</td>\n",
       "      <td>NaN</td>\n",
       "    </tr>\n",
       "  </tbody>\n",
       "</table>\n",
       "<p>5 rows × 70 columns</p>\n",
       "</div>"
      ],
      "text/plain": [
       "  Situação            Empresa          Segmento   Valor de M.            EV  \\\n",
       "0     ruim      aes elpa s.a   energia eletrica  1.334627e+09  4.391657e+09   \n",
       "1      boa     tiet aes tiete  energia eletrica  1.519060e+10           NaN   \n",
       "2     ruim      aflu afluente  energia eletrica  9.465319e+07  8.565319e+07   \n",
       "3     ruim    aflu afluente t  energia eletrica  2.819886e+08  2.439886e+08   \n",
       "4     ruim  rpad alfa holding            bancos  2.887665e+08  2.857665e+08   \n",
       "\n",
       "                                          Majoritar.  Pes. Fisicas  \\\n",
       "0                  Brasiliana Participaçoes (98,26%)       15969.0   \n",
       "1                 Aes Holdings Brasil ltda. (61,57%)       18681.0   \n",
       "2  contour global do brasil participações ltda (9...        1898.0   \n",
       "3                             neoenergia s.a (87,84)           8.0   \n",
       "4               admistradora fortaliza ltda (89,14%)       11290.0   \n",
       "\n",
       "              Categoria   LPA  LPA desconctado  ...    FCO    FCI    FCF  \\\n",
       "0                alerta  0.57             0.56  ...    NaN    NaN    NaN   \n",
       "1            dividendos  0.18             0.18  ...  836.0 -126.0 -728.0   \n",
       "2                alerta  0.16             0.15  ...    NaN    NaN    NaN   \n",
       "3                alerta  0.21             0.20  ...    NaN    NaN    NaN   \n",
       "4  crescimento moderado  0.60             0.60  ...    NaN    NaN    NaN   \n",
       "\n",
       "    FCT    FCL  FCI/LL  CAPEX  FCL CAPEX  CAPEX/LL  CAPEX/FCO  \n",
       "0   NaN    NaN     NaN    NaN        NaN       NaN        NaN  \n",
       "1 -18.0  710.0    0.68 -139.0      696.0      26.0       17.0  \n",
       "2   NaN    NaN     NaN    NaN        NaN       NaN        NaN  \n",
       "3   NaN    NaN     NaN    NaN        NaN       NaN        NaN  \n",
       "4   NaN    NaN     NaN    NaN        NaN       NaN        NaN  \n",
       "\n",
       "[5 rows x 70 columns]"
      ]
     },
     "execution_count": 2,
     "metadata": {},
     "output_type": "execute_result"
    }
   ],
   "source": [
    "dataset = pd.read_excel('BD Completo.xlsx')\n",
    "print(dataset.shape)\n",
    "dataset.head()"
   ]
  },
  {
   "cell_type": "code",
   "execution_count": 3,
   "metadata": {},
   "outputs": [
    {
     "name": "stdout",
     "output_type": "stream",
     "text": [
      "<class 'pandas.core.frame.DataFrame'>\n",
      "RangeIndex: 377 entries, 0 to 376\n",
      "Data columns (total 70 columns):\n",
      " #   Column               Non-Null Count  Dtype  \n",
      "---  ------               --------------  -----  \n",
      " 0   Situação             377 non-null    object \n",
      " 1   Empresa              377 non-null    object \n",
      " 2   Segmento             374 non-null    object \n",
      " 3   Valor de M.          319 non-null    float64\n",
      " 4   EV                   285 non-null    float64\n",
      " 5   Majoritar.           361 non-null    object \n",
      " 6   Pes. Fisicas         358 non-null    float64\n",
      " 7   Categoria            348 non-null    object \n",
      " 8   LPA                  336 non-null    float64\n",
      " 9   LPA desconctado      317 non-null    float64\n",
      " 10  VPA                  339 non-null    float64\n",
      " 11  P/L                  316 non-null    float64\n",
      " 12  P/L descontado       311 non-null    float64\n",
      " 13  EV/EBITDA            132 non-null    float64\n",
      " 14  P/VPA                313 non-null    float64\n",
      " 15  DPA                  141 non-null    float64\n",
      " 16  Dividend Yield       141 non-null    float64\n",
      " 17  Payout               120 non-null    float64\n",
      " 18  Margem Segurança     321 non-null    float64\n",
      " 19  Rec. Liquida         326 non-null    float64\n",
      " 20  Luc. Liquido         325 non-null    float64\n",
      " 21  Luc. Liq * NR        51 non-null     float64\n",
      " 22  Resultado Bruto      137 non-null    float64\n",
      " 23  Margem Bruta         137 non-null    float64\n",
      " 24  EBIT                 139 non-null    float64\n",
      " 25  D&A                  138 non-null    float64\n",
      " 26  EBITDA               139 non-null    float64\n",
      " 27  Margem EBITDA        138 non-null    float64\n",
      " 28  Res. Financeiro      138 non-null    float64\n",
      " 29  Margem Liquida       318 non-null    float64\n",
      " 30  ROE                  328 non-null    float64\n",
      " 31  ROA                  155 non-null    float64\n",
      " 32  SSS                  14 non-null     float64\n",
      " 33  Patri. Liquido       29 non-null     float64\n",
      " 34  RIF                  29 non-null     float64\n",
      " 35  Margem Bancaria      29 non-null     float64\n",
      " 36  Indc. Eficiencia     20 non-null     float64\n",
      " 37  Indc. Basileia       22 non-null     float64\n",
      " 38  PDD                  27 non-null     float64\n",
      " 39  PDD/LL               28 non-null     float64\n",
      " 40  Equity Multi.        30 non-null     float64\n",
      " 41  Patri. Liquido.1     344 non-null    float64\n",
      " 42  Caixa                336 non-null    float64\n",
      " 43  Divida bruta         323 non-null    float64\n",
      " 44  Divida Liquida       341 non-null    float64\n",
      " 45  Divida Bruta/PL      296 non-null    float64\n",
      " 46  Div Liquida/EBITDA   119 non-null    float64\n",
      " 47  Indice de Cobertura  115 non-null    float64\n",
      " 48  Despesas com juros   116 non-null    float64\n",
      " 49  EF                   311 non-null    float64\n",
      " 50  ECP                  310 non-null    float64\n",
      " 51  Custo % da divida    114 non-null    float64\n",
      " 52  EM                   294 non-null    float64\n",
      " 53  IPL                  158 non-null    float64\n",
      " 54  At. Circulante       317 non-null    float64\n",
      " 55  Pas. Circulante      317 non-null    float64\n",
      " 56  Caixa.1              317 non-null    float64\n",
      " 57  Liq. Corrente        317 non-null    float64\n",
      " 58  Liq. Imediata        316 non-null    float64\n",
      " 59  Capital de giro      316 non-null    float64\n",
      " 60  FCO                  138 non-null    float64\n",
      " 61  FCI                  138 non-null    float64\n",
      " 62  FCF                  138 non-null    float64\n",
      " 63  FCT                  138 non-null    float64\n",
      " 64  FCL                  138 non-null    float64\n",
      " 65  FCI/LL               135 non-null    float64\n",
      " 66  CAPEX                136 non-null    float64\n",
      " 67  FCL CAPEX            138 non-null    float64\n",
      " 68  CAPEX/LL             135 non-null    float64\n",
      " 69  CAPEX/FCO            136 non-null    float64\n",
      "dtypes: float64(65), object(5)\n",
      "memory usage: 206.3+ KB\n",
      "None\n"
     ]
    },
    {
     "data": {
      "text/html": [
       "<div>\n",
       "<style scoped>\n",
       "    .dataframe tbody tr th:only-of-type {\n",
       "        vertical-align: middle;\n",
       "    }\n",
       "\n",
       "    .dataframe tbody tr th {\n",
       "        vertical-align: top;\n",
       "    }\n",
       "\n",
       "    .dataframe thead th {\n",
       "        text-align: right;\n",
       "    }\n",
       "</style>\n",
       "<table border=\"1\" class=\"dataframe\">\n",
       "  <thead>\n",
       "    <tr style=\"text-align: right;\">\n",
       "      <th></th>\n",
       "      <th>count</th>\n",
       "      <th>unique</th>\n",
       "      <th>top</th>\n",
       "      <th>freq</th>\n",
       "      <th>mean</th>\n",
       "      <th>std</th>\n",
       "      <th>min</th>\n",
       "      <th>25%</th>\n",
       "      <th>50%</th>\n",
       "      <th>75%</th>\n",
       "      <th>max</th>\n",
       "    </tr>\n",
       "  </thead>\n",
       "  <tbody>\n",
       "    <tr>\n",
       "      <th>Situação</th>\n",
       "      <td>377</td>\n",
       "      <td>3</td>\n",
       "      <td>ruim</td>\n",
       "      <td>189</td>\n",
       "      <td>NaN</td>\n",
       "      <td>NaN</td>\n",
       "      <td>NaN</td>\n",
       "      <td>NaN</td>\n",
       "      <td>NaN</td>\n",
       "      <td>NaN</td>\n",
       "      <td>NaN</td>\n",
       "    </tr>\n",
       "    <tr>\n",
       "      <th>Empresa</th>\n",
       "      <td>377</td>\n",
       "      <td>377</td>\n",
       "      <td>aes elpa s.a</td>\n",
       "      <td>1</td>\n",
       "      <td>NaN</td>\n",
       "      <td>NaN</td>\n",
       "      <td>NaN</td>\n",
       "      <td>NaN</td>\n",
       "      <td>NaN</td>\n",
       "      <td>NaN</td>\n",
       "      <td>NaN</td>\n",
       "    </tr>\n",
       "    <tr>\n",
       "      <th>Segmento</th>\n",
       "      <td>374</td>\n",
       "      <td>104</td>\n",
       "      <td>energia eletrica</td>\n",
       "      <td>41</td>\n",
       "      <td>NaN</td>\n",
       "      <td>NaN</td>\n",
       "      <td>NaN</td>\n",
       "      <td>NaN</td>\n",
       "      <td>NaN</td>\n",
       "      <td>NaN</td>\n",
       "      <td>NaN</td>\n",
       "    </tr>\n",
       "    <tr>\n",
       "      <th>Valor de M.</th>\n",
       "      <td>319.0</td>\n",
       "      <td>NaN</td>\n",
       "      <td>NaN</td>\n",
       "      <td>NaN</td>\n",
       "      <td>8596999442.269592</td>\n",
       "      <td>28352126872.385899</td>\n",
       "      <td>67506.0</td>\n",
       "      <td>141573508.5</td>\n",
       "      <td>878332957.0</td>\n",
       "      <td>5117960217.5</td>\n",
       "      <td>286689305243.0</td>\n",
       "    </tr>\n",
       "    <tr>\n",
       "      <th>EV</th>\n",
       "      <td>285.0</td>\n",
       "      <td>NaN</td>\n",
       "      <td>NaN</td>\n",
       "      <td>NaN</td>\n",
       "      <td>10217755714.421053</td>\n",
       "      <td>37948621223.278305</td>\n",
       "      <td>-26236953.0</td>\n",
       "      <td>285766537.0</td>\n",
       "      <td>1593725150.0</td>\n",
       "      <td>6411987332.0</td>\n",
       "      <td>499873636283.0</td>\n",
       "    </tr>\n",
       "    <tr>\n",
       "      <th>...</th>\n",
       "      <td>...</td>\n",
       "      <td>...</td>\n",
       "      <td>...</td>\n",
       "      <td>...</td>\n",
       "      <td>...</td>\n",
       "      <td>...</td>\n",
       "      <td>...</td>\n",
       "      <td>...</td>\n",
       "      <td>...</td>\n",
       "      <td>...</td>\n",
       "      <td>...</td>\n",
       "    </tr>\n",
       "    <tr>\n",
       "      <th>FCI/LL</th>\n",
       "      <td>135.0</td>\n",
       "      <td>NaN</td>\n",
       "      <td>NaN</td>\n",
       "      <td>NaN</td>\n",
       "      <td>272.71163</td>\n",
       "      <td>674.434183</td>\n",
       "      <td>0.68</td>\n",
       "      <td>55.0</td>\n",
       "      <td>145.0</td>\n",
       "      <td>277.0</td>\n",
       "      <td>7073.0</td>\n",
       "    </tr>\n",
       "    <tr>\n",
       "      <th>CAPEX</th>\n",
       "      <td>136.0</td>\n",
       "      <td>NaN</td>\n",
       "      <td>NaN</td>\n",
       "      <td>NaN</td>\n",
       "      <td>-1339.882353</td>\n",
       "      <td>6747.600243</td>\n",
       "      <td>-74622.0</td>\n",
       "      <td>-717.5</td>\n",
       "      <td>-209.5</td>\n",
       "      <td>-51.75</td>\n",
       "      <td>1350.0</td>\n",
       "    </tr>\n",
       "    <tr>\n",
       "      <th>FCL CAPEX</th>\n",
       "      <td>138.0</td>\n",
       "      <td>NaN</td>\n",
       "      <td>NaN</td>\n",
       "      <td>NaN</td>\n",
       "      <td>428.876812</td>\n",
       "      <td>1450.638175</td>\n",
       "      <td>-805.0</td>\n",
       "      <td>-22.0</td>\n",
       "      <td>82.5</td>\n",
       "      <td>373.25</td>\n",
       "      <td>10943.0</td>\n",
       "    </tr>\n",
       "    <tr>\n",
       "      <th>CAPEX/LL</th>\n",
       "      <td>135.0</td>\n",
       "      <td>NaN</td>\n",
       "      <td>NaN</td>\n",
       "      <td>NaN</td>\n",
       "      <td>235.848</td>\n",
       "      <td>586.035858</td>\n",
       "      <td>0.0</td>\n",
       "      <td>33.0</td>\n",
       "      <td>95.0</td>\n",
       "      <td>184.0</td>\n",
       "      <td>5473.0</td>\n",
       "    </tr>\n",
       "    <tr>\n",
       "      <th>CAPEX/FCO</th>\n",
       "      <td>136.0</td>\n",
       "      <td>NaN</td>\n",
       "      <td>NaN</td>\n",
       "      <td>NaN</td>\n",
       "      <td>180.485294</td>\n",
       "      <td>443.289003</td>\n",
       "      <td>0.0</td>\n",
       "      <td>39.25</td>\n",
       "      <td>72.5</td>\n",
       "      <td>128.5</td>\n",
       "      <td>3664.0</td>\n",
       "    </tr>\n",
       "  </tbody>\n",
       "</table>\n",
       "<p>70 rows × 11 columns</p>\n",
       "</div>"
      ],
      "text/plain": [
       "             count unique               top freq                mean  \\\n",
       "Situação       377      3              ruim  189                 NaN   \n",
       "Empresa        377    377     aes elpa s.a     1                 NaN   \n",
       "Segmento       374    104  energia eletrica   41                 NaN   \n",
       "Valor de M.  319.0    NaN               NaN  NaN   8596999442.269592   \n",
       "EV           285.0    NaN               NaN  NaN  10217755714.421053   \n",
       "...            ...    ...               ...  ...                 ...   \n",
       "FCI/LL       135.0    NaN               NaN  NaN           272.71163   \n",
       "CAPEX        136.0    NaN               NaN  NaN        -1339.882353   \n",
       "FCL CAPEX    138.0    NaN               NaN  NaN          428.876812   \n",
       "CAPEX/LL     135.0    NaN               NaN  NaN             235.848   \n",
       "CAPEX/FCO    136.0    NaN               NaN  NaN          180.485294   \n",
       "\n",
       "                            std         min          25%           50%  \\\n",
       "Situação                    NaN         NaN          NaN           NaN   \n",
       "Empresa                     NaN         NaN          NaN           NaN   \n",
       "Segmento                    NaN         NaN          NaN           NaN   \n",
       "Valor de M.  28352126872.385899     67506.0  141573508.5   878332957.0   \n",
       "EV           37948621223.278305 -26236953.0  285766537.0  1593725150.0   \n",
       "...                         ...         ...          ...           ...   \n",
       "FCI/LL               674.434183        0.68         55.0         145.0   \n",
       "CAPEX               6747.600243    -74622.0       -717.5        -209.5   \n",
       "FCL CAPEX           1450.638175      -805.0        -22.0          82.5   \n",
       "CAPEX/LL             586.035858         0.0         33.0          95.0   \n",
       "CAPEX/FCO            443.289003         0.0        39.25          72.5   \n",
       "\n",
       "                      75%             max  \n",
       "Situação              NaN             NaN  \n",
       "Empresa               NaN             NaN  \n",
       "Segmento              NaN             NaN  \n",
       "Valor de M.  5117960217.5  286689305243.0  \n",
       "EV           6411987332.0  499873636283.0  \n",
       "...                   ...             ...  \n",
       "FCI/LL              277.0          7073.0  \n",
       "CAPEX              -51.75          1350.0  \n",
       "FCL CAPEX          373.25         10943.0  \n",
       "CAPEX/LL            184.0          5473.0  \n",
       "CAPEX/FCO           128.5          3664.0  \n",
       "\n",
       "[70 rows x 11 columns]"
      ]
     },
     "execution_count": 3,
     "metadata": {},
     "output_type": "execute_result"
    }
   ],
   "source": [
    "print(dataset.info())\n",
    "dataset.describe(include='all').T"
   ]
  },
  {
   "cell_type": "code",
   "execution_count": 4,
   "metadata": {},
   "outputs": [
    {
     "data": {
      "text/plain": [
       "ruim     189\n",
       "boa       99\n",
       "medio     89\n",
       "Name: Situação, dtype: int64"
      ]
     },
     "execution_count": 4,
     "metadata": {},
     "output_type": "execute_result"
    }
   ],
   "source": [
    "dataset['Situação'].value_counts()"
   ]
  },
  {
   "cell_type": "markdown",
   "metadata": {},
   "source": [
    "## Tratamento dados faltantes"
   ]
  },
  {
   "cell_type": "code",
   "execution_count": 5,
   "metadata": {},
   "outputs": [
    {
     "data": {
      "text/plain": [
       "Situação         0\n",
       "Empresa          0\n",
       "Segmento         3\n",
       "Valor de M.     58\n",
       "EV              92\n",
       "              ... \n",
       "FCI/LL         242\n",
       "CAPEX          241\n",
       "FCL CAPEX      239\n",
       "CAPEX/LL       242\n",
       "CAPEX/FCO      241\n",
       "Length: 70, dtype: int64"
      ]
     },
     "execution_count": 5,
     "metadata": {},
     "output_type": "execute_result"
    }
   ],
   "source": [
    "#pd.set_option('max_rows', None)\n",
    "dataset.isnull().sum()"
   ]
  },
  {
   "cell_type": "markdown",
   "metadata": {},
   "source": [
    "Alguns atibutos serão retirados do dataset."
   ]
  },
  {
   "cell_type": "code",
   "execution_count": 6,
   "metadata": {},
   "outputs": [],
   "source": [
    "dataset.drop(labels = ['EV/EBITDA', 'DPA', 'Dividend Yield', 'Payout', 'Luc. Liq * NR', \n",
    "                      'Resultado Bruto', 'Margem Bruta', 'EBIT', 'D&A', 'EBITDA', \n",
    "                      'Margem EBITDA', 'Res. Financeiro', 'ROA', 'SSS', 'RIF', \n",
    "                      'Margem Bancaria', 'Indc. Eficiencia', 'Indc. Basileia', 'PDD',\n",
    "                      'PDD/LL', 'Equity Multi.', 'Div Liquida/EBITDA', 'Indice de Cobertura',\n",
    "                      'Patri. Liquido', 'Despesas com juros', 'Custo % da divida', 'IPL', 'FCO', 'FCI',\n",
    "                      'FCF', 'FCT', 'FCL', 'FCI/LL', 'CAPEX', 'FCL CAPEX', 'CAPEX/LL', 'CAPEX/FCO', \n",
    "                      'Majoritar.'],\n",
    "             axis = 1, inplace = True)"
   ]
  },
  {
   "cell_type": "code",
   "execution_count": 8,
   "metadata": {},
   "outputs": [
    {
     "name": "stdout",
     "output_type": "stream",
     "text": [
      "(377, 32)\n"
     ]
    },
    {
     "data": {
      "text/html": [
       "<div>\n",
       "<style scoped>\n",
       "    .dataframe tbody tr th:only-of-type {\n",
       "        vertical-align: middle;\n",
       "    }\n",
       "\n",
       "    .dataframe tbody tr th {\n",
       "        vertical-align: top;\n",
       "    }\n",
       "\n",
       "    .dataframe thead th {\n",
       "        text-align: right;\n",
       "    }\n",
       "</style>\n",
       "<table border=\"1\" class=\"dataframe\">\n",
       "  <thead>\n",
       "    <tr style=\"text-align: right;\">\n",
       "      <th></th>\n",
       "      <th>Situação</th>\n",
       "      <th>Empresa</th>\n",
       "      <th>Segmento</th>\n",
       "      <th>Valor de M.</th>\n",
       "      <th>EV</th>\n",
       "      <th>Pes. Fisicas</th>\n",
       "      <th>Categoria</th>\n",
       "      <th>LPA</th>\n",
       "      <th>LPA desconctado</th>\n",
       "      <th>VPA</th>\n",
       "      <th>...</th>\n",
       "      <th>Divida Bruta/PL</th>\n",
       "      <th>EF</th>\n",
       "      <th>ECP</th>\n",
       "      <th>EM</th>\n",
       "      <th>At. Circulante</th>\n",
       "      <th>Pas. Circulante</th>\n",
       "      <th>Caixa.1</th>\n",
       "      <th>Liq. Corrente</th>\n",
       "      <th>Liq. Imediata</th>\n",
       "      <th>Capital de giro</th>\n",
       "    </tr>\n",
       "  </thead>\n",
       "  <tbody>\n",
       "    <tr>\n",
       "      <th>0</th>\n",
       "      <td>ruim</td>\n",
       "      <td>aes elpa s.a</td>\n",
       "      <td>energia eletrica</td>\n",
       "      <td>1.334627e+09</td>\n",
       "      <td>4.391657e+09</td>\n",
       "      <td>15969.0</td>\n",
       "      <td>alerta</td>\n",
       "      <td>0.57</td>\n",
       "      <td>0.56</td>\n",
       "      <td>36.03</td>\n",
       "      <td>...</td>\n",
       "      <td>0.86</td>\n",
       "      <td>49.00</td>\n",
       "      <td>11.0</td>\n",
       "      <td>3.94</td>\n",
       "      <td>4610.0</td>\n",
       "      <td>4508.0</td>\n",
       "      <td>545.0</td>\n",
       "      <td>1.02</td>\n",
       "      <td>0.12</td>\n",
       "      <td>102.0</td>\n",
       "    </tr>\n",
       "    <tr>\n",
       "      <th>1</th>\n",
       "      <td>boa</td>\n",
       "      <td>tiet aes tiete</td>\n",
       "      <td>energia eletrica</td>\n",
       "      <td>1.519060e+10</td>\n",
       "      <td>NaN</td>\n",
       "      <td>18681.0</td>\n",
       "      <td>dividendos</td>\n",
       "      <td>0.18</td>\n",
       "      <td>0.18</td>\n",
       "      <td>0.80</td>\n",
       "      <td>...</td>\n",
       "      <td>1.72</td>\n",
       "      <td>58.00</td>\n",
       "      <td>15.0</td>\n",
       "      <td>2.40</td>\n",
       "      <td>776.0</td>\n",
       "      <td>828.0</td>\n",
       "      <td>583.0</td>\n",
       "      <td>0.94</td>\n",
       "      <td>0.70</td>\n",
       "      <td>-52.0</td>\n",
       "    </tr>\n",
       "    <tr>\n",
       "      <th>2</th>\n",
       "      <td>ruim</td>\n",
       "      <td>aflu afluente</td>\n",
       "      <td>energia eletrica</td>\n",
       "      <td>9.465319e+07</td>\n",
       "      <td>8.565319e+07</td>\n",
       "      <td>1898.0</td>\n",
       "      <td>alerta</td>\n",
       "      <td>0.16</td>\n",
       "      <td>0.15</td>\n",
       "      <td>2.07</td>\n",
       "      <td>...</td>\n",
       "      <td>NaN</td>\n",
       "      <td>NaN</td>\n",
       "      <td>NaN</td>\n",
       "      <td>1.24</td>\n",
       "      <td>12.0</td>\n",
       "      <td>8.0</td>\n",
       "      <td>9.0</td>\n",
       "      <td>1.50</td>\n",
       "      <td>1.13</td>\n",
       "      <td>4.0</td>\n",
       "    </tr>\n",
       "    <tr>\n",
       "      <th>3</th>\n",
       "      <td>ruim</td>\n",
       "      <td>aflu afluente t</td>\n",
       "      <td>energia eletrica</td>\n",
       "      <td>2.819886e+08</td>\n",
       "      <td>2.439886e+08</td>\n",
       "      <td>8.0</td>\n",
       "      <td>alerta</td>\n",
       "      <td>0.21</td>\n",
       "      <td>0.20</td>\n",
       "      <td>1.23</td>\n",
       "      <td>...</td>\n",
       "      <td>0.04</td>\n",
       "      <td>5.25</td>\n",
       "      <td>23.0</td>\n",
       "      <td>1.15</td>\n",
       "      <td>74.0</td>\n",
       "      <td>7.0</td>\n",
       "      <td>42.0</td>\n",
       "      <td>10.57</td>\n",
       "      <td>6.00</td>\n",
       "      <td>67.0</td>\n",
       "    </tr>\n",
       "    <tr>\n",
       "      <th>4</th>\n",
       "      <td>ruim</td>\n",
       "      <td>rpad alfa holding</td>\n",
       "      <td>bancos</td>\n",
       "      <td>2.887665e+08</td>\n",
       "      <td>2.857665e+08</td>\n",
       "      <td>11290.0</td>\n",
       "      <td>crescimento moderado</td>\n",
       "      <td>0.60</td>\n",
       "      <td>0.60</td>\n",
       "      <td>10.42</td>\n",
       "      <td>...</td>\n",
       "      <td>0.25</td>\n",
       "      <td>NaN</td>\n",
       "      <td>NaN</td>\n",
       "      <td>1.01</td>\n",
       "      <td>6.0</td>\n",
       "      <td>6.0</td>\n",
       "      <td>3.0</td>\n",
       "      <td>1.00</td>\n",
       "      <td>0.50</td>\n",
       "      <td>0.0</td>\n",
       "    </tr>\n",
       "  </tbody>\n",
       "</table>\n",
       "<p>5 rows × 32 columns</p>\n",
       "</div>"
      ],
      "text/plain": [
       "  Situação            Empresa          Segmento   Valor de M.            EV  \\\n",
       "0     ruim      aes elpa s.a   energia eletrica  1.334627e+09  4.391657e+09   \n",
       "1      boa     tiet aes tiete  energia eletrica  1.519060e+10           NaN   \n",
       "2     ruim      aflu afluente  energia eletrica  9.465319e+07  8.565319e+07   \n",
       "3     ruim    aflu afluente t  energia eletrica  2.819886e+08  2.439886e+08   \n",
       "4     ruim  rpad alfa holding            bancos  2.887665e+08  2.857665e+08   \n",
       "\n",
       "   Pes. Fisicas             Categoria   LPA  LPA desconctado    VPA  ...  \\\n",
       "0       15969.0                alerta  0.57             0.56  36.03  ...   \n",
       "1       18681.0            dividendos  0.18             0.18   0.80  ...   \n",
       "2        1898.0                alerta  0.16             0.15   2.07  ...   \n",
       "3           8.0                alerta  0.21             0.20   1.23  ...   \n",
       "4       11290.0  crescimento moderado  0.60             0.60  10.42  ...   \n",
       "\n",
       "   Divida Bruta/PL     EF   ECP    EM  At. Circulante  Pas. Circulante  \\\n",
       "0             0.86  49.00  11.0  3.94          4610.0           4508.0   \n",
       "1             1.72  58.00  15.0  2.40           776.0            828.0   \n",
       "2              NaN    NaN   NaN  1.24            12.0              8.0   \n",
       "3             0.04   5.25  23.0  1.15            74.0              7.0   \n",
       "4             0.25    NaN   NaN  1.01             6.0              6.0   \n",
       "\n",
       "   Caixa.1  Liq. Corrente  Liq. Imediata  Capital de giro  \n",
       "0    545.0           1.02           0.12            102.0  \n",
       "1    583.0           0.94           0.70            -52.0  \n",
       "2      9.0           1.50           1.13              4.0  \n",
       "3     42.0          10.57           6.00             67.0  \n",
       "4      3.0           1.00           0.50              0.0  \n",
       "\n",
       "[5 rows x 32 columns]"
      ]
     },
     "execution_count": 8,
     "metadata": {},
     "output_type": "execute_result"
    }
   ],
   "source": [
    "print(dataset.shape)\n",
    "dataset.head()"
   ]
  },
  {
   "cell_type": "code",
   "execution_count": 9,
   "metadata": {},
   "outputs": [
    {
     "data": {
      "text/plain": [
       "Situação             0\n",
       "Empresa              0\n",
       "Segmento             3\n",
       "Valor de M.         58\n",
       "EV                  92\n",
       "Pes. Fisicas        19\n",
       "Categoria           29\n",
       "LPA                 41\n",
       "LPA desconctado     60\n",
       "VPA                 38\n",
       "P/L                 61\n",
       "P/L descontado      66\n",
       "P/VPA               64\n",
       "Margem Segurança    56\n",
       "Rec. Liquida        51\n",
       "Luc. Liquido        52\n",
       "Margem Liquida      59\n",
       "ROE                 49\n",
       "Patri. Liquido.1    33\n",
       "Caixa               41\n",
       "Divida bruta        54\n",
       "Divida Liquida      36\n",
       "Divida Bruta/PL     81\n",
       "EF                  66\n",
       "ECP                 67\n",
       "EM                  83\n",
       "At. Circulante      60\n",
       "Pas. Circulante     60\n",
       "Caixa.1             60\n",
       "Liq. Corrente       60\n",
       "Liq. Imediata       61\n",
       "Capital de giro     61\n",
       "dtype: int64"
      ]
     },
     "execution_count": 9,
     "metadata": {},
     "output_type": "execute_result"
    }
   ],
   "source": [
    "dataset.isnull().sum()"
   ]
  },
  {
   "cell_type": "markdown",
   "metadata": {},
   "source": [
    "Alguns atributos serão preenchidos com a média"
   ]
  },
  {
   "cell_type": "code",
   "execution_count": 10,
   "metadata": {},
   "outputs": [
    {
     "name": "stderr",
     "output_type": "stream",
     "text": [
      "<ipython-input-10-805df83fa7b6>:1: FutureWarning: Dropping of nuisance columns in DataFrame reductions (with 'numeric_only=None') is deprecated; in a future version this will raise TypeError.  Select only valid columns before calling the reduction.\n",
      "  dataset.fillna(dataset.mean(), inplace=True)\n"
     ]
    },
    {
     "data": {
      "text/plain": [
       "Situação             0\n",
       "Empresa              0\n",
       "Segmento             3\n",
       "Valor de M.          0\n",
       "EV                   0\n",
       "Pes. Fisicas         0\n",
       "Categoria           29\n",
       "LPA                  0\n",
       "LPA desconctado      0\n",
       "VPA                  0\n",
       "P/L                  0\n",
       "P/L descontado       0\n",
       "P/VPA                0\n",
       "Margem Segurança     0\n",
       "Rec. Liquida         0\n",
       "Luc. Liquido         0\n",
       "Margem Liquida       0\n",
       "ROE                  0\n",
       "Patri. Liquido.1     0\n",
       "Caixa                0\n",
       "Divida bruta         0\n",
       "Divida Liquida       0\n",
       "Divida Bruta/PL      0\n",
       "EF                   0\n",
       "ECP                  0\n",
       "EM                   0\n",
       "At. Circulante       0\n",
       "Pas. Circulante      0\n",
       "Caixa.1              0\n",
       "Liq. Corrente        0\n",
       "Liq. Imediata        0\n",
       "Capital de giro      0\n",
       "dtype: int64"
      ]
     },
     "execution_count": 10,
     "metadata": {},
     "output_type": "execute_result"
    }
   ],
   "source": [
    "dataset.fillna(dataset.mean(), inplace=True)\n",
    "dataset.isnull().sum()"
   ]
  },
  {
   "cell_type": "markdown",
   "metadata": {},
   "source": [
    "Para a categoria, será retirado os registros com valores faltantes"
   ]
  },
  {
   "cell_type": "code",
   "execution_count": 12,
   "metadata": {},
   "outputs": [
    {
     "data": {
      "text/plain": [
       "0"
      ]
     },
     "execution_count": 12,
     "metadata": {},
     "output_type": "execute_result"
    }
   ],
   "source": [
    "dataset.dropna(inplace=True)\n",
    "dataset.isnull().sum().sum()  # não sobrou nada"
   ]
  },
  {
   "cell_type": "markdown",
   "metadata": {},
   "source": [
    "### Visualização e exploração"
   ]
  },
  {
   "cell_type": "code",
   "execution_count": 13,
   "metadata": {},
   "outputs": [
    {
     "name": "stdout",
     "output_type": "stream",
     "text": [
      "<class 'pandas.core.frame.DataFrame'>\n",
      "Int64Index: 347 entries, 0 to 376\n",
      "Data columns (total 32 columns):\n",
      " #   Column            Non-Null Count  Dtype  \n",
      "---  ------            --------------  -----  \n",
      " 0   Situação          347 non-null    object \n",
      " 1   Empresa           347 non-null    object \n",
      " 2   Segmento          347 non-null    object \n",
      " 3   Valor de M.       347 non-null    float64\n",
      " 4   EV                347 non-null    float64\n",
      " 5   Pes. Fisicas      347 non-null    float64\n",
      " 6   Categoria         347 non-null    object \n",
      " 7   LPA               347 non-null    float64\n",
      " 8   LPA desconctado   347 non-null    float64\n",
      " 9   VPA               347 non-null    float64\n",
      " 10  P/L               347 non-null    float64\n",
      " 11  P/L descontado    347 non-null    float64\n",
      " 12  P/VPA             347 non-null    float64\n",
      " 13  Margem Segurança  347 non-null    float64\n",
      " 14  Rec. Liquida      347 non-null    float64\n",
      " 15  Luc. Liquido      347 non-null    float64\n",
      " 16  Margem Liquida    347 non-null    float64\n",
      " 17  ROE               347 non-null    float64\n",
      " 18  Patri. Liquido.1  347 non-null    float64\n",
      " 19  Caixa             347 non-null    float64\n",
      " 20  Divida bruta      347 non-null    float64\n",
      " 21  Divida Liquida    347 non-null    float64\n",
      " 22  Divida Bruta/PL   347 non-null    float64\n",
      " 23  EF                347 non-null    float64\n",
      " 24  ECP               347 non-null    float64\n",
      " 25  EM                347 non-null    float64\n",
      " 26  At. Circulante    347 non-null    float64\n",
      " 27  Pas. Circulante   347 non-null    float64\n",
      " 28  Caixa.1           347 non-null    float64\n",
      " 29  Liq. Corrente     347 non-null    float64\n",
      " 30  Liq. Imediata     347 non-null    float64\n",
      " 31  Capital de giro   347 non-null    float64\n",
      "dtypes: float64(28), object(4)\n",
      "memory usage: 89.5+ KB\n"
     ]
    }
   ],
   "source": [
    "dataset.info()"
   ]
  },
  {
   "cell_type": "markdown",
   "metadata": {},
   "source": [
    "#### Situação"
   ]
  },
  {
   "cell_type": "code",
   "execution_count": 14,
   "metadata": {},
   "outputs": [
    {
     "data": {
      "image/png": "[encoded data removed]",
      "text/plain": [
       "<Figure size 432x288 with 1 Axes>"
      ]
     },
     "metadata": {},
     "output_type": "display_data"
    }
   ],
   "source": [
    "srn.countplot(x=dataset['Situação']);"
   ]
  },
  {
   "cell_type": "code",
   "execution_count": 20,
   "metadata": {},
   "outputs": [
    {
     "data": {
      "text/plain": [
       "ruim     172\n",
       "boa       90\n",
       "medio     85\n",
       "Name: Situação, dtype: int64"
      ]
     },
     "execution_count": 20,
     "metadata": {},
     "output_type": "execute_result"
    }
   ],
   "source": [
    "dataset['Situação'].value_counts()"
   ]
  },
  {
   "cell_type": "markdown",
   "metadata": {},
   "source": [
    "#### Segmento"
   ]
  },
  {
   "cell_type": "code",
   "execution_count": 22,
   "metadata": {},
   "outputs": [
    {
     "data": {
      "text/plain": [
       "energia eletrica                     40\n",
       "bancos                               27\n",
       "edificações                          17\n",
       "fios e tecidos                       16\n",
       "outros                               13\n",
       "holdings diversificadas              11\n",
       "exploração de imoveis                10\n",
       "tecidos, vestuarios e calçados        7\n",
       "telecomunicações                      6\n",
       "exploração, refino e distribuição     6\n",
       "Name: Segmento, dtype: int64"
      ]
     },
     "execution_count": 22,
     "metadata": {},
     "output_type": "execute_result"
    }
   ],
   "source": [
    "dataset['Segmento'].value_counts().head(10)"
   ]
  },
  {
   "cell_type": "code",
   "execution_count": 24,
   "metadata": {},
   "outputs": [],
   "source": [
    "#np.unique(dataset['Segmento'])"
   ]
  },
  {
   "cell_type": "markdown",
   "metadata": {},
   "source": [
    "Vemos que temos segmentos parecidos ou iguais que podem ser agrupados de outra forma!"
   ]
  },
  {
   "cell_type": "code",
   "execution_count": 26,
   "metadata": {},
   "outputs": [],
   "source": [
    "def corrige_segmento(texto):\n",
    "  segmento = ''\n",
    "  if texto == 'acessórios':\n",
    "    segmento = 'acessorios'\n",
    "  elif texto == 'agriculltura':\n",
    "    segmento = 'agricultura'\n",
    "  elif texto == 'alimentos diversos':\n",
    "    segmento = 'alimentos'\n",
    "  elif texto == 'eletrodomésticos':\n",
    "    segmento = 'eletrodomesticos'\n",
    "  elif texto == 'equipamentos e servicos':\n",
    "    segmento = 'equipamentos'\n",
    "  elif texto == 'mateial rodoviario':\n",
    "    segmento = 'material rodoviario'\n",
    "  elif texto == 'ser med hospit analises e diagnosticos' or texto == 'serv med hospit analises e disgnosticos' or texto == 'serv.med.hospit.analises e diagnosticos':\n",
    "    segmento = 'hospitalar'\n",
    "  elif texto == 'serviços de apoio e armazenamento':\n",
    "    segmento = 'serviços de apoio e armazenagem'\n",
    "  elif texto == 'serviços diversos s.a ctax':\n",
    "    segmento = 'serviços diversos'\n",
    "  elif texto == 'siderurgia':\n",
    "    segmento = 'siderurgica'\n",
    "  elif texto == 'soc. Credito e financiamento' or texto == 'soc credito e financiamento':\n",
    "    segmento = 'credito'\n",
    "  elif texto == 'tansporte aereo':\n",
    "    segmento = 'transporte aereo'\n",
    "  else:\n",
    "    segmento = texto  \n",
    "\n",
    "  return segmento"
   ]
  },
  {
   "cell_type": "code",
   "execution_count": 27,
   "metadata": {},
   "outputs": [
    {
     "data": {
      "text/plain": [
       "energia eletrica          40\n",
       "bancos                    27\n",
       "edificações               17\n",
       "fios e tecidos            16\n",
       "outros                    13\n",
       "                          ..\n",
       "material ferroviario       1\n",
       "vestuario                  1\n",
       "corretoras de seguros      1\n",
       "minerais não metalicos     1\n",
       "compressores e outros      1\n",
       "Name: Segmento, Length: 85, dtype: int64"
      ]
     },
     "execution_count": 27,
     "metadata": {},
     "output_type": "execute_result"
    }
   ],
   "source": [
    "dataset['Segmento'] = dataset['Segmento'].apply(corrige_segmento)\n",
    "dataset['Segmento'].value_counts()"
   ]
  },
  {
   "cell_type": "markdown",
   "metadata": {},
   "source": [
    "#### Categoria"
   ]
  },
  {
   "cell_type": "code",
   "execution_count": 28,
   "metadata": {},
   "outputs": [
    {
     "data": {
      "text/plain": [
       "alerta                      243\n",
       "crescimento moderado         48\n",
       "dividendos                   36\n",
       "crescimento                  17\n",
       "dividendos + crescimento      2\n",
       "crescimento                   1\n",
       "Name: Categoria, dtype: int64"
      ]
     },
     "execution_count": 28,
     "metadata": {},
     "output_type": "execute_result"
    }
   ],
   "source": [
    "dataset['Categoria'].value_counts()  # tem que corrigir crescimento"
   ]
  },
  {
   "cell_type": "code",
   "execution_count": 30,
   "metadata": {},
   "outputs": [],
   "source": [
    "def corrige_categoria(texto):\n",
    "    categoria = ''\n",
    "    if texto == 'crescimento ':\n",
    "        categoria = 'crescimento'\n",
    "    else:\n",
    "        categoria = texto\n",
    "    \n",
    "    return categoria"
   ]
  },
  {
   "cell_type": "code",
   "execution_count": 31,
   "metadata": {},
   "outputs": [
    {
     "data": {
      "text/plain": [
       "alerta                      243\n",
       "crescimento moderado         48\n",
       "dividendos                   36\n",
       "crescimento                  18\n",
       "dividendos + crescimento      2\n",
       "Name: Categoria, dtype: int64"
      ]
     },
     "execution_count": 31,
     "metadata": {},
     "output_type": "execute_result"
    }
   ],
   "source": [
    "dataset['Categoria'] = dataset['Categoria'].apply(corrige_categoria)\n",
    "dataset['Categoria'].value_counts()"
   ]
  }
 ],
 "metadata": {
  "kernelspec": {
   "display_name": "Python 3",
   "language": "python",
   "name": "python3"
  },
  "language_info": {
   "codemirror_mode": {
    "name": "ipython",
    "version": 3
   },
   "file_extension": ".py",
   "mimetype": "text/x-python",
   "name": "python",
   "nbconvert_exporter": "python",
   "pygments_lexer": "ipython3",
   "version": "3.8.5"
  }
 },
 "nbformat": 4,
 "nbformat_minor": 4
}
