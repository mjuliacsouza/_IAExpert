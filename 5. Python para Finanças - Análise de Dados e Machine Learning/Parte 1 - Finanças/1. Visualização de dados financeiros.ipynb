{
 "cells": [
  {
   "cell_type": "markdown",
   "metadata": {},
   "source": [
    "# Visualização de dados financeiros"
   ]
  },
  {
   "cell_type": "code",
   "execution_count": 5,
   "metadata": {},
   "outputs": [],
   "source": [
    "#!pip install pandas_datareader"
   ]
  },
  {
   "cell_type": "code",
   "execution_count": 6,
   "metadata": {},
   "outputs": [],
   "source": [
    "import pandas as pd\n",
    "from pandas_datareader import data\n",
    "import numpy as np\n",
    "import seaborn as srn\n",
    "import matplotlib.pyplot\n",
    "import plotly.express as px\n",
    "srn.set()"
   ]
  },
  {
   "cell_type": "markdown",
   "metadata": {},
   "source": [
    "## Base de dados com uma ação"
   ]
  },
  {
   "cell_type": "markdown",
   "metadata": {},
   "source": [
    "Feito no yahoo!finanças para Gol de São Paulo a partir de 2015 até hoje."
   ]
  },
  {
   "cell_type": "code",
   "execution_count": 7,
   "metadata": {},
   "outputs": [
    {
     "name": "stdout",
     "output_type": "stream",
     "text": [
      "(1799, 6)\n"
     ]
    },
    {
     "data": {
      "text/html": [
       "<div>\n",
       "<style scoped>\n",
       "    .dataframe tbody tr th:only-of-type {\n",
       "        vertical-align: middle;\n",
       "    }\n",
       "\n",
       "    .dataframe tbody tr th {\n",
       "        vertical-align: top;\n",
       "    }\n",
       "\n",
       "    .dataframe thead th {\n",
       "        text-align: right;\n",
       "    }\n",
       "</style>\n",
       "<table border=\"1\" class=\"dataframe\">\n",
       "  <thead>\n",
       "    <tr style=\"text-align: right;\">\n",
       "      <th></th>\n",
       "      <th>High</th>\n",
       "      <th>Low</th>\n",
       "      <th>Open</th>\n",
       "      <th>Close</th>\n",
       "      <th>Volume</th>\n",
       "      <th>Adj Close</th>\n",
       "    </tr>\n",
       "    <tr>\n",
       "      <th>Date</th>\n",
       "      <th></th>\n",
       "      <th></th>\n",
       "      <th></th>\n",
       "      <th></th>\n",
       "      <th></th>\n",
       "      <th></th>\n",
       "    </tr>\n",
       "  </thead>\n",
       "  <tbody>\n",
       "    <tr>\n",
       "      <th>2015-01-02</th>\n",
       "      <td>15.20</td>\n",
       "      <td>14.61</td>\n",
       "      <td>14.97</td>\n",
       "      <td>14.99</td>\n",
       "      <td>901900</td>\n",
       "      <td>14.99</td>\n",
       "    </tr>\n",
       "    <tr>\n",
       "      <th>2015-01-05</th>\n",
       "      <td>15.01</td>\n",
       "      <td>14.41</td>\n",
       "      <td>14.90</td>\n",
       "      <td>14.85</td>\n",
       "      <td>1272500</td>\n",
       "      <td>14.85</td>\n",
       "    </tr>\n",
       "    <tr>\n",
       "      <th>2015-01-06</th>\n",
       "      <td>15.21</td>\n",
       "      <td>14.65</td>\n",
       "      <td>14.75</td>\n",
       "      <td>15.21</td>\n",
       "      <td>2183500</td>\n",
       "      <td>15.21</td>\n",
       "    </tr>\n",
       "    <tr>\n",
       "      <th>2015-01-07</th>\n",
       "      <td>15.33</td>\n",
       "      <td>14.55</td>\n",
       "      <td>15.15</td>\n",
       "      <td>14.55</td>\n",
       "      <td>1846900</td>\n",
       "      <td>14.55</td>\n",
       "    </tr>\n",
       "    <tr>\n",
       "      <th>2015-01-08</th>\n",
       "      <td>14.65</td>\n",
       "      <td>14.20</td>\n",
       "      <td>14.41</td>\n",
       "      <td>14.27</td>\n",
       "      <td>1569500</td>\n",
       "      <td>14.27</td>\n",
       "    </tr>\n",
       "  </tbody>\n",
       "</table>\n",
       "</div>"
      ],
      "text/plain": [
       "             High    Low   Open  Close   Volume  Adj Close\n",
       "Date                                                      \n",
       "2015-01-02  15.20  14.61  14.97  14.99   901900      14.99\n",
       "2015-01-05  15.01  14.41  14.90  14.85  1272500      14.85\n",
       "2015-01-06  15.21  14.65  14.75  15.21  2183500      15.21\n",
       "2015-01-07  15.33  14.55  15.15  14.55  1846900      14.55\n",
       "2015-01-08  14.65  14.20  14.41  14.27  1569500      14.27"
      ]
     },
     "execution_count": 7,
     "metadata": {},
     "output_type": "execute_result"
    }
   ],
   "source": [
    "gol_df = data.DataReader(name='GOLL4.SA', \n",
    "                         data_source='yahoo', \n",
    "                         start='2015-01-01')\n",
    "print(gol_df.shape)\n",
    "gol_df.head()"
   ]
  },
  {
   "cell_type": "code",
   "execution_count": 11,
   "metadata": {},
   "outputs": [
    {
     "name": "stdout",
     "output_type": "stream",
     "text": [
      "<class 'pandas.core.frame.DataFrame'>\n",
      "DatetimeIndex: 1799 entries, 2015-01-02 to 2022-03-29\n",
      "Data columns (total 6 columns):\n",
      " #   Column     Non-Null Count  Dtype  \n",
      "---  ------     --------------  -----  \n",
      " 0   High       1799 non-null   float64\n",
      " 1   Low        1799 non-null   float64\n",
      " 2   Open       1799 non-null   float64\n",
      " 3   Close      1799 non-null   float64\n",
      " 4   Volume     1799 non-null   int64  \n",
      " 5   Adj Close  1799 non-null   float64\n",
      "dtypes: float64(5), int64(1)\n",
      "memory usage: 98.4 KB\n",
      "None\n"
     ]
    },
    {
     "data": {
      "text/html": [
       "<div>\n",
       "<style scoped>\n",
       "    .dataframe tbody tr th:only-of-type {\n",
       "        vertical-align: middle;\n",
       "    }\n",
       "\n",
       "    .dataframe tbody tr th {\n",
       "        vertical-align: top;\n",
       "    }\n",
       "\n",
       "    .dataframe thead th {\n",
       "        text-align: right;\n",
       "    }\n",
       "</style>\n",
       "<table border=\"1\" class=\"dataframe\">\n",
       "  <thead>\n",
       "    <tr style=\"text-align: right;\">\n",
       "      <th></th>\n",
       "      <th>count</th>\n",
       "      <th>mean</th>\n",
       "      <th>std</th>\n",
       "      <th>min</th>\n",
       "      <th>25%</th>\n",
       "      <th>50%</th>\n",
       "      <th>75%</th>\n",
       "      <th>max</th>\n",
       "    </tr>\n",
       "  </thead>\n",
       "  <tbody>\n",
       "    <tr>\n",
       "      <th>High</th>\n",
       "      <td>1799.0</td>\n",
       "      <td>1.620853e+01</td>\n",
       "      <td>9.830051e+00</td>\n",
       "      <td>0.00</td>\n",
       "      <td>7.950</td>\n",
       "      <td>15.15</td>\n",
       "      <td>2.241000e+01</td>\n",
       "      <td>4.462000e+01</td>\n",
       "    </tr>\n",
       "    <tr>\n",
       "      <th>Low</th>\n",
       "      <td>1799.0</td>\n",
       "      <td>1.541410e+01</td>\n",
       "      <td>9.466661e+00</td>\n",
       "      <td>0.00</td>\n",
       "      <td>7.610</td>\n",
       "      <td>14.38</td>\n",
       "      <td>2.131000e+01</td>\n",
       "      <td>4.131000e+01</td>\n",
       "    </tr>\n",
       "    <tr>\n",
       "      <th>Open</th>\n",
       "      <td>1799.0</td>\n",
       "      <td>1.582115e+01</td>\n",
       "      <td>9.652272e+00</td>\n",
       "      <td>0.00</td>\n",
       "      <td>7.770</td>\n",
       "      <td>14.75</td>\n",
       "      <td>2.201000e+01</td>\n",
       "      <td>4.367000e+01</td>\n",
       "    </tr>\n",
       "    <tr>\n",
       "      <th>Close</th>\n",
       "      <td>1799.0</td>\n",
       "      <td>1.579349e+01</td>\n",
       "      <td>9.638045e+00</td>\n",
       "      <td>1.16</td>\n",
       "      <td>7.775</td>\n",
       "      <td>14.80</td>\n",
       "      <td>2.190000e+01</td>\n",
       "      <td>4.379000e+01</td>\n",
       "    </tr>\n",
       "    <tr>\n",
       "      <th>Volume</th>\n",
       "      <td>1799.0</td>\n",
       "      <td>5.086417e+06</td>\n",
       "      <td>4.747393e+06</td>\n",
       "      <td>0.00</td>\n",
       "      <td>2018100.000</td>\n",
       "      <td>3630800.00</td>\n",
       "      <td>6.461850e+06</td>\n",
       "      <td>4.368050e+07</td>\n",
       "    </tr>\n",
       "    <tr>\n",
       "      <th>Adj Close</th>\n",
       "      <td>1799.0</td>\n",
       "      <td>1.579349e+01</td>\n",
       "      <td>9.638045e+00</td>\n",
       "      <td>1.16</td>\n",
       "      <td>7.775</td>\n",
       "      <td>14.80</td>\n",
       "      <td>2.190000e+01</td>\n",
       "      <td>4.379000e+01</td>\n",
       "    </tr>\n",
       "  </tbody>\n",
       "</table>\n",
       "</div>"
      ],
      "text/plain": [
       "            count          mean           std   min          25%         50%  \\\n",
       "High       1799.0  1.620853e+01  9.830051e+00  0.00        7.950       15.15   \n",
       "Low        1799.0  1.541410e+01  9.466661e+00  0.00        7.610       14.38   \n",
       "Open       1799.0  1.582115e+01  9.652272e+00  0.00        7.770       14.75   \n",
       "Close      1799.0  1.579349e+01  9.638045e+00  1.16        7.775       14.80   \n",
       "Volume     1799.0  5.086417e+06  4.747393e+06  0.00  2018100.000  3630800.00   \n",
       "Adj Close  1799.0  1.579349e+01  9.638045e+00  1.16        7.775       14.80   \n",
       "\n",
       "                    75%           max  \n",
       "High       2.241000e+01  4.462000e+01  \n",
       "Low        2.131000e+01  4.131000e+01  \n",
       "Open       2.201000e+01  4.367000e+01  \n",
       "Close      2.190000e+01  4.379000e+01  \n",
       "Volume     6.461850e+06  4.368050e+07  \n",
       "Adj Close  2.190000e+01  4.379000e+01  "
      ]
     },
     "execution_count": 11,
     "metadata": {},
     "output_type": "execute_result"
    }
   ],
   "source": [
    "print(gol_df.info())\n",
    "gol_df.describe(include='all').T"
   ]
  }
 ],
 "metadata": {
  "kernelspec": {
   "display_name": "Python 3",
   "language": "python",
   "name": "python3"
  },
  "language_info": {
   "codemirror_mode": {
    "name": "ipython",
    "version": 3
   },
   "file_extension": ".py",
   "mimetype": "text/x-python",
   "name": "python",
   "nbconvert_exporter": "python",
   "pygments_lexer": "ipython3",
   "version": "3.8.5"
  }
 },
 "nbformat": 4,
 "nbformat_minor": 4
}
