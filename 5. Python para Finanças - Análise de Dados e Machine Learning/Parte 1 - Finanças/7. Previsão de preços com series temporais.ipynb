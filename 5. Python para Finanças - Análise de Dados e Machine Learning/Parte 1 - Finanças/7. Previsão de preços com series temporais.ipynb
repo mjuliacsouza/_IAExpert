{
 "cells": [
  {
   "cell_type": "markdown",
   "metadata": {},
   "source": [
    "# Previsão de preços com series temporais"
   ]
  },
  {
   "cell_type": "code",
   "execution_count": 1,
   "metadata": {},
   "outputs": [],
   "source": [
    "import pandas as pd\n",
    "import numpy as np\n",
    "import matplotlib.pyplot as plt\n",
    "import seaborn as srn\n",
    "srn.set()\n",
    "from scipy import stats\n",
    "import plotly.express as px"
   ]
  },
  {
   "cell_type": "markdown",
   "metadata": {},
   "source": [
    "## ARIMA"
   ]
  },
  {
   "cell_type": "code",
   "execution_count": 3,
   "metadata": {},
   "outputs": [],
   "source": [
    "#!pip install pmdarima"
   ]
  },
  {
   "cell_type": "code",
   "execution_count": 6,
   "metadata": {},
   "outputs": [],
   "source": [
    "import datetime\n",
    "from statsmodels.tsa.seasonal import seasonal_decompose\n",
    "from pmdarima.arima import auto_arima"
   ]
  },
  {
   "cell_type": "code",
   "execution_count": 11,
   "metadata": {},
   "outputs": [
    {
     "name": "stdout",
     "output_type": "stream",
     "text": [
      "(1798, 1)\n"
     ]
    },
    {
     "data": {
      "text/plain": [
       "Date\n",
       "2015-01-02     47.259998\n",
       "2015-01-05     46.320000\n",
       "2015-01-06     46.580002\n",
       "2015-01-07     48.150002\n",
       "2015-01-08     48.509998\n",
       "                 ...    \n",
       "2022-03-23    112.900002\n",
       "2022-03-24    114.739998\n",
       "2022-03-25    114.750000\n",
       "2022-03-28    114.510002\n",
       "2022-03-29    115.750000\n",
       "Name: BOVA, Length: 1798, dtype: float64"
      ]
     },
     "execution_count": 11,
     "metadata": {},
     "output_type": "execute_result"
    }
   ],
   "source": [
    "dateparse = lambda dates: datetime.datetime.strptime(dates, '%Y-%m-%d')\n",
    "dataset = pd.read_csv('acoes.csv', \n",
    "                      parse_dates=['Date'], \n",
    "                      index_col='Date', \n",
    "                      date_parser=dateparse, \n",
    "                      usecols=['Date', 'BOVA'])\n",
    "print(dataset.shape)\n",
    "time_series = dataset['BOVA']\n",
    "time_series"
   ]
  },
  {
   "cell_type": "markdown",
   "metadata": {},
   "source": [
    "### Exploração da série temporal"
   ]
  },
  {
   "cell_type": "code",
   "execution_count": 13,
   "metadata": {},
   "outputs": [
    {
     "name": "stdout",
     "output_type": "stream",
     "text": [
      "máx: 2022-03-29 00:00:00\n",
      "min: 2015-01-02 00:00:00\n"
     ]
    }
   ],
   "source": [
    "print('máx:',time_series.index.max())\n",
    "print('min:',time_series.index.min())"
   ]
  },
  {
   "cell_type": "code",
   "execution_count": 14,
   "metadata": {},
   "outputs": [
    {
     "data": {
      "image/png": "[encoded data removed]",
      "text/plain": [
       "<Figure size 432x288 with 1 Axes>"
      ]
     },
     "metadata": {},
     "output_type": "display_data"
    }
   ],
   "source": [
    "plt.plot(time_series);"
   ]
  },
  {
   "cell_type": "code",
   "execution_count": null,
   "metadata": {},
   "outputs": [],
   "source": [
    "figura = px.line(title='Histórico do preço das ações')\n",
    "figura.add_scatter(x=time_series.index, y=time_series)\n",
    "figura.show()"
   ]
  }
 ],
 "metadata": {
  "kernelspec": {
   "display_name": "Python 3",
   "language": "python",
   "name": "python3"
  },
  "language_info": {
   "codemirror_mode": {
    "name": "ipython",
    "version": 3
   },
   "file_extension": ".py",
   "mimetype": "text/x-python",
   "name": "python",
   "nbconvert_exporter": "python",
   "pygments_lexer": "ipython3",
   "version": "3.8.5"
  }
 },
 "nbformat": 4,
 "nbformat_minor": 4
}
