{
 "cells": [
  {
   "cell_type": "markdown",
   "metadata": {},
   "source": [
    "# Risco de ações"
   ]
  },
  {
   "cell_type": "code",
   "execution_count": 1,
   "metadata": {},
   "outputs": [],
   "source": [
    "import pandas as pd\n",
    "import numpy as np\n",
    "import statistics\n",
    "import math\n",
    "from scipy import stats\n",
    "import seaborn as srn\n",
    "import matplotlib.pyplot as plt\n",
    "srn.set()"
   ]
  },
  {
   "cell_type": "code",
   "execution_count": 2,
   "metadata": {},
   "outputs": [
    {
     "name": "stdout",
     "output_type": "stream",
     "text": [
      "(1798, 7)\n"
     ]
    },
    {
     "data": {
      "text/html": [
       "<div>\n",
       "<style scoped>\n",
       "    .dataframe tbody tr th:only-of-type {\n",
       "        vertical-align: middle;\n",
       "    }\n",
       "\n",
       "    .dataframe tbody tr th {\n",
       "        vertical-align: top;\n",
       "    }\n",
       "\n",
       "    .dataframe thead th {\n",
       "        text-align: right;\n",
       "    }\n",
       "</style>\n",
       "<table border=\"1\" class=\"dataframe\">\n",
       "  <thead>\n",
       "    <tr style=\"text-align: right;\">\n",
       "      <th></th>\n",
       "      <th>Date</th>\n",
       "      <th>GOL</th>\n",
       "      <th>CVC</th>\n",
       "      <th>WEGE</th>\n",
       "      <th>MGLU</th>\n",
       "      <th>TOTS</th>\n",
       "      <th>BOVA</th>\n",
       "    </tr>\n",
       "  </thead>\n",
       "  <tbody>\n",
       "    <tr>\n",
       "      <th>0</th>\n",
       "      <td>2015-01-02</td>\n",
       "      <td>14.99</td>\n",
       "      <td>15.20</td>\n",
       "      <td>5.923076</td>\n",
       "      <td>0.232812</td>\n",
       "      <td>11.910702</td>\n",
       "      <td>47.259998</td>\n",
       "    </tr>\n",
       "    <tr>\n",
       "      <th>1</th>\n",
       "      <td>2015-01-05</td>\n",
       "      <td>14.85</td>\n",
       "      <td>15.00</td>\n",
       "      <td>5.963461</td>\n",
       "      <td>0.237187</td>\n",
       "      <td>11.544731</td>\n",
       "      <td>46.320000</td>\n",
       "    </tr>\n",
       "    <tr>\n",
       "      <th>2</th>\n",
       "      <td>2015-01-06</td>\n",
       "      <td>15.21</td>\n",
       "      <td>14.80</td>\n",
       "      <td>5.875000</td>\n",
       "      <td>0.234062</td>\n",
       "      <td>10.822770</td>\n",
       "      <td>46.580002</td>\n",
       "    </tr>\n",
       "    <tr>\n",
       "      <th>3</th>\n",
       "      <td>2015-01-07</td>\n",
       "      <td>14.55</td>\n",
       "      <td>14.67</td>\n",
       "      <td>5.807692</td>\n",
       "      <td>0.241875</td>\n",
       "      <td>10.746248</td>\n",
       "      <td>48.150002</td>\n",
       "    </tr>\n",
       "    <tr>\n",
       "      <th>4</th>\n",
       "      <td>2015-01-08</td>\n",
       "      <td>14.27</td>\n",
       "      <td>14.15</td>\n",
       "      <td>5.905769</td>\n",
       "      <td>0.240000</td>\n",
       "      <td>10.995774</td>\n",
       "      <td>48.509998</td>\n",
       "    </tr>\n",
       "  </tbody>\n",
       "</table>\n",
       "</div>"
      ],
      "text/plain": [
       "        Date    GOL    CVC      WEGE      MGLU       TOTS       BOVA\n",
       "0 2015-01-02  14.99  15.20  5.923076  0.232812  11.910702  47.259998\n",
       "1 2015-01-05  14.85  15.00  5.963461  0.237187  11.544731  46.320000\n",
       "2 2015-01-06  15.21  14.80  5.875000  0.234062  10.822770  46.580002\n",
       "3 2015-01-07  14.55  14.67  5.807692  0.241875  10.746248  48.150002\n",
       "4 2015-01-08  14.27  14.15  5.905769  0.240000  10.995774  48.509998"
      ]
     },
     "execution_count": 2,
     "metadata": {},
     "output_type": "execute_result"
    }
   ],
   "source": [
    "dataset = pd.read_csv('acoes.csv')\n",
    "dataset['Date'] = pd.to_datetime(dataset['Date'])\n",
    "colunas = dataset.columns[1:]\n",
    "print(dataset.shape)\n",
    "dataset.head()"
   ]
  },
  {
   "cell_type": "code",
   "execution_count": 3,
   "metadata": {},
   "outputs": [
    {
     "name": "stdout",
     "output_type": "stream",
     "text": [
      "<class 'pandas.core.frame.DataFrame'>\n",
      "RangeIndex: 1798 entries, 0 to 1797\n",
      "Data columns (total 7 columns):\n",
      " #   Column  Non-Null Count  Dtype         \n",
      "---  ------  --------------  -----         \n",
      " 0   Date    1798 non-null   datetime64[ns]\n",
      " 1   GOL     1798 non-null   float64       \n",
      " 2   CVC     1798 non-null   float64       \n",
      " 3   WEGE    1798 non-null   float64       \n",
      " 4   MGLU    1798 non-null   float64       \n",
      " 5   TOTS    1798 non-null   float64       \n",
      " 6   BOVA    1798 non-null   float64       \n",
      "dtypes: datetime64[ns](1), float64(6)\n",
      "memory usage: 98.5 KB\n",
      "None\n"
     ]
    },
    {
     "name": "stderr",
     "output_type": "stream",
     "text": [
      "<ipython-input-3-97ac043a877d>:2: FutureWarning: Treating datetime data as categorical rather than numeric in `.describe` is deprecated and will be removed in a future version of pandas. Specify `datetime_is_numeric=True` to silence this warning and adopt the future behavior now.\n",
      "  dataset.describe(include='all').T\n"
     ]
    },
    {
     "data": {
      "text/html": [
       "<div>\n",
       "<style scoped>\n",
       "    .dataframe tbody tr th:only-of-type {\n",
       "        vertical-align: middle;\n",
       "    }\n",
       "\n",
       "    .dataframe tbody tr th {\n",
       "        vertical-align: top;\n",
       "    }\n",
       "\n",
       "    .dataframe thead th {\n",
       "        text-align: right;\n",
       "    }\n",
       "</style>\n",
       "<table border=\"1\" class=\"dataframe\">\n",
       "  <thead>\n",
       "    <tr style=\"text-align: right;\">\n",
       "      <th></th>\n",
       "      <th>count</th>\n",
       "      <th>unique</th>\n",
       "      <th>top</th>\n",
       "      <th>freq</th>\n",
       "      <th>first</th>\n",
       "      <th>last</th>\n",
       "      <th>mean</th>\n",
       "      <th>std</th>\n",
       "      <th>min</th>\n",
       "      <th>25%</th>\n",
       "      <th>50%</th>\n",
       "      <th>75%</th>\n",
       "      <th>max</th>\n",
       "    </tr>\n",
       "  </thead>\n",
       "  <tbody>\n",
       "    <tr>\n",
       "      <th>Date</th>\n",
       "      <td>1798</td>\n",
       "      <td>1798</td>\n",
       "      <td>2018-01-05</td>\n",
       "      <td>1</td>\n",
       "      <td>2015-01-02</td>\n",
       "      <td>2022-03-29</td>\n",
       "      <td>NaN</td>\n",
       "      <td>NaN</td>\n",
       "      <td>NaN</td>\n",
       "      <td>NaN</td>\n",
       "      <td>NaN</td>\n",
       "      <td>NaN</td>\n",
       "      <td>NaN</td>\n",
       "    </tr>\n",
       "    <tr>\n",
       "      <th>GOL</th>\n",
       "      <td>1798</td>\n",
       "      <td>NaN</td>\n",
       "      <td>NaT</td>\n",
       "      <td>NaN</td>\n",
       "      <td>NaT</td>\n",
       "      <td>NaT</td>\n",
       "      <td>15.7926</td>\n",
       "      <td>9.64064</td>\n",
       "      <td>1.16</td>\n",
       "      <td>7.7725</td>\n",
       "      <td>14.8</td>\n",
       "      <td>21.9</td>\n",
       "      <td>43.79</td>\n",
       "    </tr>\n",
       "    <tr>\n",
       "      <th>CVC</th>\n",
       "      <td>1798</td>\n",
       "      <td>NaN</td>\n",
       "      <td>NaT</td>\n",
       "      <td>NaN</td>\n",
       "      <td>NaT</td>\n",
       "      <td>NaT</td>\n",
       "      <td>30.1237</td>\n",
       "      <td>15.6602</td>\n",
       "      <td>6.10657</td>\n",
       "      <td>17.2</td>\n",
       "      <td>23.705</td>\n",
       "      <td>44.1925</td>\n",
       "      <td>64.8</td>\n",
       "    </tr>\n",
       "    <tr>\n",
       "      <th>WEGE</th>\n",
       "      <td>1798</td>\n",
       "      <td>NaN</td>\n",
       "      <td>NaT</td>\n",
       "      <td>NaN</td>\n",
       "      <td>NaT</td>\n",
       "      <td>NaT</td>\n",
       "      <td>15.4205</td>\n",
       "      <td>12.0484</td>\n",
       "      <td>4.94231</td>\n",
       "      <td>6.57692</td>\n",
       "      <td>9.07846</td>\n",
       "      <td>22.9038</td>\n",
       "      <td>46.105</td>\n",
       "    </tr>\n",
       "    <tr>\n",
       "      <th>MGLU</th>\n",
       "      <td>1798</td>\n",
       "      <td>NaN</td>\n",
       "      <td>NaT</td>\n",
       "      <td>NaN</td>\n",
       "      <td>NaT</td>\n",
       "      <td>NaT</td>\n",
       "      <td>7.06014</td>\n",
       "      <td>7.95957</td>\n",
       "      <td>0.030585</td>\n",
       "      <td>0.357997</td>\n",
       "      <td>3.92297</td>\n",
       "      <td>11.3244</td>\n",
       "      <td>27.45</td>\n",
       "    </tr>\n",
       "    <tr>\n",
       "      <th>TOTS</th>\n",
       "      <td>1798</td>\n",
       "      <td>NaN</td>\n",
       "      <td>NaT</td>\n",
       "      <td>NaN</td>\n",
       "      <td>NaT</td>\n",
       "      <td>NaT</td>\n",
       "      <td>16.7217</td>\n",
       "      <td>9.06115</td>\n",
       "      <td>7.1564</td>\n",
       "      <td>9.98104</td>\n",
       "      <td>11.578</td>\n",
       "      <td>24.4967</td>\n",
       "      <td>40.6</td>\n",
       "    </tr>\n",
       "    <tr>\n",
       "      <th>BOVA</th>\n",
       "      <td>1798</td>\n",
       "      <td>NaN</td>\n",
       "      <td>NaT</td>\n",
       "      <td>NaN</td>\n",
       "      <td>NaT</td>\n",
       "      <td>NaT</td>\n",
       "      <td>79.3597</td>\n",
       "      <td>23.8065</td>\n",
       "      <td>36.45</td>\n",
       "      <td>57.8</td>\n",
       "      <td>78.435</td>\n",
       "      <td>100</td>\n",
       "      <td>125.75</td>\n",
       "    </tr>\n",
       "  </tbody>\n",
       "</table>\n",
       "</div>"
      ],
      "text/plain": [
       "     count unique        top freq      first       last     mean      std  \\\n",
       "Date  1798   1798 2018-01-05    1 2015-01-02 2022-03-29      NaN      NaN   \n",
       "GOL   1798    NaN        NaT  NaN        NaT        NaT  15.7926  9.64064   \n",
       "CVC   1798    NaN        NaT  NaN        NaT        NaT  30.1237  15.6602   \n",
       "WEGE  1798    NaN        NaT  NaN        NaT        NaT  15.4205  12.0484   \n",
       "MGLU  1798    NaN        NaT  NaN        NaT        NaT  7.06014  7.95957   \n",
       "TOTS  1798    NaN        NaT  NaN        NaT        NaT  16.7217  9.06115   \n",
       "BOVA  1798    NaN        NaT  NaN        NaT        NaT  79.3597  23.8065   \n",
       "\n",
       "           min       25%      50%      75%     max  \n",
       "Date       NaN       NaN      NaN      NaN     NaN  \n",
       "GOL       1.16    7.7725     14.8     21.9   43.79  \n",
       "CVC    6.10657      17.2   23.705  44.1925    64.8  \n",
       "WEGE   4.94231   6.57692  9.07846  22.9038  46.105  \n",
       "MGLU  0.030585  0.357997  3.92297  11.3244   27.45  \n",
       "TOTS    7.1564   9.98104   11.578  24.4967    40.6  \n",
       "BOVA     36.45      57.8   78.435      100  125.75  "
      ]
     },
     "execution_count": 3,
     "metadata": {},
     "output_type": "execute_result"
    }
   ],
   "source": [
    "print(dataset.info())\n",
    "dataset.describe(include='all').T"
   ]
  },
  {
   "cell_type": "markdown",
   "metadata": {},
   "source": [
    "## Taxa de retorno anual"
   ]
  },
  {
   "cell_type": "code",
   "execution_count": 4,
   "metadata": {},
   "outputs": [],
   "source": [
    "df_anual = pd.DataFrame()\n",
    "taxa_retorno_log = lambda valor_inicial, valor_final: np.log(valor_final/valor_inicial)*100\n",
    "anos = dataset['Date'].dt.year.unique()"
   ]
  },
  {
   "cell_type": "code",
   "execution_count": 5,
   "metadata": {},
   "outputs": [
    {
     "data": {
      "text/html": [
       "<div>\n",
       "<style scoped>\n",
       "    .dataframe tbody tr th:only-of-type {\n",
       "        vertical-align: middle;\n",
       "    }\n",
       "\n",
       "    .dataframe tbody tr th {\n",
       "        vertical-align: top;\n",
       "    }\n",
       "\n",
       "    .dataframe thead th {\n",
       "        text-align: right;\n",
       "    }\n",
       "</style>\n",
       "<table border=\"1\" class=\"dataframe\">\n",
       "  <thead>\n",
       "    <tr style=\"text-align: right;\">\n",
       "      <th></th>\n",
       "      <th>taxa_retorno_2015</th>\n",
       "      <th>taxa_retorno_2016</th>\n",
       "      <th>taxa_retorno_2017</th>\n",
       "      <th>taxa_retorno_2018</th>\n",
       "      <th>taxa_retorno_2019</th>\n",
       "      <th>taxa_retorno_2020</th>\n",
       "      <th>taxa_retorno_2021</th>\n",
       "      <th>taxa_retorno_2022</th>\n",
       "    </tr>\n",
       "  </thead>\n",
       "  <tbody>\n",
       "    <tr>\n",
       "      <th>GOL</th>\n",
       "      <td>-178.312440</td>\n",
       "      <td>65.076790</td>\n",
       "      <td>117.472435</td>\n",
       "      <td>50.223057</td>\n",
       "      <td>36.878205</td>\n",
       "      <td>-39.902897</td>\n",
       "      <td>-34.140920</td>\n",
       "      <td>4.325629</td>\n",
       "    </tr>\n",
       "    <tr>\n",
       "      <th>CVC</th>\n",
       "      <td>-11.860573</td>\n",
       "      <td>63.734933</td>\n",
       "      <td>74.520037</td>\n",
       "      <td>20.420020</td>\n",
       "      <td>-33.287804</td>\n",
       "      <td>-77.587744</td>\n",
       "      <td>-40.745022</td>\n",
       "      <td>25.691039</td>\n",
       "    </tr>\n",
       "    <tr>\n",
       "      <th>WEGE</th>\n",
       "      <td>-2.965608</td>\n",
       "      <td>5.708249</td>\n",
       "      <td>46.793190</td>\n",
       "      <td>-9.282715</td>\n",
       "      <td>65.632628</td>\n",
       "      <td>76.512455</td>\n",
       "      <td>-12.336012</td>\n",
       "      <td>5.852815</td>\n",
       "    </tr>\n",
       "    <tr>\n",
       "      <th>MGLU</th>\n",
       "      <td>-121.692221</td>\n",
       "      <td>177.745281</td>\n",
       "      <td>184.209052</td>\n",
       "      <td>82.564540</td>\n",
       "      <td>71.868010</td>\n",
       "      <td>70.463576</td>\n",
       "      <td>-124.998910</td>\n",
       "      <td>4.082203</td>\n",
       "    </tr>\n",
       "    <tr>\n",
       "      <th>TOTS</th>\n",
       "      <td>-14.299333</td>\n",
       "      <td>-24.421777</td>\n",
       "      <td>23.670102</td>\n",
       "      <td>-10.480793</td>\n",
       "      <td>81.418491</td>\n",
       "      <td>21.992798</td>\n",
       "      <td>3.120818</td>\n",
       "      <td>27.376753</td>\n",
       "    </tr>\n",
       "    <tr>\n",
       "      <th>BOVA</th>\n",
       "      <td>-11.490413</td>\n",
       "      <td>34.856435</td>\n",
       "      <td>24.758641</td>\n",
       "      <td>11.911371</td>\n",
       "      <td>23.540034</td>\n",
       "      <td>0.358254</td>\n",
       "      <td>-12.384919</td>\n",
       "      <td>14.696275</td>\n",
       "    </tr>\n",
       "  </tbody>\n",
       "</table>\n",
       "</div>"
      ],
      "text/plain": [
       "      taxa_retorno_2015  taxa_retorno_2016  taxa_retorno_2017  \\\n",
       "GOL         -178.312440          65.076790         117.472435   \n",
       "CVC          -11.860573          63.734933          74.520037   \n",
       "WEGE          -2.965608           5.708249          46.793190   \n",
       "MGLU        -121.692221         177.745281         184.209052   \n",
       "TOTS         -14.299333         -24.421777          23.670102   \n",
       "BOVA         -11.490413          34.856435          24.758641   \n",
       "\n",
       "      taxa_retorno_2018  taxa_retorno_2019  taxa_retorno_2020  \\\n",
       "GOL           50.223057          36.878205         -39.902897   \n",
       "CVC           20.420020         -33.287804         -77.587744   \n",
       "WEGE          -9.282715          65.632628          76.512455   \n",
       "MGLU          82.564540          71.868010          70.463576   \n",
       "TOTS         -10.480793          81.418491          21.992798   \n",
       "BOVA          11.911371          23.540034           0.358254   \n",
       "\n",
       "      taxa_retorno_2021  taxa_retorno_2022  \n",
       "GOL          -34.140920           4.325629  \n",
       "CVC          -40.745022          25.691039  \n",
       "WEGE         -12.336012           5.852815  \n",
       "MGLU        -124.998910           4.082203  \n",
       "TOTS           3.120818          27.376753  \n",
       "BOVA         -12.384919          14.696275  "
      ]
     },
     "execution_count": 5,
     "metadata": {},
     "output_type": "execute_result"
    }
   ],
   "source": [
    "# 2015 a 2022\n",
    "for ano in anos:\n",
    "    primeiro_dia = dataset[dataset['Date'].dt.year == ano]['Date'].min().date()\n",
    "    ultimo_dia = dataset[dataset['Date'].dt.year == ano]['Date'].max().date()\n",
    "    for coluna in colunas:\n",
    "        valor_inicial = dataset.query('Date == @primeiro_dia')[coluna].values[0]\n",
    "        valor_final = dataset.query('Date == @ultimo_dia')[coluna].values[0]\n",
    "        taxa_retorno = taxa_retorno_log(valor_inicial, valor_final)\n",
    "        df_anual.loc[coluna, f'taxa_retorno_{ano}'] = taxa_retorno\n",
    "df_anual"
   ]
  },
  {
   "cell_type": "markdown",
   "metadata": {},
   "source": [
    "## Variância"
   ]
  },
  {
   "cell_type": "code",
   "execution_count": 6,
   "metadata": {},
   "outputs": [],
   "source": [
    "# por ação\n",
    "taxas_gol = df_anual.loc['GOL',:].values\n",
    "taxas_cvc = df_anual.loc['CVC',:].values\n",
    "taxas_wege = df_anual.loc['WEGE',:].values\n",
    "taxas_mglu = df_anual.loc['MGLU',:].values\n",
    "taxas_tots = df_anual.loc['TOTS',:].values\n",
    "taxas_bova = df_anual.loc['BOVA',:].values\n",
    "\n",
    "# média\n",
    "media_gol = taxas_gol.mean()\n",
    "media_cvc = taxas_cvc.mean()\n",
    "media_wege = taxas_wege.mean()\n",
    "media_mglu = taxas_mglu.mean()\n",
    "media_tots = taxas_tots.mean()\n",
    "media_bova = taxas_bova.mean()\n",
    "\n",
    "# variância\n",
    "variancia_gol = taxas_gol.var()\n",
    "variancia_cvc = taxas_cvc.var()\n",
    "variancia_wege = taxas_wege.var()\n",
    "variancia_mglu = taxas_mglu.var()\n",
    "variancia_tots = taxas_tots.var()\n",
    "variancia_bova = taxas_bova.var()"
   ]
  },
  {
   "cell_type": "markdown",
   "metadata": {},
   "source": [
    "Utilizando os preços das ações apenas os ultimos 30 dias para CVC:"
   ]
  },
  {
   "cell_type": "code",
   "execution_count": 7,
   "metadata": {},
   "outputs": [
    {
     "data": {
      "text/plain": [
       "3.731777210505808"
      ]
     },
     "execution_count": 7,
     "metadata": {},
     "output_type": "execute_result"
    }
   ],
   "source": [
    "dataset['CVC'].tail(30).var()"
   ]
  },
  {
   "cell_type": "markdown",
   "metadata": {},
   "source": [
    "## Desvio Padrão"
   ]
  },
  {
   "cell_type": "code",
   "execution_count": 8,
   "metadata": {},
   "outputs": [],
   "source": [
    "desvio_padrao_cvc = math.sqrt(variancia_cvc)  # ou taxas_gol.std()\n",
    "desvio_padrao_gol = math.sqrt(variancia_gol)\n",
    "desvio_padrao_wege = math.sqrt(variancia_wege)\n",
    "desvio_padrao_mglu = math.sqrt(variancia_mglu)\n",
    "desvio_padrao_tots = math.sqrt(variancia_tots)\n",
    "desvio_padrao_bova = math.sqrt(variancia_bova)"
   ]
  },
  {
   "cell_type": "markdown",
   "metadata": {},
   "source": [
    "Considerando os valores:"
   ]
  },
  {
   "cell_type": "code",
   "execution_count": 9,
   "metadata": {},
   "outputs": [
    {
     "data": {
      "text/plain": [
       "1.9317808391496714"
      ]
     },
     "execution_count": 9,
     "metadata": {},
     "output_type": "execute_result"
    }
   ],
   "source": [
    "dataset['CVC'].tail(30).std()"
   ]
  },
  {
   "cell_type": "markdown",
   "metadata": {},
   "source": [
    "## Coeficiente de variação"
   ]
  },
  {
   "cell_type": "code",
   "execution_count": 10,
   "metadata": {},
   "outputs": [],
   "source": [
    "coef_var_cvc = desvio_padrao_cvc/media_cvc  # ou stats.variation(taxas_gol) * 100\n",
    "coef_var_gol = desvio_padrao_gol/media_gol\n",
    "coef_var_wege = desvio_padrao_wege/media_wege\n",
    "coef_var_mglu = desvio_padrao_mglu/media_mglu\n",
    "coef_var_tots = desvio_padrao_tots/media_tots\n",
    "coef_var_bova = desvio_padrao_bova/media_bova"
   ]
  },
  {
   "cell_type": "markdown",
   "metadata": {},
   "source": [
    "## Risco Médio Anual"
   ]
  },
  {
   "cell_type": "code",
   "execution_count": 11,
   "metadata": {},
   "outputs": [],
   "source": [
    "dataset.drop('Date', axis=1, inplace=True)"
   ]
  },
  {
   "cell_type": "code",
   "execution_count": 14,
   "metadata": {},
   "outputs": [
    {
     "data": {
      "text/plain": [
       "GOL     4.898046\n",
       "CVC     3.596139\n",
       "WEGE    2.215106\n",
       "MGLU    4.122467\n",
       "TOTS    2.435671\n",
       "BOVA    1.657903\n",
       "dtype: float64"
      ]
     },
     "execution_count": 14,
     "metadata": {},
     "output_type": "execute_result"
    }
   ],
   "source": [
    "taxas_retorno = (dataset/dataset.shift(1)) - 1\n",
    "taxas_retorno.std() * 100"
   ]
  },
  {
   "cell_type": "code",
   "execution_count": 18,
   "metadata": {},
   "outputs": [
    {
     "data": {
      "text/plain": [
       "GOL     0.768228\n",
       "CVC     0.564032\n",
       "WEGE    0.347426\n",
       "MGLU    0.646584\n",
       "TOTS    0.382020\n",
       "BOVA    0.260032\n",
       "dtype: float64"
      ]
     },
     "execution_count": 18,
     "metadata": {},
     "output_type": "execute_result"
    }
   ],
   "source": [
    "# média anual\n",
    "taxas_retorno.std() * math.sqrt(246)"
   ]
  },
  {
   "cell_type": "markdown",
   "metadata": {},
   "source": [
    "## Covariância, coeficiente de correlação e determinação"
   ]
  },
  {
   "cell_type": "code",
   "execution_count": 19,
   "metadata": {},
   "outputs": [
    {
     "data": {
      "text/html": [
       "<div>\n",
       "<style scoped>\n",
       "    .dataframe tbody tr th:only-of-type {\n",
       "        vertical-align: middle;\n",
       "    }\n",
       "\n",
       "    .dataframe tbody tr th {\n",
       "        vertical-align: top;\n",
       "    }\n",
       "\n",
       "    .dataframe thead th {\n",
       "        text-align: right;\n",
       "    }\n",
       "</style>\n",
       "<table border=\"1\" class=\"dataframe\">\n",
       "  <thead>\n",
       "    <tr style=\"text-align: right;\">\n",
       "      <th></th>\n",
       "      <th>GOL</th>\n",
       "      <th>CVC</th>\n",
       "      <th>WEGE</th>\n",
       "      <th>MGLU</th>\n",
       "      <th>TOTS</th>\n",
       "      <th>BOVA</th>\n",
       "    </tr>\n",
       "  </thead>\n",
       "  <tbody>\n",
       "    <tr>\n",
       "      <th>GOL</th>\n",
       "      <td>0.002399</td>\n",
       "      <td>0.000921</td>\n",
       "      <td>0.000342</td>\n",
       "      <td>0.000656</td>\n",
       "      <td>0.000378</td>\n",
       "      <td>0.000477</td>\n",
       "    </tr>\n",
       "    <tr>\n",
       "      <th>CVC</th>\n",
       "      <td>0.000921</td>\n",
       "      <td>0.001293</td>\n",
       "      <td>0.000245</td>\n",
       "      <td>0.000494</td>\n",
       "      <td>0.000281</td>\n",
       "      <td>0.000331</td>\n",
       "    </tr>\n",
       "    <tr>\n",
       "      <th>WEGE</th>\n",
       "      <td>0.000342</td>\n",
       "      <td>0.000245</td>\n",
       "      <td>0.000491</td>\n",
       "      <td>0.000280</td>\n",
       "      <td>0.000216</td>\n",
       "      <td>0.000193</td>\n",
       "    </tr>\n",
       "    <tr>\n",
       "      <th>MGLU</th>\n",
       "      <td>0.000656</td>\n",
       "      <td>0.000494</td>\n",
       "      <td>0.000280</td>\n",
       "      <td>0.001699</td>\n",
       "      <td>0.000310</td>\n",
       "      <td>0.000311</td>\n",
       "    </tr>\n",
       "    <tr>\n",
       "      <th>TOTS</th>\n",
       "      <td>0.000378</td>\n",
       "      <td>0.000281</td>\n",
       "      <td>0.000216</td>\n",
       "      <td>0.000310</td>\n",
       "      <td>0.000593</td>\n",
       "      <td>0.000194</td>\n",
       "    </tr>\n",
       "    <tr>\n",
       "      <th>BOVA</th>\n",
       "      <td>0.000477</td>\n",
       "      <td>0.000331</td>\n",
       "      <td>0.000193</td>\n",
       "      <td>0.000311</td>\n",
       "      <td>0.000194</td>\n",
       "      <td>0.000275</td>\n",
       "    </tr>\n",
       "  </tbody>\n",
       "</table>\n",
       "</div>"
      ],
      "text/plain": [
       "           GOL       CVC      WEGE      MGLU      TOTS      BOVA\n",
       "GOL   0.002399  0.000921  0.000342  0.000656  0.000378  0.000477\n",
       "CVC   0.000921  0.001293  0.000245  0.000494  0.000281  0.000331\n",
       "WEGE  0.000342  0.000245  0.000491  0.000280  0.000216  0.000193\n",
       "MGLU  0.000656  0.000494  0.000280  0.001699  0.000310  0.000311\n",
       "TOTS  0.000378  0.000281  0.000216  0.000310  0.000593  0.000194\n",
       "BOVA  0.000477  0.000331  0.000193  0.000311  0.000194  0.000275"
      ]
     },
     "execution_count": 19,
     "metadata": {},
     "output_type": "execute_result"
    }
   ],
   "source": [
    "taxas_retorno.cov()"
   ]
  },
  {
   "cell_type": "code",
   "execution_count": 22,
   "metadata": {},
   "outputs": [
    {
     "data": {
      "text/html": [
       "<div>\n",
       "<style scoped>\n",
       "    .dataframe tbody tr th:only-of-type {\n",
       "        vertical-align: middle;\n",
       "    }\n",
       "\n",
       "    .dataframe tbody tr th {\n",
       "        vertical-align: top;\n",
       "    }\n",
       "\n",
       "    .dataframe thead th {\n",
       "        text-align: right;\n",
       "    }\n",
       "</style>\n",
       "<table border=\"1\" class=\"dataframe\">\n",
       "  <thead>\n",
       "    <tr style=\"text-align: right;\">\n",
       "      <th></th>\n",
       "      <th>GOL</th>\n",
       "      <th>CVC</th>\n",
       "      <th>WEGE</th>\n",
       "      <th>MGLU</th>\n",
       "      <th>TOTS</th>\n",
       "      <th>BOVA</th>\n",
       "    </tr>\n",
       "  </thead>\n",
       "  <tbody>\n",
       "    <tr>\n",
       "      <th>GOL</th>\n",
       "      <td>1.000000</td>\n",
       "      <td>0.522761</td>\n",
       "      <td>0.315571</td>\n",
       "      <td>0.325065</td>\n",
       "      <td>0.316826</td>\n",
       "      <td>0.587627</td>\n",
       "    </tr>\n",
       "    <tr>\n",
       "      <th>CVC</th>\n",
       "      <td>0.522761</td>\n",
       "      <td>1.000000</td>\n",
       "      <td>0.307990</td>\n",
       "      <td>0.333465</td>\n",
       "      <td>0.321078</td>\n",
       "      <td>0.555286</td>\n",
       "    </tr>\n",
       "    <tr>\n",
       "      <th>WEGE</th>\n",
       "      <td>0.315571</td>\n",
       "      <td>0.307990</td>\n",
       "      <td>1.000000</td>\n",
       "      <td>0.306633</td>\n",
       "      <td>0.399476</td>\n",
       "      <td>0.524220</td>\n",
       "    </tr>\n",
       "    <tr>\n",
       "      <th>MGLU</th>\n",
       "      <td>0.325065</td>\n",
       "      <td>0.333465</td>\n",
       "      <td>0.306633</td>\n",
       "      <td>1.000000</td>\n",
       "      <td>0.308605</td>\n",
       "      <td>0.455743</td>\n",
       "    </tr>\n",
       "    <tr>\n",
       "      <th>TOTS</th>\n",
       "      <td>0.316826</td>\n",
       "      <td>0.321078</td>\n",
       "      <td>0.399476</td>\n",
       "      <td>0.308605</td>\n",
       "      <td>1.000000</td>\n",
       "      <td>0.480331</td>\n",
       "    </tr>\n",
       "    <tr>\n",
       "      <th>BOVA</th>\n",
       "      <td>0.587627</td>\n",
       "      <td>0.555286</td>\n",
       "      <td>0.524220</td>\n",
       "      <td>0.455743</td>\n",
       "      <td>0.480331</td>\n",
       "      <td>1.000000</td>\n",
       "    </tr>\n",
       "  </tbody>\n",
       "</table>\n",
       "</div>"
      ],
      "text/plain": [
       "           GOL       CVC      WEGE      MGLU      TOTS      BOVA\n",
       "GOL   1.000000  0.522761  0.315571  0.325065  0.316826  0.587627\n",
       "CVC   0.522761  1.000000  0.307990  0.333465  0.321078  0.555286\n",
       "WEGE  0.315571  0.307990  1.000000  0.306633  0.399476  0.524220\n",
       "MGLU  0.325065  0.333465  0.306633  1.000000  0.308605  0.455743\n",
       "TOTS  0.316826  0.321078  0.399476  0.308605  1.000000  0.480331\n",
       "BOVA  0.587627  0.555286  0.524220  0.455743  0.480331  1.000000"
      ]
     },
     "execution_count": 22,
     "metadata": {},
     "output_type": "execute_result"
    }
   ],
   "source": [
    "taxas_retorno.corr()"
   ]
  },
  {
   "cell_type": "code",
   "execution_count": 21,
   "metadata": {},
   "outputs": [
    {
     "data": {
      "image/png": "[encoded data removed]",
      "text/plain": [
       "<Figure size 432x288 with 2 Axes>"
      ]
     },
     "metadata": {},
     "output_type": "display_data"
    }
   ],
   "source": [
    "srn.heatmap(taxas_retorno.corr());"
   ]
  },
  {
   "cell_type": "markdown",
   "metadata": {},
   "source": [
    "## Risco de um portfólio"
   ]
  },
  {
   "cell_type": "code",
   "execution_count": null,
   "metadata": {},
   "outputs": [],
   "source": []
  }
 ],
 "metadata": {
  "kernelspec": {
   "display_name": "Python 3",
   "language": "python",
   "name": "python3"
  },
  "language_info": {
   "codemirror_mode": {
    "name": "ipython",
    "version": 3
   },
   "file_extension": ".py",
   "mimetype": "text/x-python",
   "name": "python",
   "nbconvert_exporter": "python",
   "pygments_lexer": "ipython3",
   "version": "3.8.5"
  }
 },
 "nbformat": 4,
 "nbformat_minor": 4
}
