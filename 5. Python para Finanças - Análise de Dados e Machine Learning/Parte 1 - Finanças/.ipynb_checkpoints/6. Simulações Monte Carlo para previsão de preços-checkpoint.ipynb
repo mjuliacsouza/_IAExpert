{
 "cells": [
  {
   "cell_type": "markdown",
   "metadata": {},
   "source": [
    "# Simulações Monte Carlo para previsão de preços"
   ]
  },
  {
   "cell_type": "code",
   "execution_count": 1,
   "metadata": {},
   "outputs": [],
   "source": [
    "import pandas as pd\n",
    "import numpy as np\n",
    "import seaborn as srn\n",
    "import matplotlib.pyplot as plt\n",
    "srn.set()\n",
    "\n",
    "import math\n",
    "import statistics\n",
    "from scipy import stats"
   ]
  },
  {
   "cell_type": "markdown",
   "metadata": {},
   "source": [
    "**Monte Carlo**\n",
    "\n",
    "- Uso de dados do passado para criar simulações de vários cenários futuros (média, variância e desvio padrão)\n",
    "- Entender o impacto do risco e incerteza para ajudar na tomada de decisão\n",
    "- São utilizados números randômicos"
   ]
  },
  {
   "cell_type": "markdown",
   "metadata": {},
   "source": [
    "Preço de hoje = preço de ontem $* e^r$\n"
   ]
  },
  {
   "cell_type": "markdown",
   "metadata": {},
   "source": [
    "- Usamos o movimento browniano para modelar $r$\n",
    "    - *Drift*: direção que as taxas de retorno tiveram no passado\n",
    "    - *Volatilidade*: variável aleatória\n",
    "    - *Retorno diário r*\n",
    "    - *$S_t$*: preço de hoje\n",
    "    - *$S_{t-1}$*: preço de ontem\n",
    "    \n",
    "$$\n",
    "Drift = \\mu - \\frac{1}{2}\\sigma^2\n",
    "$$\n",
    "$$\n",
    "Volatility = \\sigma Z [Rand(0;1)]\n",
    "$$\n",
    "$$\n",
    "r = (\\mu-\\frac{1}{2}\\sigma^2) + \\sigma Z [Rand(0;1)]\n",
    "$$\n",
    "$$\n",
    "S_t = S_{t-1} * e^{(\\mu - \\frac{1}{2}\\sigma^2)+\\sigma Z [Rand(0;1)]}\n",
    "$$"
   ]
  },
  {
   "cell_type": "markdown",
   "metadata": {},
   "source": [
    "## Drift"
   ]
  },
  {
   "cell_type": "markdown",
   "metadata": {},
   "source": [
    "## Retornos diários"
   ]
  },
  {
   "cell_type": "markdown",
   "metadata": {},
   "source": [
    "## Previsoes de preços futuros"
   ]
  }
 ],
 "metadata": {
  "kernelspec": {
   "display_name": "Python 3",
   "language": "python",
   "name": "python3"
  },
  "language_info": {
   "codemirror_mode": {
    "name": "ipython",
    "version": 3
   },
   "file_extension": ".py",
   "mimetype": "text/x-python",
   "name": "python",
   "nbconvert_exporter": "python",
   "pygments_lexer": "ipython3",
   "version": "3.8.5"
  }
 },
 "nbformat": 4,
 "nbformat_minor": 4
}
