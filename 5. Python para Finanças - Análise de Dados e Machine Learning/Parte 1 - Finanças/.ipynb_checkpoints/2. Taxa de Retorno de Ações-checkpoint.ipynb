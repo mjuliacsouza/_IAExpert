{
 "cells": [
  {
   "cell_type": "markdown",
   "metadata": {},
   "source": [
    "# Taxa de Retorno de Ações"
   ]
  },
  {
   "cell_type": "code",
   "execution_count": 1,
   "metadata": {},
   "outputs": [],
   "source": [
    "import pandas as pd\n",
    "import numpy as np\n",
    "import matplotlib.pyplot as plt\n",
    "import seaborn  as srn\n",
    "srn.set()\n",
    "import plotly.express as px"
   ]
  },
  {
   "cell_type": "markdown",
   "metadata": {},
   "source": [
    "## Taxa de retorno simples\n",
    "\n",
    "- > RS = ((preço final - preço inicial) / preço inicial) * 100\n",
    "- > RS = ((preço final - preço inicial + dividendos) / preço inicial) * 100\n",
    "- > LUCRO = ((valor final * numero de ações) + (dividendos * numero de ações)) - (valor inicial * numero de ações) - taxa de compra - taxa de venda\n",
    "- > Preço final de venda = ((preço final + dividendo) * numero de ações) - taxa de venda\n",
    "- > Preço inicial de venda = (preço inicial * numero de ações) + taxa de compra\n",
    "- > RS = ((preco final de venda - preço inicial de venda)/preço inicial de venda) * 100"
   ]
  },
  {
   "cell_type": "code",
   "execution_count": 2,
   "metadata": {},
   "outputs": [
    {
     "name": "stdout",
     "output_type": "stream",
     "text": [
      "(1798, 7)\n"
     ]
    },
    {
     "data": {
      "text/html": [
       "<div>\n",
       "<style scoped>\n",
       "    .dataframe tbody tr th:only-of-type {\n",
       "        vertical-align: middle;\n",
       "    }\n",
       "\n",
       "    .dataframe tbody tr th {\n",
       "        vertical-align: top;\n",
       "    }\n",
       "\n",
       "    .dataframe thead th {\n",
       "        text-align: right;\n",
       "    }\n",
       "</style>\n",
       "<table border=\"1\" class=\"dataframe\">\n",
       "  <thead>\n",
       "    <tr style=\"text-align: right;\">\n",
       "      <th></th>\n",
       "      <th>Date</th>\n",
       "      <th>GOL</th>\n",
       "      <th>CVC</th>\n",
       "      <th>WEGE</th>\n",
       "      <th>MGLU</th>\n",
       "      <th>TOTS</th>\n",
       "      <th>BOVA</th>\n",
       "    </tr>\n",
       "  </thead>\n",
       "  <tbody>\n",
       "    <tr>\n",
       "      <th>0</th>\n",
       "      <td>2015-01-02</td>\n",
       "      <td>14.99</td>\n",
       "      <td>15.20</td>\n",
       "      <td>5.923076</td>\n",
       "      <td>0.232812</td>\n",
       "      <td>11.910702</td>\n",
       "      <td>47.259998</td>\n",
       "    </tr>\n",
       "    <tr>\n",
       "      <th>1</th>\n",
       "      <td>2015-01-05</td>\n",
       "      <td>14.85</td>\n",
       "      <td>15.00</td>\n",
       "      <td>5.963461</td>\n",
       "      <td>0.237187</td>\n",
       "      <td>11.544731</td>\n",
       "      <td>46.320000</td>\n",
       "    </tr>\n",
       "    <tr>\n",
       "      <th>2</th>\n",
       "      <td>2015-01-06</td>\n",
       "      <td>15.21</td>\n",
       "      <td>14.80</td>\n",
       "      <td>5.875000</td>\n",
       "      <td>0.234062</td>\n",
       "      <td>10.822770</td>\n",
       "      <td>46.580002</td>\n",
       "    </tr>\n",
       "    <tr>\n",
       "      <th>3</th>\n",
       "      <td>2015-01-07</td>\n",
       "      <td>14.55</td>\n",
       "      <td>14.67</td>\n",
       "      <td>5.807692</td>\n",
       "      <td>0.241875</td>\n",
       "      <td>10.746248</td>\n",
       "      <td>48.150002</td>\n",
       "    </tr>\n",
       "    <tr>\n",
       "      <th>4</th>\n",
       "      <td>2015-01-08</td>\n",
       "      <td>14.27</td>\n",
       "      <td>14.15</td>\n",
       "      <td>5.905769</td>\n",
       "      <td>0.240000</td>\n",
       "      <td>10.995774</td>\n",
       "      <td>48.509998</td>\n",
       "    </tr>\n",
       "  </tbody>\n",
       "</table>\n",
       "</div>"
      ],
      "text/plain": [
       "         Date    GOL    CVC      WEGE      MGLU       TOTS       BOVA\n",
       "0  2015-01-02  14.99  15.20  5.923076  0.232812  11.910702  47.259998\n",
       "1  2015-01-05  14.85  15.00  5.963461  0.237187  11.544731  46.320000\n",
       "2  2015-01-06  15.21  14.80  5.875000  0.234062  10.822770  46.580002\n",
       "3  2015-01-07  14.55  14.67  5.807692  0.241875  10.746248  48.150002\n",
       "4  2015-01-08  14.27  14.15  5.905769  0.240000  10.995774  48.509998"
      ]
     },
     "execution_count": 2,
     "metadata": {},
     "output_type": "execute_result"
    }
   ],
   "source": [
    "dataset = pd.read_csv('acoes.csv')\n",
    "print(dataset.shape)\n",
    "dataset.head()"
   ]
  },
  {
   "cell_type": "code",
   "execution_count": 3,
   "metadata": {},
   "outputs": [
    {
     "data": {
      "text/plain": [
       "(14.989999771118164, 17.479999542236328)"
      ]
     },
     "execution_count": 3,
     "metadata": {},
     "output_type": "execute_result"
    }
   ],
   "source": [
    "preco_inicial = dataset['GOL'][0]\n",
    "preco_final = dataset['GOL'][len(dataset)-1]\n",
    "preco_inicial, preco_final"
   ]
  },
  {
   "cell_type": "code",
   "execution_count": 4,
   "metadata": {},
   "outputs": [
    {
     "data": {
      "text/plain": [
       "16.611072776103352"
      ]
     },
     "execution_count": 4,
     "metadata": {},
     "output_type": "execute_result"
    }
   ],
   "source": [
    "taxa_retorno_simples = lambda preco_inicial, preco_final: ((preco_final - preco_inicial)/preco_inicial)*100\n",
    "taxa_retorno_simples(preco_inicial, preco_final)"
   ]
  },
  {
   "cell_type": "code",
   "execution_count": 5,
   "metadata": {},
   "outputs": [
    {
     "data": {
      "text/html": [
       "<div>\n",
       "<style scoped>\n",
       "    .dataframe tbody tr th:only-of-type {\n",
       "        vertical-align: middle;\n",
       "    }\n",
       "\n",
       "    .dataframe tbody tr th {\n",
       "        vertical-align: top;\n",
       "    }\n",
       "\n",
       "    .dataframe thead th {\n",
       "        text-align: right;\n",
       "    }\n",
       "</style>\n",
       "<table border=\"1\" class=\"dataframe\">\n",
       "  <thead>\n",
       "    <tr style=\"text-align: right;\">\n",
       "      <th></th>\n",
       "      <th>taxa_retorno_simples</th>\n",
       "    </tr>\n",
       "  </thead>\n",
       "  <tbody>\n",
       "    <tr>\n",
       "      <th>GOL</th>\n",
       "      <td>16.611073</td>\n",
       "    </tr>\n",
       "    <tr>\n",
       "      <th>CVC</th>\n",
       "      <td>9.473682</td>\n",
       "    </tr>\n",
       "    <tr>\n",
       "      <th>WEGE</th>\n",
       "      <td>473.181906</td>\n",
       "    </tr>\n",
       "    <tr>\n",
       "      <th>MGLU</th>\n",
       "      <td>2906.717837</td>\n",
       "    </tr>\n",
       "    <tr>\n",
       "      <th>TOTS</th>\n",
       "      <td>203.592522</td>\n",
       "    </tr>\n",
       "    <tr>\n",
       "      <th>BOVA</th>\n",
       "      <td>144.921718</td>\n",
       "    </tr>\n",
       "  </tbody>\n",
       "</table>\n",
       "</div>"
      ],
      "text/plain": [
       "      taxa_retorno_simples\n",
       "GOL              16.611073\n",
       "CVC               9.473682\n",
       "WEGE            473.181906\n",
       "MGLU           2906.717837\n",
       "TOTS            203.592522\n",
       "BOVA            144.921718"
      ]
     },
     "execution_count": 5,
     "metadata": {},
     "output_type": "execute_result"
    }
   ],
   "source": [
    "# para nossa carteira de ações\n",
    "\n",
    "taxa_retorno_simples = lambda preco_inicial, preco_final: ((preco_final - preco_inicial)/preco_inicial)*100\n",
    "df_taxa_retorno = pd.DataFrame()\n",
    "\n",
    "for coluna in dataset.columns[1:]:\n",
    "    preco_inicial = dataset[coluna][0]\n",
    "    preco_final = dataset[coluna][len(dataset)-1]\n",
    "    df_taxa_retorno.loc[coluna,'taxa_retorno_simples'] = taxa_retorno_simples(preco_inicial, preco_final)\n",
    "df_taxa_retorno"
   ]
  },
  {
   "cell_type": "code",
   "execution_count": 6,
   "metadata": {},
   "outputs": [
    {
     "data": {
      "text/plain": [
       "144.92171838961005"
      ]
     },
     "execution_count": 6,
     "metadata": {},
     "output_type": "execute_result"
    }
   ],
   "source": [
    "# outra formula:\n",
    "((preco_final/preco_inicial) - 1)*100"
   ]
  },
  {
   "cell_type": "markdown",
   "metadata": {},
   "source": [
    "## Taxa de retorno diária"
   ]
  },
  {
   "cell_type": "code",
   "execution_count": 7,
   "metadata": {},
   "outputs": [
    {
     "data": {
      "text/html": [
       "<div>\n",
       "<style scoped>\n",
       "    .dataframe tbody tr th:only-of-type {\n",
       "        vertical-align: middle;\n",
       "    }\n",
       "\n",
       "    .dataframe tbody tr th {\n",
       "        vertical-align: top;\n",
       "    }\n",
       "\n",
       "    .dataframe thead th {\n",
       "        text-align: right;\n",
       "    }\n",
       "</style>\n",
       "<table border=\"1\" class=\"dataframe\">\n",
       "  <thead>\n",
       "    <tr style=\"text-align: right;\">\n",
       "      <th></th>\n",
       "      <th>Date</th>\n",
       "      <th>GOL</th>\n",
       "      <th>CVC</th>\n",
       "      <th>WEGE</th>\n",
       "      <th>MGLU</th>\n",
       "      <th>TOTS</th>\n",
       "      <th>BOVA</th>\n",
       "      <th>RS_GOL</th>\n",
       "      <th>RS_CVC</th>\n",
       "      <th>RS_WEGE</th>\n",
       "      <th>RS_MGLU</th>\n",
       "      <th>RS_TOTS</th>\n",
       "      <th>RS_BOVA</th>\n",
       "    </tr>\n",
       "  </thead>\n",
       "  <tbody>\n",
       "    <tr>\n",
       "      <th>0</th>\n",
       "      <td>2015-01-02</td>\n",
       "      <td>14.990000</td>\n",
       "      <td>15.200000</td>\n",
       "      <td>5.923076</td>\n",
       "      <td>0.232812</td>\n",
       "      <td>11.910702</td>\n",
       "      <td>47.259998</td>\n",
       "      <td>NaN</td>\n",
       "      <td>NaN</td>\n",
       "      <td>NaN</td>\n",
       "      <td>NaN</td>\n",
       "      <td>NaN</td>\n",
       "      <td>NaN</td>\n",
       "    </tr>\n",
       "    <tr>\n",
       "      <th>1</th>\n",
       "      <td>2015-01-05</td>\n",
       "      <td>14.850000</td>\n",
       "      <td>15.000000</td>\n",
       "      <td>5.963461</td>\n",
       "      <td>0.237187</td>\n",
       "      <td>11.544731</td>\n",
       "      <td>46.320000</td>\n",
       "      <td>-0.009340</td>\n",
       "      <td>-0.013158</td>\n",
       "      <td>0.006818</td>\n",
       "      <td>0.018792</td>\n",
       "      <td>-0.030726</td>\n",
       "      <td>-0.019890</td>\n",
       "    </tr>\n",
       "    <tr>\n",
       "      <th>2</th>\n",
       "      <td>2015-01-06</td>\n",
       "      <td>15.210000</td>\n",
       "      <td>14.800000</td>\n",
       "      <td>5.875000</td>\n",
       "      <td>0.234062</td>\n",
       "      <td>10.822770</td>\n",
       "      <td>46.580002</td>\n",
       "      <td>0.024242</td>\n",
       "      <td>-0.013333</td>\n",
       "      <td>-0.014834</td>\n",
       "      <td>-0.013175</td>\n",
       "      <td>-0.062536</td>\n",
       "      <td>0.005613</td>\n",
       "    </tr>\n",
       "    <tr>\n",
       "      <th>3</th>\n",
       "      <td>2015-01-07</td>\n",
       "      <td>14.550000</td>\n",
       "      <td>14.670000</td>\n",
       "      <td>5.807692</td>\n",
       "      <td>0.241875</td>\n",
       "      <td>10.746248</td>\n",
       "      <td>48.150002</td>\n",
       "      <td>-0.043392</td>\n",
       "      <td>-0.008784</td>\n",
       "      <td>-0.011457</td>\n",
       "      <td>0.033380</td>\n",
       "      <td>-0.007070</td>\n",
       "      <td>0.033705</td>\n",
       "    </tr>\n",
       "    <tr>\n",
       "      <th>4</th>\n",
       "      <td>2015-01-08</td>\n",
       "      <td>14.270000</td>\n",
       "      <td>14.150000</td>\n",
       "      <td>5.905769</td>\n",
       "      <td>0.240000</td>\n",
       "      <td>10.995774</td>\n",
       "      <td>48.509998</td>\n",
       "      <td>-0.019244</td>\n",
       "      <td>-0.035447</td>\n",
       "      <td>0.016887</td>\n",
       "      <td>-0.007752</td>\n",
       "      <td>0.023220</td>\n",
       "      <td>0.007477</td>\n",
       "    </tr>\n",
       "    <tr>\n",
       "      <th>...</th>\n",
       "      <td>...</td>\n",
       "      <td>...</td>\n",
       "      <td>...</td>\n",
       "      <td>...</td>\n",
       "      <td>...</td>\n",
       "      <td>...</td>\n",
       "      <td>...</td>\n",
       "      <td>...</td>\n",
       "      <td>...</td>\n",
       "      <td>...</td>\n",
       "      <td>...</td>\n",
       "      <td>...</td>\n",
       "      <td>...</td>\n",
       "    </tr>\n",
       "    <tr>\n",
       "      <th>1793</th>\n",
       "      <td>2022-03-23</td>\n",
       "      <td>15.560000</td>\n",
       "      <td>14.560000</td>\n",
       "      <td>32.750000</td>\n",
       "      <td>6.000000</td>\n",
       "      <td>34.599998</td>\n",
       "      <td>112.900002</td>\n",
       "      <td>0.015003</td>\n",
       "      <td>0.045226</td>\n",
       "      <td>-0.007576</td>\n",
       "      <td>0.032702</td>\n",
       "      <td>0.013177</td>\n",
       "      <td>-0.001768</td>\n",
       "    </tr>\n",
       "    <tr>\n",
       "      <th>1794</th>\n",
       "      <td>2022-03-24</td>\n",
       "      <td>16.240000</td>\n",
       "      <td>15.420000</td>\n",
       "      <td>33.130001</td>\n",
       "      <td>6.600000</td>\n",
       "      <td>34.849998</td>\n",
       "      <td>114.739998</td>\n",
       "      <td>0.043702</td>\n",
       "      <td>0.059066</td>\n",
       "      <td>0.011603</td>\n",
       "      <td>0.100000</td>\n",
       "      <td>0.007225</td>\n",
       "      <td>0.016298</td>\n",
       "    </tr>\n",
       "    <tr>\n",
       "      <th>1795</th>\n",
       "      <td>2022-03-25</td>\n",
       "      <td>16.889999</td>\n",
       "      <td>15.990000</td>\n",
       "      <td>32.880001</td>\n",
       "      <td>6.540000</td>\n",
       "      <td>34.380001</td>\n",
       "      <td>114.750000</td>\n",
       "      <td>0.040025</td>\n",
       "      <td>0.036965</td>\n",
       "      <td>-0.007546</td>\n",
       "      <td>-0.009091</td>\n",
       "      <td>-0.013486</td>\n",
       "      <td>0.000087</td>\n",
       "    </tr>\n",
       "    <tr>\n",
       "      <th>1796</th>\n",
       "      <td>2022-03-28</td>\n",
       "      <td>17.049999</td>\n",
       "      <td>16.040001</td>\n",
       "      <td>33.599998</td>\n",
       "      <td>6.470000</td>\n",
       "      <td>34.730000</td>\n",
       "      <td>114.510002</td>\n",
       "      <td>0.009473</td>\n",
       "      <td>0.003127</td>\n",
       "      <td>0.021898</td>\n",
       "      <td>-0.010703</td>\n",
       "      <td>0.010180</td>\n",
       "      <td>-0.002091</td>\n",
       "    </tr>\n",
       "    <tr>\n",
       "      <th>1797</th>\n",
       "      <td>2022-03-29</td>\n",
       "      <td>17.480000</td>\n",
       "      <td>16.639999</td>\n",
       "      <td>33.950001</td>\n",
       "      <td>7.000000</td>\n",
       "      <td>36.160000</td>\n",
       "      <td>115.750000</td>\n",
       "      <td>0.025220</td>\n",
       "      <td>0.037406</td>\n",
       "      <td>0.010417</td>\n",
       "      <td>0.081917</td>\n",
       "      <td>0.041175</td>\n",
       "      <td>0.010829</td>\n",
       "    </tr>\n",
       "  </tbody>\n",
       "</table>\n",
       "<p>1798 rows × 13 columns</p>\n",
       "</div>"
      ],
      "text/plain": [
       "            Date        GOL        CVC       WEGE      MGLU       TOTS  \\\n",
       "0     2015-01-02  14.990000  15.200000   5.923076  0.232812  11.910702   \n",
       "1     2015-01-05  14.850000  15.000000   5.963461  0.237187  11.544731   \n",
       "2     2015-01-06  15.210000  14.800000   5.875000  0.234062  10.822770   \n",
       "3     2015-01-07  14.550000  14.670000   5.807692  0.241875  10.746248   \n",
       "4     2015-01-08  14.270000  14.150000   5.905769  0.240000  10.995774   \n",
       "...          ...        ...        ...        ...       ...        ...   \n",
       "1793  2022-03-23  15.560000  14.560000  32.750000  6.000000  34.599998   \n",
       "1794  2022-03-24  16.240000  15.420000  33.130001  6.600000  34.849998   \n",
       "1795  2022-03-25  16.889999  15.990000  32.880001  6.540000  34.380001   \n",
       "1796  2022-03-28  17.049999  16.040001  33.599998  6.470000  34.730000   \n",
       "1797  2022-03-29  17.480000  16.639999  33.950001  7.000000  36.160000   \n",
       "\n",
       "            BOVA    RS_GOL    RS_CVC   RS_WEGE   RS_MGLU   RS_TOTS   RS_BOVA  \n",
       "0      47.259998       NaN       NaN       NaN       NaN       NaN       NaN  \n",
       "1      46.320000 -0.009340 -0.013158  0.006818  0.018792 -0.030726 -0.019890  \n",
       "2      46.580002  0.024242 -0.013333 -0.014834 -0.013175 -0.062536  0.005613  \n",
       "3      48.150002 -0.043392 -0.008784 -0.011457  0.033380 -0.007070  0.033705  \n",
       "4      48.509998 -0.019244 -0.035447  0.016887 -0.007752  0.023220  0.007477  \n",
       "...          ...       ...       ...       ...       ...       ...       ...  \n",
       "1793  112.900002  0.015003  0.045226 -0.007576  0.032702  0.013177 -0.001768  \n",
       "1794  114.739998  0.043702  0.059066  0.011603  0.100000  0.007225  0.016298  \n",
       "1795  114.750000  0.040025  0.036965 -0.007546 -0.009091 -0.013486  0.000087  \n",
       "1796  114.510002  0.009473  0.003127  0.021898 -0.010703  0.010180 -0.002091  \n",
       "1797  115.750000  0.025220  0.037406  0.010417  0.081917  0.041175  0.010829  \n",
       "\n",
       "[1798 rows x 13 columns]"
      ]
     },
     "execution_count": 7,
     "metadata": {},
     "output_type": "execute_result"
    }
   ],
   "source": [
    "# taxa de retorno simples diária\n",
    "colunas = dataset.columns[1:]\n",
    "for coluna in colunas:\n",
    "    dataset[f'RS_{coluna}'] = (dataset[coluna]/dataset[coluna].shift(1))-1\n",
    "dataset"
   ]
  },
  {
   "cell_type": "code",
   "execution_count": 8,
   "metadata": {},
   "outputs": [
    {
     "name": "stdout",
     "output_type": "stream",
     "text": [
      "Média: 0.0012593553241437557\n"
     ]
    },
    {
     "data": {
      "image/png": "[encoded data removed]",
      "text/plain": [
       "<Figure size 432x288 with 1 Axes>"
      ]
     },
     "metadata": {},
     "output_type": "display_data"
    }
   ],
   "source": [
    "print(f\"Média: {dataset['RS_GOL'].mean()}\")\n",
    "dataset['RS_GOL'].plot();"
   ]
  },
  {
   "cell_type": "markdown",
   "metadata": {},
   "source": [
    "## Taxa de retorno anual"
   ]
  },
  {
   "cell_type": "code",
   "execution_count": 9,
   "metadata": {},
   "outputs": [
    {
     "data": {
      "text/html": [
       "<div>\n",
       "<style scoped>\n",
       "    .dataframe tbody tr th:only-of-type {\n",
       "        vertical-align: middle;\n",
       "    }\n",
       "\n",
       "    .dataframe tbody tr th {\n",
       "        vertical-align: top;\n",
       "    }\n",
       "\n",
       "    .dataframe thead th {\n",
       "        text-align: right;\n",
       "    }\n",
       "</style>\n",
       "<table border=\"1\" class=\"dataframe\">\n",
       "  <thead>\n",
       "    <tr style=\"text-align: right;\">\n",
       "      <th></th>\n",
       "      <th>taxa_retorno_simples</th>\n",
       "      <th>taxa_retorno_anual</th>\n",
       "    </tr>\n",
       "  </thead>\n",
       "  <tbody>\n",
       "    <tr>\n",
       "      <th>GOL</th>\n",
       "      <td>16.611073</td>\n",
       "      <td>30.980141</td>\n",
       "    </tr>\n",
       "    <tr>\n",
       "      <th>CVC</th>\n",
       "      <td>9.473682</td>\n",
       "      <td>17.498258</td>\n",
       "    </tr>\n",
       "    <tr>\n",
       "      <th>WEGE</th>\n",
       "      <td>473.181906</td>\n",
       "      <td>29.975884</td>\n",
       "    </tr>\n",
       "    <tr>\n",
       "      <th>MGLU</th>\n",
       "      <td>2906.717837</td>\n",
       "      <td>67.061619</td>\n",
       "    </tr>\n",
       "    <tr>\n",
       "      <th>TOTS</th>\n",
       "      <td>203.592522</td>\n",
       "      <td>22.505412</td>\n",
       "    </tr>\n",
       "    <tr>\n",
       "      <th>BOVA</th>\n",
       "      <td>144.921718</td>\n",
       "      <td>15.675888</td>\n",
       "    </tr>\n",
       "  </tbody>\n",
       "</table>\n",
       "</div>"
      ],
      "text/plain": [
       "      taxa_retorno_simples  taxa_retorno_anual\n",
       "GOL              16.611073           30.980141\n",
       "CVC               9.473682           17.498258\n",
       "WEGE            473.181906           29.975884\n",
       "MGLU           2906.717837           67.061619\n",
       "TOTS            203.592522           22.505412\n",
       "BOVA            144.921718           15.675888"
      ]
     },
     "execution_count": 9,
     "metadata": {},
     "output_type": "execute_result"
    }
   ],
   "source": [
    "for coluna in colunas:\n",
    "    df_taxa_retorno.loc[coluna, f'taxa_retorno_anual'] = dataset[f'RS_{coluna}'].mean() * 246 * 100\n",
    "df_taxa_retorno"
   ]
  },
  {
   "cell_type": "markdown",
   "metadata": {},
   "source": [
    "## Taxa de retorno logarítmica"
   ]
  },
  {
   "cell_type": "markdown",
   "metadata": {},
   "source": [
    "- > RL = log ((valor final + dividendos)/valor inicial)*100"
   ]
  },
  {
   "cell_type": "code",
   "execution_count": 10,
   "metadata": {},
   "outputs": [
    {
     "data": {
      "text/html": [
       "<div>\n",
       "<style scoped>\n",
       "    .dataframe tbody tr th:only-of-type {\n",
       "        vertical-align: middle;\n",
       "    }\n",
       "\n",
       "    .dataframe tbody tr th {\n",
       "        vertical-align: top;\n",
       "    }\n",
       "\n",
       "    .dataframe thead th {\n",
       "        text-align: right;\n",
       "    }\n",
       "</style>\n",
       "<table border=\"1\" class=\"dataframe\">\n",
       "  <thead>\n",
       "    <tr style=\"text-align: right;\">\n",
       "      <th></th>\n",
       "      <th>taxa_retorno_simples</th>\n",
       "      <th>taxa_retorno_anual</th>\n",
       "      <th>taxa_retorno_log</th>\n",
       "    </tr>\n",
       "  </thead>\n",
       "  <tbody>\n",
       "    <tr>\n",
       "      <th>GOL</th>\n",
       "      <td>16.611073</td>\n",
       "      <td>30.980141</td>\n",
       "      <td>15.367405</td>\n",
       "    </tr>\n",
       "    <tr>\n",
       "      <th>CVC</th>\n",
       "      <td>9.473682</td>\n",
       "      <td>17.498258</td>\n",
       "      <td>9.051398</td>\n",
       "    </tr>\n",
       "    <tr>\n",
       "      <th>WEGE</th>\n",
       "      <td>473.181906</td>\n",
       "      <td>29.975884</td>\n",
       "      <td>174.603294</td>\n",
       "    </tr>\n",
       "    <tr>\n",
       "      <th>MGLU</th>\n",
       "      <td>2906.717837</td>\n",
       "      <td>67.061619</td>\n",
       "      <td>340.343416</td>\n",
       "    </tr>\n",
       "    <tr>\n",
       "      <th>TOTS</th>\n",
       "      <td>203.592522</td>\n",
       "      <td>22.505412</td>\n",
       "      <td>111.051623</td>\n",
       "    </tr>\n",
       "    <tr>\n",
       "      <th>BOVA</th>\n",
       "      <td>144.921718</td>\n",
       "      <td>15.675888</td>\n",
       "      <td>89.576846</td>\n",
       "    </tr>\n",
       "  </tbody>\n",
       "</table>\n",
       "</div>"
      ],
      "text/plain": [
       "      taxa_retorno_simples  taxa_retorno_anual  taxa_retorno_log\n",
       "GOL              16.611073           30.980141         15.367405\n",
       "CVC               9.473682           17.498258          9.051398\n",
       "WEGE            473.181906           29.975884        174.603294\n",
       "MGLU           2906.717837           67.061619        340.343416\n",
       "TOTS            203.592522           22.505412        111.051623\n",
       "BOVA            144.921718           15.675888         89.576846"
      ]
     },
     "execution_count": 10,
     "metadata": {},
     "output_type": "execute_result"
    }
   ],
   "source": [
    "taxa_retorno_log = lambda valor_inicial, valor_final: np.log(valor_final/valor_inicial)*100\n",
    "for coluna in colunas:\n",
    "    valor_inicial = dataset[coluna][0]\n",
    "    valor_final = dataset[coluna][len(dataset)-1]\n",
    "    df_taxa_retorno.loc[coluna, 'taxa_retorno_log'] = taxa_retorno_log(valor_inicial, valor_final)\n",
    "df_taxa_retorno"
   ]
  },
  {
   "cell_type": "markdown",
   "metadata": {},
   "source": [
    "## Retorno da carteira de ações"
   ]
  },
  {
   "cell_type": "code",
   "execution_count": 11,
   "metadata": {},
   "outputs": [
    {
     "data": {
      "text/html": [
       "<div>\n",
       "<style scoped>\n",
       "    .dataframe tbody tr th:only-of-type {\n",
       "        vertical-align: middle;\n",
       "    }\n",
       "\n",
       "    .dataframe tbody tr th {\n",
       "        vertical-align: top;\n",
       "    }\n",
       "\n",
       "    .dataframe thead th {\n",
       "        text-align: right;\n",
       "    }\n",
       "</style>\n",
       "<table border=\"1\" class=\"dataframe\">\n",
       "  <thead>\n",
       "    <tr style=\"text-align: right;\">\n",
       "      <th></th>\n",
       "      <th>Date</th>\n",
       "      <th>GOL</th>\n",
       "      <th>CVC</th>\n",
       "      <th>WEGE</th>\n",
       "      <th>MGLU</th>\n",
       "      <th>TOTS</th>\n",
       "      <th>BOVA</th>\n",
       "    </tr>\n",
       "  </thead>\n",
       "  <tbody>\n",
       "    <tr>\n",
       "      <th>0</th>\n",
       "      <td>2015-01-02</td>\n",
       "      <td>1.000000</td>\n",
       "      <td>1.000000</td>\n",
       "      <td>1.000000</td>\n",
       "      <td>1.000000</td>\n",
       "      <td>1.000000</td>\n",
       "      <td>1.000000</td>\n",
       "    </tr>\n",
       "    <tr>\n",
       "      <th>1</th>\n",
       "      <td>2015-01-05</td>\n",
       "      <td>0.990660</td>\n",
       "      <td>0.986842</td>\n",
       "      <td>1.006818</td>\n",
       "      <td>1.018792</td>\n",
       "      <td>0.969274</td>\n",
       "      <td>0.980110</td>\n",
       "    </tr>\n",
       "    <tr>\n",
       "      <th>2</th>\n",
       "      <td>2015-01-06</td>\n",
       "      <td>1.014676</td>\n",
       "      <td>0.973684</td>\n",
       "      <td>0.991883</td>\n",
       "      <td>1.005369</td>\n",
       "      <td>0.908659</td>\n",
       "      <td>0.985612</td>\n",
       "    </tr>\n",
       "    <tr>\n",
       "      <th>3</th>\n",
       "      <td>2015-01-07</td>\n",
       "      <td>0.970647</td>\n",
       "      <td>0.965132</td>\n",
       "      <td>0.980520</td>\n",
       "      <td>1.038928</td>\n",
       "      <td>0.902235</td>\n",
       "      <td>1.018832</td>\n",
       "    </tr>\n",
       "    <tr>\n",
       "      <th>4</th>\n",
       "      <td>2015-01-08</td>\n",
       "      <td>0.951968</td>\n",
       "      <td>0.930921</td>\n",
       "      <td>0.997078</td>\n",
       "      <td>1.030875</td>\n",
       "      <td>0.923184</td>\n",
       "      <td>1.026449</td>\n",
       "    </tr>\n",
       "    <tr>\n",
       "      <th>...</th>\n",
       "      <td>...</td>\n",
       "      <td>...</td>\n",
       "      <td>...</td>\n",
       "      <td>...</td>\n",
       "      <td>...</td>\n",
       "      <td>...</td>\n",
       "      <td>...</td>\n",
       "    </tr>\n",
       "    <tr>\n",
       "      <th>1793</th>\n",
       "      <td>2022-03-23</td>\n",
       "      <td>1.038025</td>\n",
       "      <td>0.957895</td>\n",
       "      <td>5.529221</td>\n",
       "      <td>25.771867</td>\n",
       "      <td>2.904950</td>\n",
       "      <td>2.388913</td>\n",
       "    </tr>\n",
       "    <tr>\n",
       "      <th>1794</th>\n",
       "      <td>2022-03-24</td>\n",
       "      <td>1.083389</td>\n",
       "      <td>1.014474</td>\n",
       "      <td>5.593378</td>\n",
       "      <td>28.349053</td>\n",
       "      <td>2.925940</td>\n",
       "      <td>2.427846</td>\n",
       "    </tr>\n",
       "    <tr>\n",
       "      <th>1795</th>\n",
       "      <td>2022-03-25</td>\n",
       "      <td>1.126751</td>\n",
       "      <td>1.051974</td>\n",
       "      <td>5.551170</td>\n",
       "      <td>28.091335</td>\n",
       "      <td>2.886480</td>\n",
       "      <td>2.428058</td>\n",
       "    </tr>\n",
       "    <tr>\n",
       "      <th>1796</th>\n",
       "      <td>2022-03-28</td>\n",
       "      <td>1.137425</td>\n",
       "      <td>1.055263</td>\n",
       "      <td>5.672728</td>\n",
       "      <td>27.790663</td>\n",
       "      <td>2.915865</td>\n",
       "      <td>2.422979</td>\n",
       "    </tr>\n",
       "    <tr>\n",
       "      <th>1797</th>\n",
       "      <td>2022-03-29</td>\n",
       "      <td>1.166111</td>\n",
       "      <td>1.094737</td>\n",
       "      <td>5.731819</td>\n",
       "      <td>30.067178</td>\n",
       "      <td>3.035925</td>\n",
       "      <td>2.449217</td>\n",
       "    </tr>\n",
       "  </tbody>\n",
       "</table>\n",
       "<p>1798 rows × 7 columns</p>\n",
       "</div>"
      ],
      "text/plain": [
       "            Date       GOL       CVC      WEGE       MGLU      TOTS      BOVA\n",
       "0     2015-01-02  1.000000  1.000000  1.000000   1.000000  1.000000  1.000000\n",
       "1     2015-01-05  0.990660  0.986842  1.006818   1.018792  0.969274  0.980110\n",
       "2     2015-01-06  1.014676  0.973684  0.991883   1.005369  0.908659  0.985612\n",
       "3     2015-01-07  0.970647  0.965132  0.980520   1.038928  0.902235  1.018832\n",
       "4     2015-01-08  0.951968  0.930921  0.997078   1.030875  0.923184  1.026449\n",
       "...          ...       ...       ...       ...        ...       ...       ...\n",
       "1793  2022-03-23  1.038025  0.957895  5.529221  25.771867  2.904950  2.388913\n",
       "1794  2022-03-24  1.083389  1.014474  5.593378  28.349053  2.925940  2.427846\n",
       "1795  2022-03-25  1.126751  1.051974  5.551170  28.091335  2.886480  2.428058\n",
       "1796  2022-03-28  1.137425  1.055263  5.672728  27.790663  2.915865  2.422979\n",
       "1797  2022-03-29  1.166111  1.094737  5.731819  30.067178  3.035925  2.449217\n",
       "\n",
       "[1798 rows x 7 columns]"
      ]
     },
     "execution_count": 11,
     "metadata": {},
     "output_type": "execute_result"
    }
   ],
   "source": [
    "dataset = pd.read_csv('acoes.csv')\n",
    "dataset_normalizado = dataset.copy()\n",
    "for i in dataset_normalizado.columns[1:]:\n",
    "    dataset_normalizado[i] = (dataset_normalizado[i]/dataset_normalizado[i][0])\n",
    "dataset_normalizado"
   ]
  },
  {
   "cell_type": "code",
   "execution_count": 12,
   "metadata": {},
   "outputs": [
    {
     "data": {
      "image/png": "[encoded data removed]",
      "text/plain": [
       "<Figure size 1080x504 with 1 Axes>"
      ]
     },
     "metadata": {},
     "output_type": "display_data"
    }
   ],
   "source": [
    "dataset_normalizado.plot(x='Date', figsize=(15, 7));"
   ]
  },
  {
   "cell_type": "code",
   "execution_count": 13,
   "metadata": {},
   "outputs": [],
   "source": [
    "#dataset_normalizado.drop(labels=['Date'], axis=1, inplace=True)"
   ]
  },
  {
   "cell_type": "code",
   "execution_count": 15,
   "metadata": {},
   "outputs": [
    {
     "data": {
      "text/html": [
       "<div>\n",
       "<style scoped>\n",
       "    .dataframe tbody tr th:only-of-type {\n",
       "        vertical-align: middle;\n",
       "    }\n",
       "\n",
       "    .dataframe tbody tr th {\n",
       "        vertical-align: top;\n",
       "    }\n",
       "\n",
       "    .dataframe thead th {\n",
       "        text-align: right;\n",
       "    }\n",
       "</style>\n",
       "<table border=\"1\" class=\"dataframe\">\n",
       "  <thead>\n",
       "    <tr style=\"text-align: right;\">\n",
       "      <th></th>\n",
       "      <th>GOL</th>\n",
       "      <th>CVC</th>\n",
       "      <th>WEGE</th>\n",
       "      <th>MGLU</th>\n",
       "      <th>TOTS</th>\n",
       "      <th>BOVA</th>\n",
       "    </tr>\n",
       "  </thead>\n",
       "  <tbody>\n",
       "    <tr>\n",
       "      <th>0</th>\n",
       "      <td>NaN</td>\n",
       "      <td>NaN</td>\n",
       "      <td>NaN</td>\n",
       "      <td>NaN</td>\n",
       "      <td>NaN</td>\n",
       "      <td>NaN</td>\n",
       "    </tr>\n",
       "    <tr>\n",
       "      <th>1</th>\n",
       "      <td>-0.009340</td>\n",
       "      <td>-0.013158</td>\n",
       "      <td>0.006818</td>\n",
       "      <td>0.018792</td>\n",
       "      <td>-0.030726</td>\n",
       "      <td>-0.019890</td>\n",
       "    </tr>\n",
       "    <tr>\n",
       "      <th>2</th>\n",
       "      <td>0.024242</td>\n",
       "      <td>-0.013333</td>\n",
       "      <td>-0.014834</td>\n",
       "      <td>-0.013175</td>\n",
       "      <td>-0.062536</td>\n",
       "      <td>0.005613</td>\n",
       "    </tr>\n",
       "    <tr>\n",
       "      <th>3</th>\n",
       "      <td>-0.043392</td>\n",
       "      <td>-0.008784</td>\n",
       "      <td>-0.011457</td>\n",
       "      <td>0.033380</td>\n",
       "      <td>-0.007070</td>\n",
       "      <td>0.033705</td>\n",
       "    </tr>\n",
       "    <tr>\n",
       "      <th>4</th>\n",
       "      <td>-0.019244</td>\n",
       "      <td>-0.035447</td>\n",
       "      <td>0.016887</td>\n",
       "      <td>-0.007752</td>\n",
       "      <td>0.023220</td>\n",
       "      <td>0.007477</td>\n",
       "    </tr>\n",
       "  </tbody>\n",
       "</table>\n",
       "</div>"
      ],
      "text/plain": [
       "        GOL       CVC      WEGE      MGLU      TOTS      BOVA\n",
       "0       NaN       NaN       NaN       NaN       NaN       NaN\n",
       "1 -0.009340 -0.013158  0.006818  0.018792 -0.030726 -0.019890\n",
       "2  0.024242 -0.013333 -0.014834 -0.013175 -0.062536  0.005613\n",
       "3 -0.043392 -0.008784 -0.011457  0.033380 -0.007070  0.033705\n",
       "4 -0.019244 -0.035447  0.016887 -0.007752  0.023220  0.007477"
      ]
     },
     "execution_count": 15,
     "metadata": {},
     "output_type": "execute_result"
    }
   ],
   "source": [
    "retorno_carteira = (dataset_normalizado / dataset_normalizado.shift(1)) - 1\n",
    "retorno_carteira.head()"
   ]
  },
  {
   "cell_type": "code",
   "execution_count": 23,
   "metadata": {},
   "outputs": [
    {
     "data": {
      "text/plain": [
       "GOL     30.980141\n",
       "CVC     17.498258\n",
       "WEGE    29.975884\n",
       "MGLU    67.061619\n",
       "TOTS    22.505412\n",
       "BOVA    15.675888\n",
       "dtype: float64"
      ]
     },
     "execution_count": 23,
     "metadata": {},
     "output_type": "execute_result"
    }
   ],
   "source": [
    "# retorno anual da carteira\n",
    "retorno_anual = retorno_carteira.mean() * 246 * 100\n",
    "retorno_anual"
   ]
  },
  {
   "cell_type": "code",
   "execution_count": 24,
   "metadata": {},
   "outputs": [
    {
     "data": {
      "text/plain": [
       "1.0"
      ]
     },
     "execution_count": 24,
     "metadata": {},
     "output_type": "execute_result"
    }
   ],
   "source": [
    "pesos_carteira1 = np.array([0.2, 0.2, 0.2, 0.2, 0.2, 0.0])\n",
    "pesos_carteira1.sum()"
   ]
  },
  {
   "cell_type": "code",
   "execution_count": 25,
   "metadata": {},
   "outputs": [
    {
     "data": {
      "text/plain": [
       "33.60426289013698"
      ]
     },
     "execution_count": 25,
     "metadata": {},
     "output_type": "execute_result"
    }
   ],
   "source": [
    "np.dot(retorno_anual, pesos_carteira1)"
   ]
  }
 ],
 "metadata": {
  "kernelspec": {
   "display_name": "Python 3",
   "language": "python",
   "name": "python3"
  },
  "language_info": {
   "codemirror_mode": {
    "name": "ipython",
    "version": 3
   },
   "file_extension": ".py",
   "mimetype": "text/x-python",
   "name": "python",
   "nbconvert_exporter": "python",
   "pygments_lexer": "ipython3",
   "version": "3.8.5"
  }
 },
 "nbformat": 4,
 "nbformat_minor": 4
}
