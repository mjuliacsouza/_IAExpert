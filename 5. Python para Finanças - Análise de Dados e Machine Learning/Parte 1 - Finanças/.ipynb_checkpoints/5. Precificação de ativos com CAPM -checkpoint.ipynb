{
 "cells": [
  {
   "cell_type": "markdown",
   "metadata": {},
   "source": [
    "# Precificação de ativos com CAPM (Capital Asset Pricing Model)"
   ]
  },
  {
   "cell_type": "code",
   "execution_count": 1,
   "metadata": {},
   "outputs": [],
   "source": [
    "import pandas as pd\n",
    "import numpy as np\n",
    "import statistics\n",
    "import math\n",
    "from scipy import stats\n",
    "import seaborn as srn\n",
    "import matplotlib.pyplot as plt\n",
    "srn.set()"
   ]
  },
  {
   "cell_type": "markdown",
   "metadata": {},
   "source": [
    "## CAPM\n",
    "\n",
    "Descreve as relações entre o retorno esperado e o risco, comparando o portfólio com o mercado (IBOVESPA).\n",
    "\n",
    "$$\n",
    "Ri = Rf + \\beta i * (Rm - Rf)\n",
    "$$\n",
    "\n",
    "- $Rm$: retorno esperado do portfólio\n",
    "- $Rf$: retorno sem risco\n",
    "- $\\beta$: comparação entre a carteira e o mercado\n",
    "    - $=1$: fortemente relacionado\n",
    "    - $<1$ (defensivo): menos volátil que o mercado\n",
    "    - $>1$ (agressivo): mais volátil que o mercado\n"
   ]
  },
  {
   "cell_type": "code",
   "execution_count": null,
   "metadata": {},
   "outputs": [],
   "source": []
  },
  {
   "cell_type": "code",
   "execution_count": null,
   "metadata": {},
   "outputs": [],
   "source": []
  }
 ],
 "metadata": {
  "kernelspec": {
   "display_name": "Python 3",
   "language": "python",
   "name": "python3"
  },
  "language_info": {
   "codemirror_mode": {
    "name": "ipython",
    "version": 3
   },
   "file_extension": ".py",
   "mimetype": "text/x-python",
   "name": "python",
   "nbconvert_exporter": "python",
   "pygments_lexer": "ipython3",
   "version": "3.8.5"
  }
 },
 "nbformat": 4,
 "nbformat_minor": 4
}
