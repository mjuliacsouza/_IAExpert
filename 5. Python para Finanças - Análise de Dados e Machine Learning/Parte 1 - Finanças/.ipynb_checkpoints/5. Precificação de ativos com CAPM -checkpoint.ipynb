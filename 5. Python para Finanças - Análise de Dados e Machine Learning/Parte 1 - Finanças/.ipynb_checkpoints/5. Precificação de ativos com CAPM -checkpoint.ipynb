{
 "cells": [
  {
   "cell_type": "markdown",
   "metadata": {},
   "source": [
    "# Precificação de ativos com CAPM (Capital Asset Pricing Model)"
   ]
  },
  {
   "cell_type": "code",
   "execution_count": null,
   "metadata": {},
   "outputs": [],
   "source": [
    "import pandas as pd\n",
    "import numpy as np\n",
    "import statistics\n",
    "import math\n",
    "from scipy import stats\n",
    "import seaborn as srn\n",
    "import matplotlib.pyplot as plt\n",
    "import plotly.express as px\n",
    "srn.set()"
   ]
  },
  {
   "cell_type": "markdown",
   "metadata": {},
   "source": [
    "## CAPM\n",
    "\n",
    "Descreve as relações entre o retorno esperado e o risco, comparando o portfólio com o mercado (IBOVESPA).\n",
    "\n",
    "$$\n",
    "Ri = Rf + \\beta i * (Rm - Rf)\n",
    "$$\n",
    "\n",
    "- $Rm$: retorno esperado do portfólio\n",
    "- $Rf$: retorno sem risco\n",
    "- $\\beta$: comparação entre a carteira e o mercado\n",
    "    - $=1$: fortemente relacionado\n",
    "    - $<1$ (defensivo): menos volátil que o mercado\n",
    "    - $>1$ (agressivo): mais volátil que o mercado\n"
   ]
  },
  {
   "cell_type": "code",
   "execution_count": null,
   "metadata": {},
   "outputs": [],
   "source": [
    "dataset = pd.read_csv('acoes.csv')\n",
    "dataset.drop('Date', axis=1, inplace=True)\n",
    "print(dataset.shape)\n",
    "dataset.head()"
   ]
  },
  {
   "cell_type": "code",
   "execution_count": null,
   "metadata": {},
   "outputs": [],
   "source": [
    "dataset_normalizado = dataset.copy()\n",
    "for i in dataset.columns:\n",
    "    dataset_normalizado[i] = dataset[i]/dataset[i][0]\n",
    "dataset_normalizado.head()"
   ]
  },
  {
   "cell_type": "code",
   "execution_count": null,
   "metadata": {},
   "outputs": [],
   "source": [
    "taxa_retorno = (dataset_normalizado/dataset_normalizado.shift(1)) - 1\n",
    "taxa_retorno.fillna(0, inplace=True)\n",
    "taxa_retorno.head()"
   ]
  },
  {
   "cell_type": "code",
   "execution_count": null,
   "metadata": {},
   "outputs": [],
   "source": [
    "# taxa de retorno anual\n",
    "taxa_retorno.mean() * 246"
   ]
  },
  {
   "cell_type": "markdown",
   "metadata": {},
   "source": [
    "## Cálculo do $\\beta$ \n",
    "\n",
    "### Regressão Linear"
   ]
  },
  {
   "cell_type": "code",
   "execution_count": null,
   "metadata": {},
   "outputs": [],
   "source": [
    "figura = px.scatter(taxa_retorno, x='BOVA', y='MGLU', title='BOVA x MAGALU')\n",
    "figura.show()"
   ]
  },
  {
   "cell_type": "code",
   "execution_count": null,
   "metadata": {},
   "outputs": [],
   "source": [
    "beta, alpha = np.polyfit(x=taxa_retorno['BOVA'], y=taxa_retorno['MGLU'], deg=1)\n",
    "print(f'beta:{beta}')\n",
    "print(f'alpha:{alpha}')"
   ]
  },
  {
   "cell_type": "code",
   "execution_count": null,
   "metadata": {},
   "outputs": [],
   "source": [
    "figura = px.scatter(taxa_retorno, x='BOVA', y='MGLU', title='BOVA x MGLU')\n",
    "figura.add_scatter(x=taxa_retorno['BOVA'], y=beta*taxa_retorno['BOVA']+alpha)\n",
    "figura.show()"
   ]
  },
  {
   "cell_type": "markdown",
   "metadata": {},
   "source": [
    "### Covariância e variância"
   ]
  },
  {
   "cell_type": "code",
   "execution_count": null,
   "metadata": {},
   "outputs": [],
   "source": [
    "matriz_cov = taxa_retorno[['MGLU', 'BOVA']].cov() * 246\n",
    "matriz_cov"
   ]
  },
  {
   "cell_type": "code",
   "execution_count": null,
   "metadata": {},
   "outputs": [],
   "source": [
    "cov_mglu_bova = matriz_cov.iloc[0, 1]\n",
    "cov_mglu_bova"
   ]
  },
  {
   "cell_type": "code",
   "execution_count": null,
   "metadata": {},
   "outputs": [],
   "source": [
    "variancia_bova = taxa_retorno['BOVA'].var() * 246\n",
    "variancia_bova"
   ]
  },
  {
   "cell_type": "code",
   "execution_count": null,
   "metadata": {},
   "outputs": [],
   "source": [
    "beta_mglu = cov_mglu_bova / variancia_bova\n",
    "beta_mglu"
   ]
  },
  {
   "cell_type": "markdown",
   "metadata": {},
   "source": [
    "## Cálculo CAPM para uma ação"
   ]
  },
  {
   "cell_type": "code",
   "execution_count": null,
   "metadata": {},
   "outputs": [],
   "source": []
  }
 ],
 "metadata": {
  "kernelspec": {
   "display_name": "Python 3",
   "language": "python",
   "name": "python3"
  },
  "language_info": {
   "codemirror_mode": {
    "name": "ipython",
    "version": 3
   },
   "file_extension": ".py",
   "mimetype": "text/x-python",
   "name": "python",
   "nbconvert_exporter": "python",
   "pygments_lexer": "ipython3",
   "version": "3.8.5"
  }
 },
 "nbformat": 4,
 "nbformat_minor": 4
}
