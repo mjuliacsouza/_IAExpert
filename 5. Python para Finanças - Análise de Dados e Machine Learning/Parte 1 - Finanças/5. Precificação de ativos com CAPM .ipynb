{
 "cells": [
  {
   "cell_type": "markdown",
   "metadata": {},
   "source": [
    "# Precificação de ativos com CAPM (Capital Asset Pricing Model)"
   ]
  },
  {
   "cell_type": "code",
   "execution_count": 2,
   "metadata": {},
   "outputs": [],
   "source": [
    "import pandas as pd\n",
    "import numpy as np\n",
    "import statistics\n",
    "import math\n",
    "from scipy import stats\n",
    "import seaborn as srn\n",
    "import matplotlib.pyplot as plt\n",
    "import plotly.express as px\n",
    "srn.set()"
   ]
  },
  {
   "cell_type": "markdown",
   "metadata": {},
   "source": [
    "## CAPM\n",
    "\n",
    "Descreve as relações entre o retorno esperado e o risco, comparando o portfólio com o mercado (IBOVESPA).\n",
    "\n",
    "$$\n",
    "Ri = Rf + \\beta i * (Rm - Rf)\n",
    "$$\n",
    "\n",
    "- $Rm$: retorno esperado do portfólio\n",
    "- $Rf$: retorno sem risco\n",
    "- $\\beta$: comparação entre a carteira e o mercado\n",
    "    - $=1$: fortemente relacionado\n",
    "    - $<1$ (defensivo): menos volátil que o mercado\n",
    "    - $>1$ (agressivo): mais volátil que o mercado\n"
   ]
  },
  {
   "cell_type": "code",
   "execution_count": 4,
   "metadata": {},
   "outputs": [
    {
     "name": "stdout",
     "output_type": "stream",
     "text": [
      "(1798, 6)\n"
     ]
    },
    {
     "data": {
      "text/html": [
       "<div>\n",
       "<style scoped>\n",
       "    .dataframe tbody tr th:only-of-type {\n",
       "        vertical-align: middle;\n",
       "    }\n",
       "\n",
       "    .dataframe tbody tr th {\n",
       "        vertical-align: top;\n",
       "    }\n",
       "\n",
       "    .dataframe thead th {\n",
       "        text-align: right;\n",
       "    }\n",
       "</style>\n",
       "<table border=\"1\" class=\"dataframe\">\n",
       "  <thead>\n",
       "    <tr style=\"text-align: right;\">\n",
       "      <th></th>\n",
       "      <th>GOL</th>\n",
       "      <th>CVC</th>\n",
       "      <th>WEGE</th>\n",
       "      <th>MGLU</th>\n",
       "      <th>TOTS</th>\n",
       "      <th>BOVA</th>\n",
       "    </tr>\n",
       "  </thead>\n",
       "  <tbody>\n",
       "    <tr>\n",
       "      <th>0</th>\n",
       "      <td>14.99</td>\n",
       "      <td>15.20</td>\n",
       "      <td>5.923076</td>\n",
       "      <td>0.232812</td>\n",
       "      <td>11.910702</td>\n",
       "      <td>47.259998</td>\n",
       "    </tr>\n",
       "    <tr>\n",
       "      <th>1</th>\n",
       "      <td>14.85</td>\n",
       "      <td>15.00</td>\n",
       "      <td>5.963461</td>\n",
       "      <td>0.237187</td>\n",
       "      <td>11.544731</td>\n",
       "      <td>46.320000</td>\n",
       "    </tr>\n",
       "    <tr>\n",
       "      <th>2</th>\n",
       "      <td>15.21</td>\n",
       "      <td>14.80</td>\n",
       "      <td>5.875000</td>\n",
       "      <td>0.234062</td>\n",
       "      <td>10.822770</td>\n",
       "      <td>46.580002</td>\n",
       "    </tr>\n",
       "    <tr>\n",
       "      <th>3</th>\n",
       "      <td>14.55</td>\n",
       "      <td>14.67</td>\n",
       "      <td>5.807692</td>\n",
       "      <td>0.241875</td>\n",
       "      <td>10.746248</td>\n",
       "      <td>48.150002</td>\n",
       "    </tr>\n",
       "    <tr>\n",
       "      <th>4</th>\n",
       "      <td>14.27</td>\n",
       "      <td>14.15</td>\n",
       "      <td>5.905769</td>\n",
       "      <td>0.240000</td>\n",
       "      <td>10.995774</td>\n",
       "      <td>48.509998</td>\n",
       "    </tr>\n",
       "  </tbody>\n",
       "</table>\n",
       "</div>"
      ],
      "text/plain": [
       "     GOL    CVC      WEGE      MGLU       TOTS       BOVA\n",
       "0  14.99  15.20  5.923076  0.232812  11.910702  47.259998\n",
       "1  14.85  15.00  5.963461  0.237187  11.544731  46.320000\n",
       "2  15.21  14.80  5.875000  0.234062  10.822770  46.580002\n",
       "3  14.55  14.67  5.807692  0.241875  10.746248  48.150002\n",
       "4  14.27  14.15  5.905769  0.240000  10.995774  48.509998"
      ]
     },
     "execution_count": 4,
     "metadata": {},
     "output_type": "execute_result"
    }
   ],
   "source": [
    "dataset = pd.read_csv('acoes.csv')\n",
    "dataset.drop('Date', axis=1, inplace=True)\n",
    "print(dataset.shape)\n",
    "dataset.head()"
   ]
  },
  {
   "cell_type": "code",
   "execution_count": 7,
   "metadata": {},
   "outputs": [
    {
     "data": {
      "text/html": [
       "<div>\n",
       "<style scoped>\n",
       "    .dataframe tbody tr th:only-of-type {\n",
       "        vertical-align: middle;\n",
       "    }\n",
       "\n",
       "    .dataframe tbody tr th {\n",
       "        vertical-align: top;\n",
       "    }\n",
       "\n",
       "    .dataframe thead th {\n",
       "        text-align: right;\n",
       "    }\n",
       "</style>\n",
       "<table border=\"1\" class=\"dataframe\">\n",
       "  <thead>\n",
       "    <tr style=\"text-align: right;\">\n",
       "      <th></th>\n",
       "      <th>GOL</th>\n",
       "      <th>CVC</th>\n",
       "      <th>WEGE</th>\n",
       "      <th>MGLU</th>\n",
       "      <th>TOTS</th>\n",
       "      <th>BOVA</th>\n",
       "    </tr>\n",
       "  </thead>\n",
       "  <tbody>\n",
       "    <tr>\n",
       "      <th>0</th>\n",
       "      <td>1.000000</td>\n",
       "      <td>1.000000</td>\n",
       "      <td>1.000000</td>\n",
       "      <td>1.000000</td>\n",
       "      <td>1.000000</td>\n",
       "      <td>1.000000</td>\n",
       "    </tr>\n",
       "    <tr>\n",
       "      <th>1</th>\n",
       "      <td>0.990660</td>\n",
       "      <td>0.986842</td>\n",
       "      <td>1.006818</td>\n",
       "      <td>1.018792</td>\n",
       "      <td>0.969274</td>\n",
       "      <td>0.980110</td>\n",
       "    </tr>\n",
       "    <tr>\n",
       "      <th>2</th>\n",
       "      <td>1.014676</td>\n",
       "      <td>0.973684</td>\n",
       "      <td>0.991883</td>\n",
       "      <td>1.005369</td>\n",
       "      <td>0.908659</td>\n",
       "      <td>0.985612</td>\n",
       "    </tr>\n",
       "    <tr>\n",
       "      <th>3</th>\n",
       "      <td>0.970647</td>\n",
       "      <td>0.965132</td>\n",
       "      <td>0.980520</td>\n",
       "      <td>1.038928</td>\n",
       "      <td>0.902235</td>\n",
       "      <td>1.018832</td>\n",
       "    </tr>\n",
       "    <tr>\n",
       "      <th>4</th>\n",
       "      <td>0.951968</td>\n",
       "      <td>0.930921</td>\n",
       "      <td>0.997078</td>\n",
       "      <td>1.030875</td>\n",
       "      <td>0.923184</td>\n",
       "      <td>1.026449</td>\n",
       "    </tr>\n",
       "  </tbody>\n",
       "</table>\n",
       "</div>"
      ],
      "text/plain": [
       "        GOL       CVC      WEGE      MGLU      TOTS      BOVA\n",
       "0  1.000000  1.000000  1.000000  1.000000  1.000000  1.000000\n",
       "1  0.990660  0.986842  1.006818  1.018792  0.969274  0.980110\n",
       "2  1.014676  0.973684  0.991883  1.005369  0.908659  0.985612\n",
       "3  0.970647  0.965132  0.980520  1.038928  0.902235  1.018832\n",
       "4  0.951968  0.930921  0.997078  1.030875  0.923184  1.026449"
      ]
     },
     "execution_count": 7,
     "metadata": {},
     "output_type": "execute_result"
    }
   ],
   "source": [
    "dataset_normalizado = dataset.copy()\n",
    "for i in dataset.columns:\n",
    "    dataset_normalizado[i] = dataset[i]/dataset[i][0]\n",
    "dataset_normalizado.head()"
   ]
  },
  {
   "cell_type": "code",
   "execution_count": 10,
   "metadata": {},
   "outputs": [
    {
     "data": {
      "text/html": [
       "<div>\n",
       "<style scoped>\n",
       "    .dataframe tbody tr th:only-of-type {\n",
       "        vertical-align: middle;\n",
       "    }\n",
       "\n",
       "    .dataframe tbody tr th {\n",
       "        vertical-align: top;\n",
       "    }\n",
       "\n",
       "    .dataframe thead th {\n",
       "        text-align: right;\n",
       "    }\n",
       "</style>\n",
       "<table border=\"1\" class=\"dataframe\">\n",
       "  <thead>\n",
       "    <tr style=\"text-align: right;\">\n",
       "      <th></th>\n",
       "      <th>GOL</th>\n",
       "      <th>CVC</th>\n",
       "      <th>WEGE</th>\n",
       "      <th>MGLU</th>\n",
       "      <th>TOTS</th>\n",
       "      <th>BOVA</th>\n",
       "    </tr>\n",
       "  </thead>\n",
       "  <tbody>\n",
       "    <tr>\n",
       "      <th>0</th>\n",
       "      <td>0.000000</td>\n",
       "      <td>0.000000</td>\n",
       "      <td>0.000000</td>\n",
       "      <td>0.000000</td>\n",
       "      <td>0.000000</td>\n",
       "      <td>0.000000</td>\n",
       "    </tr>\n",
       "    <tr>\n",
       "      <th>1</th>\n",
       "      <td>-0.009340</td>\n",
       "      <td>-0.013158</td>\n",
       "      <td>0.006818</td>\n",
       "      <td>0.018792</td>\n",
       "      <td>-0.030726</td>\n",
       "      <td>-0.019890</td>\n",
       "    </tr>\n",
       "    <tr>\n",
       "      <th>2</th>\n",
       "      <td>0.024242</td>\n",
       "      <td>-0.013333</td>\n",
       "      <td>-0.014834</td>\n",
       "      <td>-0.013175</td>\n",
       "      <td>-0.062536</td>\n",
       "      <td>0.005613</td>\n",
       "    </tr>\n",
       "    <tr>\n",
       "      <th>3</th>\n",
       "      <td>-0.043392</td>\n",
       "      <td>-0.008784</td>\n",
       "      <td>-0.011457</td>\n",
       "      <td>0.033380</td>\n",
       "      <td>-0.007070</td>\n",
       "      <td>0.033705</td>\n",
       "    </tr>\n",
       "    <tr>\n",
       "      <th>4</th>\n",
       "      <td>-0.019244</td>\n",
       "      <td>-0.035447</td>\n",
       "      <td>0.016887</td>\n",
       "      <td>-0.007752</td>\n",
       "      <td>0.023220</td>\n",
       "      <td>0.007477</td>\n",
       "    </tr>\n",
       "  </tbody>\n",
       "</table>\n",
       "</div>"
      ],
      "text/plain": [
       "        GOL       CVC      WEGE      MGLU      TOTS      BOVA\n",
       "0  0.000000  0.000000  0.000000  0.000000  0.000000  0.000000\n",
       "1 -0.009340 -0.013158  0.006818  0.018792 -0.030726 -0.019890\n",
       "2  0.024242 -0.013333 -0.014834 -0.013175 -0.062536  0.005613\n",
       "3 -0.043392 -0.008784 -0.011457  0.033380 -0.007070  0.033705\n",
       "4 -0.019244 -0.035447  0.016887 -0.007752  0.023220  0.007477"
      ]
     },
     "execution_count": 10,
     "metadata": {},
     "output_type": "execute_result"
    }
   ],
   "source": [
    "taxa_retorno = (dataset_normalizado/dataset_normalizado.shift(1)) - 1\n",
    "taxa_retorno.fillna(0, inplace=True)\n",
    "taxa_retorno.head()"
   ]
  },
  {
   "cell_type": "code",
   "execution_count": 11,
   "metadata": {},
   "outputs": [
    {
     "data": {
      "text/plain": [
       "GOL     0.309629\n",
       "CVC     0.174885\n",
       "WEGE    0.299592\n",
       "MGLU    0.670243\n",
       "TOTS    0.224929\n",
       "BOVA    0.156672\n",
       "dtype: float64"
      ]
     },
     "execution_count": 11,
     "metadata": {},
     "output_type": "execute_result"
    }
   ],
   "source": [
    "# taxa de retorno anual\n",
    "taxa_retorno.mean() * 246"
   ]
  }
 ],
 "metadata": {
  "kernelspec": {
   "display_name": "Python 3",
   "language": "python",
   "name": "python3"
  },
  "language_info": {
   "codemirror_mode": {
    "name": "ipython",
    "version": 3
   },
   "file_extension": ".py",
   "mimetype": "text/x-python",
   "name": "python",
   "nbconvert_exporter": "python",
   "pygments_lexer": "ipython3",
   "version": "3.8.5"
  }
 },
 "nbformat": 4,
 "nbformat_minor": 4
}
