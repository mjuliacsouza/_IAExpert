{
 "cells": [
  {
   "cell_type": "markdown",
   "metadata": {},
   "source": [
    "# Taxa de Retorno de Ações"
   ]
  },
  {
   "cell_type": "code",
   "execution_count": 3,
   "metadata": {},
   "outputs": [],
   "source": [
    "import pandas as pd\n",
    "import numpy as np\n",
    "import matplotlib.pyplot as plt\n",
    "import seaborn  as srn\n",
    "srn.set()"
   ]
  },
  {
   "cell_type": "markdown",
   "metadata": {},
   "source": [
    "## Taxa de retorno simples\n",
    "\n",
    "- > RS = ((preço final - preço inicial) / preço inicial) * 100\n",
    "- > RS = ((preço final - preço inicial + dividendos) / preço inicial) * 100\n",
    "- > LUCRO = ((valor final * numero de ações) + (dividendos * numero de ações)) - (valor inicial * numero de ações) - taxa de compra - taxa de venda\n",
    "- > Preço final de venda = ((preço final + dividendo) * numero de ações) - taxa de venda\n",
    "- > Preço inicial de venda = (preço inicial * numero de ações) + taxa de compra\n",
    "- > RS = ((preco final de venda - preço inicial de venda)/preço inicial de venda) * 100"
   ]
  }
 ],
 "metadata": {
  "kernelspec": {
   "display_name": "Python 3",
   "language": "python",
   "name": "python3"
  },
  "language_info": {
   "codemirror_mode": {
    "name": "ipython",
    "version": 3
   },
   "file_extension": ".py",
   "mimetype": "text/x-python",
   "name": "python",
   "nbconvert_exporter": "python",
   "pygments_lexer": "ipython3",
   "version": "3.8.5"
  }
 },
 "nbformat": 4,
 "nbformat_minor": 4
}
